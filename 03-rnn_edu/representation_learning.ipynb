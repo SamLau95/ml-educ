{
 "cells": [
  {
   "cell_type": "markdown",
   "metadata": {},
   "source": [
    "# Visualizing representations of problems and skills \n",
    "\n",
    "**Yifat Amir, Allen Guo, Sam Lau**\n",
    "\n",
    "If you are viewing the PDF, the graphs will be rendered more nicely at http://www.samlau.me/ml-educ/03-rnn_edu/representation_learning.html."
   ]
  },
  {
   "cell_type": "code",
   "execution_count": 57,
   "metadata": {},
   "outputs": [],
   "source": [
    "import pandas as pd\n",
    "import numpy as np\n",
    "import json\n",
    "import seaborn as sns\n",
    "%matplotlib inline\n",
    "import matplotlib.pyplot as plt\n",
    "sns.set()\n",
    "sns.set_context('talk')"
   ]
  },
  {
   "cell_type": "code",
   "execution_count": 6,
   "metadata": {},
   "outputs": [
    {
     "data": {
      "text/plain": [
       "111"
      ]
     },
     "execution_count": 6,
     "metadata": {},
     "output_type": "execute_result"
    }
   ],
   "source": [
    "skill_df = pd.read_csv('skill.tsv', sep='\\t').drop('Unnamed: 0', axis=1)\n",
    "skill_dict = {}\n",
    "with open('skill_dict.json', 'r', encoding='utf-8') as f:\n",
    "    loaded = json.load(f)\n",
    "    for k, v in loaded.items():\n",
    "        skill_dict[k] = int(v)\n",
    "\n",
    "skill_num = len(skill_dict) + 1 # including 0\n",
    "skill_num"
   ]
  },
  {
   "cell_type": "code",
   "execution_count": 7,
   "metadata": {},
   "outputs": [
    {
     "data": {
      "text/html": [
       "<div>\n",
       "<style>\n",
       "    .dataframe thead tr:only-child th {\n",
       "        text-align: right;\n",
       "    }\n",
       "\n",
       "    .dataframe thead th {\n",
       "        text-align: left;\n",
       "    }\n",
       "\n",
       "    .dataframe tbody tr th {\n",
       "        vertical-align: top;\n",
       "    }\n",
       "</style>\n",
       "<table border=\"1\" class=\"dataframe\">\n",
       "  <thead>\n",
       "    <tr style=\"text-align: right;\">\n",
       "      <th></th>\n",
       "      <th>student_id</th>\n",
       "      <th>s0</th>\n",
       "      <th>s1</th>\n",
       "      <th>s2</th>\n",
       "      <th>s3</th>\n",
       "      <th>s4</th>\n",
       "      <th>s5</th>\n",
       "      <th>s6</th>\n",
       "      <th>s7</th>\n",
       "      <th>s8</th>\n",
       "      <th>...</th>\n",
       "      <th>s90</th>\n",
       "      <th>s91</th>\n",
       "      <th>s92</th>\n",
       "      <th>s93</th>\n",
       "      <th>s94</th>\n",
       "      <th>s95</th>\n",
       "      <th>s96</th>\n",
       "      <th>s97</th>\n",
       "      <th>s98</th>\n",
       "      <th>s99</th>\n",
       "    </tr>\n",
       "  </thead>\n",
       "  <tbody>\n",
       "    <tr>\n",
       "      <th>0</th>\n",
       "      <td>64525</td>\n",
       "      <td>1</td>\n",
       "      <td>1</td>\n",
       "      <td>2</td>\n",
       "      <td>2</td>\n",
       "      <td>2</td>\n",
       "      <td>2</td>\n",
       "      <td>2</td>\n",
       "      <td>2</td>\n",
       "      <td>2</td>\n",
       "      <td>...</td>\n",
       "      <td>15</td>\n",
       "      <td>15</td>\n",
       "      <td>15</td>\n",
       "      <td>15</td>\n",
       "      <td>16</td>\n",
       "      <td>16</td>\n",
       "      <td>17</td>\n",
       "      <td>18</td>\n",
       "      <td>18</td>\n",
       "      <td>18</td>\n",
       "    </tr>\n",
       "    <tr>\n",
       "      <th>1</th>\n",
       "      <td>70363</td>\n",
       "      <td>1</td>\n",
       "      <td>1</td>\n",
       "      <td>1</td>\n",
       "      <td>1</td>\n",
       "      <td>2</td>\n",
       "      <td>2</td>\n",
       "      <td>2</td>\n",
       "      <td>2</td>\n",
       "      <td>2</td>\n",
       "      <td>...</td>\n",
       "      <td>8</td>\n",
       "      <td>8</td>\n",
       "      <td>8</td>\n",
       "      <td>8</td>\n",
       "      <td>8</td>\n",
       "      <td>9</td>\n",
       "      <td>9</td>\n",
       "      <td>9</td>\n",
       "      <td>9</td>\n",
       "      <td>9</td>\n",
       "    </tr>\n",
       "    <tr>\n",
       "      <th>2</th>\n",
       "      <td>70677</td>\n",
       "      <td>1</td>\n",
       "      <td>1</td>\n",
       "      <td>5</td>\n",
       "      <td>5</td>\n",
       "      <td>5</td>\n",
       "      <td>5</td>\n",
       "      <td>5</td>\n",
       "      <td>5</td>\n",
       "      <td>5</td>\n",
       "      <td>...</td>\n",
       "      <td>12</td>\n",
       "      <td>12</td>\n",
       "      <td>12</td>\n",
       "      <td>12</td>\n",
       "      <td>12</td>\n",
       "      <td>12</td>\n",
       "      <td>12</td>\n",
       "      <td>12</td>\n",
       "      <td>12</td>\n",
       "      <td>15</td>\n",
       "    </tr>\n",
       "    <tr>\n",
       "      <th>3</th>\n",
       "      <td>70695</td>\n",
       "      <td>1</td>\n",
       "      <td>1</td>\n",
       "      <td>3</td>\n",
       "      <td>7</td>\n",
       "      <td>7</td>\n",
       "      <td>7</td>\n",
       "      <td>7</td>\n",
       "      <td>7</td>\n",
       "      <td>7</td>\n",
       "      <td>...</td>\n",
       "      <td>33</td>\n",
       "      <td>33</td>\n",
       "      <td>33</td>\n",
       "      <td>33</td>\n",
       "      <td>33</td>\n",
       "      <td>33</td>\n",
       "      <td>33</td>\n",
       "      <td>33</td>\n",
       "      <td>33</td>\n",
       "      <td>33</td>\n",
       "    </tr>\n",
       "    <tr>\n",
       "      <th>4</th>\n",
       "      <td>70699</td>\n",
       "      <td>1</td>\n",
       "      <td>1</td>\n",
       "      <td>2</td>\n",
       "      <td>6</td>\n",
       "      <td>6</td>\n",
       "      <td>6</td>\n",
       "      <td>6</td>\n",
       "      <td>6</td>\n",
       "      <td>6</td>\n",
       "      <td>...</td>\n",
       "      <td>42</td>\n",
       "      <td>42</td>\n",
       "      <td>42</td>\n",
       "      <td>44</td>\n",
       "      <td>44</td>\n",
       "      <td>44</td>\n",
       "      <td>45</td>\n",
       "      <td>46</td>\n",
       "      <td>46</td>\n",
       "      <td>46</td>\n",
       "    </tr>\n",
       "  </tbody>\n",
       "</table>\n",
       "<p>5 rows × 101 columns</p>\n",
       "</div>"
      ],
      "text/plain": [
       "   student_id  s0  s1  s2  s3  s4  s5  s6  s7  s8 ...   s90  s91  s92  s93  \\\n",
       "0       64525   1   1   2   2   2   2   2   2   2 ...    15   15   15   15   \n",
       "1       70363   1   1   1   1   2   2   2   2   2 ...     8    8    8    8   \n",
       "2       70677   1   1   5   5   5   5   5   5   5 ...    12   12   12   12   \n",
       "3       70695   1   1   3   7   7   7   7   7   7 ...    33   33   33   33   \n",
       "4       70699   1   1   2   6   6   6   6   6   6 ...    42   42   42   44   \n",
       "\n",
       "   s94  s95  s96  s97  s98  s99  \n",
       "0   16   16   17   18   18   18  \n",
       "1    8    9    9    9    9    9  \n",
       "2   12   12   12   12   12   15  \n",
       "3   33   33   33   33   33   33  \n",
       "4   44   44   45   46   46   46  \n",
       "\n",
       "[5 rows x 101 columns]"
      ]
     },
     "execution_count": 7,
     "metadata": {},
     "output_type": "execute_result"
    }
   ],
   "source": [
    "skill_df.head()"
   ]
  },
  {
   "cell_type": "code",
   "execution_count": 44,
   "metadata": {},
   "outputs": [
    {
     "data": {
      "text/html": [
       "<div>\n",
       "<style>\n",
       "    .dataframe thead tr:only-child th {\n",
       "        text-align: right;\n",
       "    }\n",
       "\n",
       "    .dataframe thead th {\n",
       "        text-align: left;\n",
       "    }\n",
       "\n",
       "    .dataframe tbody tr th {\n",
       "        vertical-align: top;\n",
       "    }\n",
       "</style>\n",
       "<table border=\"1\" class=\"dataframe\">\n",
       "  <thead>\n",
       "    <tr style=\"text-align: right;\">\n",
       "      <th></th>\n",
       "      <th>skill</th>\n",
       "    </tr>\n",
       "    <tr>\n",
       "      <th>student_id</th>\n",
       "      <th></th>\n",
       "    </tr>\n",
       "  </thead>\n",
       "  <tbody>\n",
       "    <tr>\n",
       "      <th>0</th>\n",
       "      <td>[1, 1, 2, 2, 2, 2, 2, 2, 2, 2, 2, 2, 2, 2, 3, ...</td>\n",
       "    </tr>\n",
       "    <tr>\n",
       "      <th>1</th>\n",
       "      <td>[1, 1, 1, 1, 2, 2, 2, 2, 2, 2, 3, 3, 3, 4, 4, ...</td>\n",
       "    </tr>\n",
       "    <tr>\n",
       "      <th>2</th>\n",
       "      <td>[1, 1, 5, 5, 5, 5, 5, 5, 5, 5, 5, 5, 6, 6, 6, ...</td>\n",
       "    </tr>\n",
       "    <tr>\n",
       "      <th>3</th>\n",
       "      <td>[1, 1, 3, 7, 7, 7, 7, 7, 7, 7, 7, 7, 7, 8, 8, ...</td>\n",
       "    </tr>\n",
       "    <tr>\n",
       "      <th>4</th>\n",
       "      <td>[1, 1, 2, 6, 6, 6, 6, 6, 6, 7, 7, 7, 7, 7, 7, ...</td>\n",
       "    </tr>\n",
       "  </tbody>\n",
       "</table>\n",
       "</div>"
      ],
      "text/plain": [
       "                                                        skill\n",
       "student_id                                                   \n",
       "0           [1, 1, 2, 2, 2, 2, 2, 2, 2, 2, 2, 2, 2, 2, 3, ...\n",
       "1           [1, 1, 1, 1, 2, 2, 2, 2, 2, 2, 3, 3, 3, 4, 4, ...\n",
       "2           [1, 1, 5, 5, 5, 5, 5, 5, 5, 5, 5, 5, 6, 6, 6, ...\n",
       "3           [1, 1, 3, 7, 7, 7, 7, 7, 7, 7, 7, 7, 7, 8, 8, ...\n",
       "4           [1, 1, 2, 6, 6, 6, 6, 6, 6, 7, 7, 7, 7, 7, 7, ..."
      ]
     },
     "execution_count": 44,
     "metadata": {},
     "output_type": "execute_result"
    }
   ],
   "source": [
    "sentences = (skill_df\n",
    " .iloc[:, 1:]\n",
    " .stack()\n",
    " .reset_index()\n",
    " .rename(columns={'level_0': 'student_id', 0: 'skill'})\n",
    " .drop('level_1', axis=1)\n",
    " .astype({'skill': str})\n",
    " .groupby('student_id')\n",
    " .agg(lambda skills: list(skills))\n",
    ")\n",
    "sentences.head()"
   ]
  },
  {
   "cell_type": "markdown",
   "metadata": {},
   "source": [
    "## Question 1: Training"
   ]
  },
  {
   "cell_type": "code",
   "execution_count": 46,
   "metadata": {},
   "outputs": [
    {
     "data": {
      "text/plain": [
       "<gensim.models.word2vec.Word2Vec at 0x11ebe0358>"
      ]
     },
     "execution_count": 46,
     "metadata": {},
     "output_type": "execute_result"
    }
   ],
   "source": [
    "from gensim.models.word2vec import Word2Vec\n",
    "\n",
    "params = {\n",
    "    'size': 20,\n",
    "    'window': 10,\n",
    "    'min_count': 10,\n",
    "    'iter': 30,\n",
    "}\n",
    "\n",
    "model = Word2Vec(sentences=sentences['skill'], **params)\n",
    "model"
   ]
  },
  {
   "cell_type": "code",
   "execution_count": 28,
   "metadata": {},
   "outputs": [
    {
     "data": {
      "text/plain": [
       "array([-0.76279932,  2.07639027, -0.11014464,  1.75695968, -1.60743272,\n",
       "       -3.45588779,  1.10591328, -0.96971965,  3.56253886,  0.13564005,\n",
       "        1.29442453,  3.53213596, -2.52763629, -1.42959082,  5.8403554 ,\n",
       "       -2.68304086, -1.71696377,  2.94867325, -1.92379141, -4.78013945], dtype=float32)"
      ]
     },
     "execution_count": 28,
     "metadata": {},
     "output_type": "execute_result"
    }
   ],
   "source": [
    "model"
   ]
  },
  {
   "cell_type": "markdown",
   "metadata": {},
   "source": [
    "## Question 2: Dimensionality reduction"
   ]
  },
  {
   "cell_type": "code",
   "execution_count": 52,
   "metadata": {},
   "outputs": [
    {
     "data": {
      "text/plain": [
       "(80, 20)"
      ]
     },
     "execution_count": 52,
     "metadata": {},
     "output_type": "execute_result"
    }
   ],
   "source": [
    "from sklearn.manifold import TSNE\n",
    "\n",
    "model.wv.syn0.shape"
   ]
  },
  {
   "cell_type": "code",
   "execution_count": 53,
   "metadata": {},
   "outputs": [
    {
     "data": {
      "text/plain": [
       "(80, 2)"
      ]
     },
     "execution_count": 53,
     "metadata": {},
     "output_type": "execute_result"
    }
   ],
   "source": [
    "X = model.wv.syn0\n",
    "X_trans = TSNE(n_components=2).fit_transform(X)\n",
    "X_trans.shape"
   ]
  },
  {
   "cell_type": "code",
   "execution_count": 80,
   "metadata": {},
   "outputs": [
    {
     "data": {
      "text/html": [
       "<div>\n",
       "<style>\n",
       "    .dataframe thead tr:only-child th {\n",
       "        text-align: right;\n",
       "    }\n",
       "\n",
       "    .dataframe thead th {\n",
       "        text-align: left;\n",
       "    }\n",
       "\n",
       "    .dataframe tbody tr th {\n",
       "        vertical-align: top;\n",
       "    }\n",
       "</style>\n",
       "<table border=\"1\" class=\"dataframe\">\n",
       "  <thead>\n",
       "    <tr style=\"text-align: right;\">\n",
       "      <th></th>\n",
       "      <th>name</th>\n",
       "    </tr>\n",
       "    <tr>\n",
       "      <th>skill_id</th>\n",
       "      <th></th>\n",
       "    </tr>\n",
       "  </thead>\n",
       "  <tbody>\n",
       "    <tr>\n",
       "      <th>86</th>\n",
       "      <td>Order of Operations All</td>\n",
       "    </tr>\n",
       "    <tr>\n",
       "      <th>108</th>\n",
       "      <td>Simplifying Expressions positive exponents</td>\n",
       "    </tr>\n",
       "    <tr>\n",
       "      <th>27</th>\n",
       "      <td>Perimeter of a Polygon</td>\n",
       "    </tr>\n",
       "    <tr>\n",
       "      <th>14</th>\n",
       "      <td>Probability of Two Distinct Events</td>\n",
       "    </tr>\n",
       "    <tr>\n",
       "      <th>9</th>\n",
       "      <td>Mean</td>\n",
       "    </tr>\n",
       "  </tbody>\n",
       "</table>\n",
       "</div>"
      ],
      "text/plain": [
       "                                                name\n",
       "skill_id                                            \n",
       "86                           Order of Operations All\n",
       "108       Simplifying Expressions positive exponents\n",
       "27                            Perimeter of a Polygon\n",
       "14                Probability of Two Distinct Events\n",
       "9                                               Mean"
      ]
     },
     "execution_count": 80,
     "metadata": {},
     "output_type": "execute_result"
    }
   ],
   "source": [
    "sk_id_df = (pd.DataFrame(list(skill_dict.items()), columns=['name', 'skill_id'])\n",
    "            .astype({'skill_id': str})\n",
    "            .set_index('skill_id')\n",
    "           )\n",
    "sk_id_df.head()"
   ]
  },
  {
   "cell_type": "code",
   "execution_count": 82,
   "metadata": {},
   "outputs": [
    {
     "data": {
      "text/html": [
       "<div>\n",
       "<style>\n",
       "    .dataframe thead tr:only-child th {\n",
       "        text-align: right;\n",
       "    }\n",
       "\n",
       "    .dataframe thead th {\n",
       "        text-align: left;\n",
       "    }\n",
       "\n",
       "    .dataframe tbody tr th {\n",
       "        vertical-align: top;\n",
       "    }\n",
       "</style>\n",
       "<table border=\"1\" class=\"dataframe\">\n",
       "  <thead>\n",
       "    <tr style=\"text-align: right;\">\n",
       "      <th></th>\n",
       "      <th>x</th>\n",
       "      <th>y</th>\n",
       "      <th>name</th>\n",
       "    </tr>\n",
       "  </thead>\n",
       "  <tbody>\n",
       "    <tr>\n",
       "      <th>7</th>\n",
       "      <td>2.272880</td>\n",
       "      <td>22.902727</td>\n",
       "      <td>Table</td>\n",
       "    </tr>\n",
       "    <tr>\n",
       "      <th>30</th>\n",
       "      <td>-10.199936</td>\n",
       "      <td>-5.702681</td>\n",
       "      <td>Conversion of Fraction Decimals Percents</td>\n",
       "    </tr>\n",
       "    <tr>\n",
       "      <th>8</th>\n",
       "      <td>0.922563</td>\n",
       "      <td>20.461325</td>\n",
       "      <td>Venn Diagram</td>\n",
       "    </tr>\n",
       "    <tr>\n",
       "      <th>2</th>\n",
       "      <td>12.585614</td>\n",
       "      <td>21.643568</td>\n",
       "      <td>Circle Graph</td>\n",
       "    </tr>\n",
       "    <tr>\n",
       "      <th>33</th>\n",
       "      <td>-4.746242</td>\n",
       "      <td>-8.102057</td>\n",
       "      <td>Ordering Fractions</td>\n",
       "    </tr>\n",
       "  </tbody>\n",
       "</table>\n",
       "</div>"
      ],
      "text/plain": [
       "            x          y                                      name\n",
       "7    2.272880  22.902727                                     Table\n",
       "30 -10.199936  -5.702681  Conversion of Fraction Decimals Percents\n",
       "8    0.922563  20.461325                              Venn Diagram\n",
       "2   12.585614  21.643568                              Circle Graph\n",
       "33  -4.746242  -8.102057                        Ordering Fractions"
      ]
     },
     "execution_count": 82,
     "metadata": {},
     "output_type": "execute_result"
    }
   ],
   "source": [
    "export = pd.DataFrame(X_trans, index=model.wv.index2word, columns=['x', 'y']).join(sk_id_df)\n",
    "export.head()"
   ]
  },
  {
   "cell_type": "code",
   "execution_count": 83,
   "metadata": {},
   "outputs": [],
   "source": [
    "export.to_csv('tsne_skills.tsv', sep='\\t', index=False)"
   ]
  },
  {
   "cell_type": "code",
   "execution_count": 86,
   "metadata": {},
   "outputs": [
    {
     "name": "stdout",
     "output_type": "stream",
     "text": [
      "x\ty\tname\r\n",
      "2.2728798389434814\t22.902727127075195\tTable\r\n",
      "-10.199935913085938\t-5.702680587768555\tConversion of Fraction Decimals Percents\r\n",
      "0.9225633144378662\t20.46132469177246\tVenn Diagram\r\n",
      "12.585614204406738\t21.64356803894043\tCircle Graph\r\n",
      "-4.746241569519043\t-8.102057456970215\tOrdering Fractions\r\n",
      "4.523916244506836\t21.230213165283203\tStem and Leaf Plot\r\n",
      "-7.395717620849609\t-7.834371566772461\tOrdering Positive Decimals\r\n",
      "-1.8299428224563599\t18.463851928710938\tMedian\r\n",
      "13.507652282714844\t19.07671356201172\tBox and Whisker\r\n"
     ]
    }
   ],
   "source": [
    "!head tsne_skills.tsv\n",
    "!cp tsne_skills.tsv ../../d3-scatterplot/"
   ]
  },
  {
   "cell_type": "markdown",
   "metadata": {},
   "source": [
    "### d3-scatterplot Visualization:\n",
    "\n",
    "![](skills_scatter.png)"
   ]
  },
  {
   "cell_type": "markdown",
   "metadata": {},
   "source": [
    "## Question 3\n",
    "\n",
    "We notice that similar skills are close together in the visualization. For example, Mode is immediately next to Mean and Median, and Slope is next to Finding Slope From Equation.\n",
    "\n",
    "It also looks like skills that are far away are less related. For example, Order of Operations All is far from Square Root on the plot and these skills are less related. This implies that few students did both Order of Operations and Square Roots in the same problem sequence.\n",
    "\n",
    "The proximity of skills can be interpreted as how often these skills were practiced by students sequentially."
   ]
  },
  {
   "cell_type": "markdown",
   "metadata": {},
   "source": [
    "## Question 4"
   ]
  },
  {
   "cell_type": "code",
   "execution_count": 132,
   "metadata": {},
   "outputs": [],
   "source": [
    "import plotly\n",
    "import plotly.plotly as py\n",
    "import plotly.graph_objs as go\n",
    "\n",
    "def train_reduce(sentences, params):\n",
    "    model = Word2Vec(sentences=sentences, **params)\n",
    "    \n",
    "    X = model.wv.syn0\n",
    "    X_trans = TSNE(n_components=2).fit_transform(X)\n",
    "    tsne_model = pd.DataFrame(X_trans, index=model.wv.index2word, columns=['x', 'y']).join(sk_id_df)\n",
    "    return tsne_model\n",
    "    \n",
    "def tsne_plot(name, points, color=None):\n",
    "    if color is None:\n",
    "        color = 0\n",
    "        \n",
    "    trace = go.Scatter(\n",
    "        x = points['x'],\n",
    "        y = points['y'],\n",
    "        text = points['name'],\n",
    "        mode = 'markers',\n",
    "        marker=dict(\n",
    "            size='12',\n",
    "            color = color,\n",
    "            colorscale='Viridis',\n",
    "            showscale=True\n",
    "        )\n",
    "    )\n",
    "    data = [trace]\n",
    "\n",
    "    return py.iplot(data, filename=name)\n",
    "\n",
    "def train_reduce_plot(name, sentences, params, color=None):\n",
    "    return tsne_plot(name, train_reduce(sentences, params), color)"
   ]
  },
  {
   "cell_type": "code",
   "execution_count": 133,
   "metadata": {},
   "outputs": [
    {
     "data": {
      "text/html": [
       "<iframe id=\"igraph\" scrolling=\"no\" style=\"border:none;\" seamless=\"seamless\" src=\"https://plot.ly/~SamLau95/14.embed\" height=\"525px\" width=\"100%\"></iframe>"
      ],
      "text/plain": [
       "<plotly.tools.PlotlyDisplay object>"
      ]
     },
     "execution_count": 133,
     "metadata": {},
     "output_type": "execute_result"
    }
   ],
   "source": [
    "train_reduce_plot('default', sentences['skill'], {\n",
    "    'size': 20,\n",
    "    'window': 10,\n",
    "    'min_count': 10,\n",
    "    'iter': 30,\n",
    "})"
   ]
  },
  {
   "cell_type": "code",
   "execution_count": 128,
   "metadata": {},
   "outputs": [
    {
     "data": {
      "text/html": [
       "<iframe id=\"igraph\" scrolling=\"no\" style=\"border:none;\" seamless=\"seamless\" src=\"https://plot.ly/~SamLau95/10.embed\" height=\"525px\" width=\"100%\"></iframe>"
      ],
      "text/plain": [
       "<plotly.tools.PlotlyDisplay object>"
      ]
     },
     "execution_count": 128,
     "metadata": {},
     "output_type": "execute_result"
    }
   ],
   "source": [
    "train_reduce_plot('window=1', sentences['skill'], {\n",
    "    'size': 20,\n",
    "    'window': 1,\n",
    "    'min_count': 10,\n",
    "    'iter': 30,\n",
    "})"
   ]
  },
  {
   "cell_type": "code",
   "execution_count": 129,
   "metadata": {},
   "outputs": [
    {
     "data": {
      "text/html": [
       "<iframe id=\"igraph\" scrolling=\"no\" style=\"border:none;\" seamless=\"seamless\" src=\"https://plot.ly/~SamLau95/16.embed\" height=\"525px\" width=\"100%\"></iframe>"
      ],
      "text/plain": [
       "<plotly.tools.PlotlyDisplay object>"
      ]
     },
     "execution_count": 129,
     "metadata": {},
     "output_type": "execute_result"
    }
   ],
   "source": [
    "train_reduce_plot('size=50', sentences['skill'], {\n",
    "    'size': 50,\n",
    "    'window': 10,\n",
    "    'min_count': 10,\n",
    "    'iter': 30,\n",
    "})"
   ]
  },
  {
   "cell_type": "markdown",
   "metadata": {},
   "source": [
    "Smaller window size appears to create denser clusters. This might be because Word2Vec is more certain about skill representations when there are less skills as context.\n",
    "\n",
    "As far we could tell, vector size doesn't seem to have a noticeable effect on the TSNE visualization scatterplot."
   ]
  },
  {
   "cell_type": "markdown",
   "metadata": {},
   "source": [
    "## Question 5"
   ]
  },
  {
   "cell_type": "code",
   "execution_count": 111,
   "metadata": {},
   "outputs": [
    {
     "data": {
      "text/html": [
       "<div>\n",
       "<style>\n",
       "    .dataframe thead tr:only-child th {\n",
       "        text-align: right;\n",
       "    }\n",
       "\n",
       "    .dataframe thead th {\n",
       "        text-align: left;\n",
       "    }\n",
       "\n",
       "    .dataframe tbody tr th {\n",
       "        vertical-align: top;\n",
       "    }\n",
       "</style>\n",
       "<table border=\"1\" class=\"dataframe\">\n",
       "  <thead>\n",
       "    <tr style=\"text-align: right;\">\n",
       "      <th></th>\n",
       "      <th>student_id</th>\n",
       "      <th>a0</th>\n",
       "      <th>a1</th>\n",
       "      <th>a2</th>\n",
       "      <th>a3</th>\n",
       "      <th>a4</th>\n",
       "      <th>a5</th>\n",
       "      <th>a6</th>\n",
       "      <th>a7</th>\n",
       "      <th>a8</th>\n",
       "      <th>...</th>\n",
       "      <th>a90</th>\n",
       "      <th>a91</th>\n",
       "      <th>a92</th>\n",
       "      <th>a93</th>\n",
       "      <th>a94</th>\n",
       "      <th>a95</th>\n",
       "      <th>a96</th>\n",
       "      <th>a97</th>\n",
       "      <th>a98</th>\n",
       "      <th>a99</th>\n",
       "    </tr>\n",
       "  </thead>\n",
       "  <tbody>\n",
       "    <tr>\n",
       "      <th>0</th>\n",
       "      <td>64525</td>\n",
       "      <td>33139</td>\n",
       "      <td>33150</td>\n",
       "      <td>52640</td>\n",
       "      <td>52655</td>\n",
       "      <td>52647</td>\n",
       "      <td>53476</td>\n",
       "      <td>53477</td>\n",
       "      <td>53458</td>\n",
       "      <td>36836</td>\n",
       "      <td>...</td>\n",
       "      <td>41846</td>\n",
       "      <td>41862</td>\n",
       "      <td>37038</td>\n",
       "      <td>37027</td>\n",
       "      <td>42109</td>\n",
       "      <td>50311</td>\n",
       "      <td>42109</td>\n",
       "      <td>41094</td>\n",
       "      <td>50138</td>\n",
       "      <td>41095</td>\n",
       "    </tr>\n",
       "    <tr>\n",
       "      <th>1</th>\n",
       "      <td>70363</td>\n",
       "      <td>33110</td>\n",
       "      <td>33172</td>\n",
       "      <td>33174</td>\n",
       "      <td>33123</td>\n",
       "      <td>31398</td>\n",
       "      <td>36845</td>\n",
       "      <td>31412</td>\n",
       "      <td>36841</td>\n",
       "      <td>36821</td>\n",
       "      <td>...</td>\n",
       "      <td>31322</td>\n",
       "      <td>31313</td>\n",
       "      <td>31326</td>\n",
       "      <td>31328</td>\n",
       "      <td>31316</td>\n",
       "      <td>32047</td>\n",
       "      <td>32019</td>\n",
       "      <td>36872</td>\n",
       "      <td>36949</td>\n",
       "      <td>36858</td>\n",
       "    </tr>\n",
       "    <tr>\n",
       "      <th>2</th>\n",
       "      <td>70677</td>\n",
       "      <td>33168</td>\n",
       "      <td>33112</td>\n",
       "      <td>31968</td>\n",
       "      <td>31970</td>\n",
       "      <td>53345</td>\n",
       "      <td>53301</td>\n",
       "      <td>53317</td>\n",
       "      <td>31960</td>\n",
       "      <td>36433</td>\n",
       "      <td>...</td>\n",
       "      <td>36517</td>\n",
       "      <td>36521</td>\n",
       "      <td>36541</td>\n",
       "      <td>36522</td>\n",
       "      <td>36522</td>\n",
       "      <td>36534</td>\n",
       "      <td>36529</td>\n",
       "      <td>36537</td>\n",
       "      <td>33168</td>\n",
       "      <td>41674</td>\n",
       "    </tr>\n",
       "    <tr>\n",
       "      <th>3</th>\n",
       "      <td>70695</td>\n",
       "      <td>33149</td>\n",
       "      <td>33188</td>\n",
       "      <td>33040</td>\n",
       "      <td>32023</td>\n",
       "      <td>32017</td>\n",
       "      <td>32021</td>\n",
       "      <td>32054</td>\n",
       "      <td>36479</td>\n",
       "      <td>36463</td>\n",
       "      <td>...</td>\n",
       "      <td>55641</td>\n",
       "      <td>55646</td>\n",
       "      <td>55632</td>\n",
       "      <td>55659</td>\n",
       "      <td>55625</td>\n",
       "      <td>55644</td>\n",
       "      <td>55649</td>\n",
       "      <td>55638</td>\n",
       "      <td>55651</td>\n",
       "      <td>55652</td>\n",
       "    </tr>\n",
       "    <tr>\n",
       "      <th>4</th>\n",
       "      <td>70699</td>\n",
       "      <td>33145</td>\n",
       "      <td>33151</td>\n",
       "      <td>53417</td>\n",
       "      <td>36901</td>\n",
       "      <td>36938</td>\n",
       "      <td>53592</td>\n",
       "      <td>53579</td>\n",
       "      <td>53617</td>\n",
       "      <td>53612</td>\n",
       "      <td>...</td>\n",
       "      <td>34592</td>\n",
       "      <td>34606</td>\n",
       "      <td>34605</td>\n",
       "      <td>53417</td>\n",
       "      <td>46778</td>\n",
       "      <td>47496</td>\n",
       "      <td>34339</td>\n",
       "      <td>50679</td>\n",
       "      <td>44534</td>\n",
       "      <td>44496</td>\n",
       "    </tr>\n",
       "  </tbody>\n",
       "</table>\n",
       "<p>5 rows × 101 columns</p>\n",
       "</div>"
      ],
      "text/plain": [
       "   student_id     a0     a1     a2     a3     a4     a5     a6     a7     a8  \\\n",
       "0       64525  33139  33150  52640  52655  52647  53476  53477  53458  36836   \n",
       "1       70363  33110  33172  33174  33123  31398  36845  31412  36841  36821   \n",
       "2       70677  33168  33112  31968  31970  53345  53301  53317  31960  36433   \n",
       "3       70695  33149  33188  33040  32023  32017  32021  32054  36479  36463   \n",
       "4       70699  33145  33151  53417  36901  36938  53592  53579  53617  53612   \n",
       "\n",
       "   ...      a90    a91    a92    a93    a94    a95    a96    a97    a98    a99  \n",
       "0  ...    41846  41862  37038  37027  42109  50311  42109  41094  50138  41095  \n",
       "1  ...    31322  31313  31326  31328  31316  32047  32019  36872  36949  36858  \n",
       "2  ...    36517  36521  36541  36522  36522  36534  36529  36537  33168  41674  \n",
       "3  ...    55641  55646  55632  55659  55625  55644  55649  55638  55651  55652  \n",
       "4  ...    34592  34606  34605  53417  46778  47496  34339  50679  44534  44496  \n",
       "\n",
       "[5 rows x 101 columns]"
      ]
     },
     "execution_count": 111,
     "metadata": {},
     "output_type": "execute_result"
    }
   ],
   "source": [
    "assistment_df = pd.read_csv('assistment_id.tsv', sep='\\t').drop('Unnamed: 0', axis=1)\n",
    "assistment_df.head()"
   ]
  },
  {
   "cell_type": "code",
   "execution_count": 116,
   "metadata": {},
   "outputs": [
    {
     "data": {
      "text/html": [
       "<div>\n",
       "<style>\n",
       "    .dataframe thead tr:only-child th {\n",
       "        text-align: right;\n",
       "    }\n",
       "\n",
       "    .dataframe thead th {\n",
       "        text-align: left;\n",
       "    }\n",
       "\n",
       "    .dataframe tbody tr th {\n",
       "        vertical-align: top;\n",
       "    }\n",
       "</style>\n",
       "<table border=\"1\" class=\"dataframe\">\n",
       "  <thead>\n",
       "    <tr style=\"text-align: right;\">\n",
       "      <th></th>\n",
       "      <th>prob_id</th>\n",
       "    </tr>\n",
       "    <tr>\n",
       "      <th>student_id</th>\n",
       "      <th></th>\n",
       "    </tr>\n",
       "  </thead>\n",
       "  <tbody>\n",
       "    <tr>\n",
       "      <th>0</th>\n",
       "      <td>[33139, 33150, 52640, 52655, 52647, 53476, 534...</td>\n",
       "    </tr>\n",
       "    <tr>\n",
       "      <th>1</th>\n",
       "      <td>[33110, 33172, 33174, 33123, 31398, 36845, 314...</td>\n",
       "    </tr>\n",
       "    <tr>\n",
       "      <th>2</th>\n",
       "      <td>[33168, 33112, 31968, 31970, 53345, 53301, 533...</td>\n",
       "    </tr>\n",
       "    <tr>\n",
       "      <th>3</th>\n",
       "      <td>[33149, 33188, 33040, 32023, 32017, 32021, 320...</td>\n",
       "    </tr>\n",
       "    <tr>\n",
       "      <th>4</th>\n",
       "      <td>[33145, 33151, 53417, 36901, 36938, 53592, 535...</td>\n",
       "    </tr>\n",
       "  </tbody>\n",
       "</table>\n",
       "</div>"
      ],
      "text/plain": [
       "                                                      prob_id\n",
       "student_id                                                   \n",
       "0           [33139, 33150, 52640, 52655, 52647, 53476, 534...\n",
       "1           [33110, 33172, 33174, 33123, 31398, 36845, 314...\n",
       "2           [33168, 33112, 31968, 31970, 53345, 53301, 533...\n",
       "3           [33149, 33188, 33040, 32023, 32017, 32021, 320...\n",
       "4           [33145, 33151, 53417, 36901, 36938, 53592, 535..."
      ]
     },
     "execution_count": 116,
     "metadata": {},
     "output_type": "execute_result"
    }
   ],
   "source": [
    "assist_sentences = (assistment_df\n",
    " .iloc[:, 1:]\n",
    " .stack()\n",
    " .reset_index()\n",
    " .rename(columns={'level_0': 'student_id', 0: 'prob_id'})\n",
    " .drop('level_1', axis=1)\n",
    " .astype({'prob_id': str})\n",
    " .groupby('student_id')\n",
    " .agg(lambda skills: list(skills))\n",
    ")\n",
    "assist_sentences.head()"
   ]
  },
  {
   "cell_type": "code",
   "execution_count": 135,
   "metadata": {},
   "outputs": [
    {
     "data": {
      "text/html": [
       "<div>\n",
       "<style>\n",
       "    .dataframe thead tr:only-child th {\n",
       "        text-align: right;\n",
       "    }\n",
       "\n",
       "    .dataframe thead th {\n",
       "        text-align: left;\n",
       "    }\n",
       "\n",
       "    .dataframe tbody tr th {\n",
       "        vertical-align: top;\n",
       "    }\n",
       "</style>\n",
       "<table border=\"1\" class=\"dataframe\">\n",
       "  <thead>\n",
       "    <tr style=\"text-align: right;\">\n",
       "      <th></th>\n",
       "      <th>x</th>\n",
       "      <th>y</th>\n",
       "      <th>name</th>\n",
       "    </tr>\n",
       "  </thead>\n",
       "  <tbody>\n",
       "    <tr>\n",
       "      <th>36467</th>\n",
       "      <td>-19.226925</td>\n",
       "      <td>-13.266063</td>\n",
       "      <td>NaN</td>\n",
       "    </tr>\n",
       "    <tr>\n",
       "      <th>36488</th>\n",
       "      <td>-18.889935</td>\n",
       "      <td>-12.955877</td>\n",
       "      <td>NaN</td>\n",
       "    </tr>\n",
       "    <tr>\n",
       "      <th>36768</th>\n",
       "      <td>-67.145325</td>\n",
       "      <td>-5.832832</td>\n",
       "      <td>NaN</td>\n",
       "    </tr>\n",
       "    <tr>\n",
       "      <th>33107</th>\n",
       "      <td>21.221672</td>\n",
       "      <td>60.954773</td>\n",
       "      <td>NaN</td>\n",
       "    </tr>\n",
       "    <tr>\n",
       "      <th>31308</th>\n",
       "      <td>-61.107166</td>\n",
       "      <td>3.914618</td>\n",
       "      <td>NaN</td>\n",
       "    </tr>\n",
       "  </tbody>\n",
       "</table>\n",
       "</div>"
      ],
      "text/plain": [
       "               x          y name\n",
       "36467 -19.226925 -13.266063  NaN\n",
       "36488 -18.889935 -12.955877  NaN\n",
       "36768 -67.145325  -5.832832  NaN\n",
       "33107  21.221672  60.954773  NaN\n",
       "31308 -61.107166   3.914618  NaN"
      ]
     },
     "execution_count": 135,
     "metadata": {},
     "output_type": "execute_result"
    }
   ],
   "source": [
    "%%time\n",
    "\n",
    "assist_points = train_reduce(assist_sentences['prob_id'], {\n",
    "    'size': 20,\n",
    "    'window': 10,\n",
    "    'min_count': 10,\n",
    "    'iter': 30,\n",
    "})\n",
    "assist_points.head()"
   ]
  },
  {
   "cell_type": "code",
   "execution_count": 151,
   "metadata": {},
   "outputs": [
    {
     "data": {
      "text/plain": [
       "0    1\n",
       "1    1\n",
       "2    2\n",
       "3    2\n",
       "4    2\n",
       "Name: skill_id, dtype: int64"
      ]
     },
     "execution_count": 151,
     "metadata": {},
     "output_type": "execute_result"
    }
   ],
   "source": [
    "skill_seq = (skill_df\n",
    " .iloc[:, 1:]\n",
    " .stack()\n",
    " .reset_index(drop=True)\n",
    " .rename('skill_id')\n",
    ")\n",
    "skill_seq.head()"
   ]
  },
  {
   "cell_type": "code",
   "execution_count": 158,
   "metadata": {},
   "outputs": [
    {
     "data": {
      "text/html": [
       "<div>\n",
       "<style>\n",
       "    .dataframe thead tr:only-child th {\n",
       "        text-align: right;\n",
       "    }\n",
       "\n",
       "    .dataframe thead th {\n",
       "        text-align: left;\n",
       "    }\n",
       "\n",
       "    .dataframe tbody tr th {\n",
       "        vertical-align: top;\n",
       "    }\n",
       "</style>\n",
       "<table border=\"1\" class=\"dataframe\">\n",
       "  <thead>\n",
       "    <tr style=\"text-align: right;\">\n",
       "      <th></th>\n",
       "      <th>skill_id</th>\n",
       "    </tr>\n",
       "    <tr>\n",
       "      <th>prob_id</th>\n",
       "      <th></th>\n",
       "    </tr>\n",
       "  </thead>\n",
       "  <tbody>\n",
       "    <tr>\n",
       "      <th>86</th>\n",
       "      <td>31</td>\n",
       "    </tr>\n",
       "    <tr>\n",
       "      <th>252</th>\n",
       "      <td>31</td>\n",
       "    </tr>\n",
       "    <tr>\n",
       "      <th>810</th>\n",
       "      <td>44</td>\n",
       "    </tr>\n",
       "    <tr>\n",
       "      <th>849</th>\n",
       "      <td>47</td>\n",
       "    </tr>\n",
       "    <tr>\n",
       "      <th>1080</th>\n",
       "      <td>44</td>\n",
       "    </tr>\n",
       "  </tbody>\n",
       "</table>\n",
       "</div>"
      ],
      "text/plain": [
       "         skill_id\n",
       "prob_id          \n",
       "86             31\n",
       "252            31\n",
       "810            44\n",
       "849            47\n",
       "1080           44"
      ]
     },
     "execution_count": 158,
     "metadata": {},
     "output_type": "execute_result"
    }
   ],
   "source": [
    "assist_to_skill = (assistment_df\n",
    " .iloc[:, 1:]\n",
    " .stack()\n",
    " .reset_index(drop=True)\n",
    " .rename('prob_id')\n",
    " .to_frame()\n",
    " .join(skill_seq)\n",
    " .groupby('prob_id')\n",
    " .first()\n",
    ")\n",
    "assist_to_skill.head()"
   ]
  },
  {
   "cell_type": "code",
   "execution_count": 175,
   "metadata": {},
   "outputs": [
    {
     "data": {
      "text/html": [
       "<div>\n",
       "<style>\n",
       "    .dataframe thead tr:only-child th {\n",
       "        text-align: right;\n",
       "    }\n",
       "\n",
       "    .dataframe thead th {\n",
       "        text-align: left;\n",
       "    }\n",
       "\n",
       "    .dataframe tbody tr th {\n",
       "        vertical-align: top;\n",
       "    }\n",
       "</style>\n",
       "<table border=\"1\" class=\"dataframe\">\n",
       "  <thead>\n",
       "    <tr style=\"text-align: right;\">\n",
       "      <th></th>\n",
       "      <th>x</th>\n",
       "      <th>y</th>\n",
       "      <th>name</th>\n",
       "      <th>skill_id</th>\n",
       "    </tr>\n",
       "  </thead>\n",
       "  <tbody>\n",
       "    <tr>\n",
       "      <th>36467</th>\n",
       "      <td>-19.226925</td>\n",
       "      <td>-13.266063</td>\n",
       "      <td>7</td>\n",
       "      <td>7</td>\n",
       "    </tr>\n",
       "    <tr>\n",
       "      <th>36488</th>\n",
       "      <td>-18.889935</td>\n",
       "      <td>-12.955877</td>\n",
       "      <td>7</td>\n",
       "      <td>7</td>\n",
       "    </tr>\n",
       "    <tr>\n",
       "      <th>36768</th>\n",
       "      <td>-67.145325</td>\n",
       "      <td>-5.832832</td>\n",
       "      <td>8</td>\n",
       "      <td>8</td>\n",
       "    </tr>\n",
       "    <tr>\n",
       "      <th>33107</th>\n",
       "      <td>21.221672</td>\n",
       "      <td>60.954773</td>\n",
       "      <td>1</td>\n",
       "      <td>1</td>\n",
       "    </tr>\n",
       "    <tr>\n",
       "      <th>31308</th>\n",
       "      <td>-61.107166</td>\n",
       "      <td>3.914618</td>\n",
       "      <td>8</td>\n",
       "      <td>8</td>\n",
       "    </tr>\n",
       "  </tbody>\n",
       "</table>\n",
       "</div>"
      ],
      "text/plain": [
       "               x          y  name  skill_id\n",
       "36467 -19.226925 -13.266063     7         7\n",
       "36488 -18.889935 -12.955877     7         7\n",
       "36768 -67.145325  -5.832832     8         8\n",
       "33107  21.221672  60.954773     1         1\n",
       "31308 -61.107166   3.914618     8         8"
      ]
     },
     "execution_count": 175,
     "metadata": {},
     "output_type": "execute_result"
    }
   ],
   "source": [
    "assist_points.index = assist_points.index.astype('int')\n",
    "assist_points_with_skill = assist_points.join(assist_to_skill)\n",
    "assist_points_with_skill['name'] = assist_points_with_skill['skill_id']\n",
    "assist_points_with_skill.head()"
   ]
  },
  {
   "cell_type": "code",
   "execution_count": 176,
   "metadata": {},
   "outputs": [
    {
     "data": {
      "text/html": [
       "<iframe id=\"igraph\" scrolling=\"no\" style=\"border:none;\" seamless=\"seamless\" src=\"https://plot.ly/~SamLau95/20.embed\" height=\"525px\" width=\"100%\"></iframe>"
      ],
      "text/plain": [
       "<plotly.tools.PlotlyDisplay object>"
      ]
     },
     "execution_count": 176,
     "metadata": {},
     "output_type": "execute_result"
    }
   ],
   "source": [
    "tsne_plot('assist_with_skill', assist_points_with_skill, assist_points_with_skill['skill_id'])"
   ]
  },
  {
   "cell_type": "markdown",
   "metadata": {},
   "source": [
    "We notice strong clusters of assistment questions by the skills that they evaluate!"
   ]
  }
 ],
 "metadata": {
  "kernelspec": {
   "display_name": "Python [default]",
   "language": "python",
   "name": "python3"
  },
  "language_info": {
   "codemirror_mode": {
    "name": "ipython",
    "version": 3
   },
   "file_extension": ".py",
   "mimetype": "text/x-python",
   "name": "python",
   "nbconvert_exporter": "python",
   "pygments_lexer": "ipython3",
   "version": "3.5.2"
  }
 },
 "nbformat": 4,
 "nbformat_minor": 2
}
