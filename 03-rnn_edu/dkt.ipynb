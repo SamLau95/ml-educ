{
 "cells": [
  {
   "cell_type": "code",
   "execution_count": 1,
   "metadata": {},
   "outputs": [],
   "source": [
    "import pandas as pd\n",
    "import numpy as np\n",
    "import json\n",
    "\n",
    "filename = 'skill_builder_data_corrected.csv'\n",
    "df = pd.read_csv(filename, encoding='ISO-8859-1', low_memory=False)\n",
    "df = df[(df['original'] == 1) & (df['attempt_count'] == 1) & ~(df['skill_name'].isnull())]"
   ]
  },
  {
   "cell_type": "code",
   "execution_count": 2,
   "metadata": {},
   "outputs": [],
   "source": [
    "response_df = pd.read_csv('correct.tsv', sep='\\t').drop('Unnamed: 0', axis=1)\n",
    "skill_df = pd.read_csv('skill.tsv', sep='\\t').drop('Unnamed: 0', axis=1)\n",
    "assistment_df = pd.read_csv('assistment_id.tsv', sep='\\t').drop('Unnamed: 0', axis=1)\n",
    "skill_dict = {}\n",
    "with open('skill_dict.json', 'r', encoding='utf-8') as f:\n",
    "    loaded = json.load(f)\n",
    "    for k, v in loaded.items():\n",
    "        skill_dict[k] = int(v)\n",
    "\n",
    "skill_num = len(skill_dict) + 1 # including 0\n",
    "\n",
    "def one_hot(skill_matrix, vocab_size):\n",
    "    '''\n",
    "    params:\n",
    "        skill_matrix: 2-D matrix (student, skills)\n",
    "        vocal_size: size of the vocabulary\n",
    "    returns:\n",
    "        a ndarray with a shape like (student, sequence_len, vocab_size)\n",
    "    '''\n",
    "    seq_len = skill_matrix.shape[1]\n",
    "    result = np.zeros((skill_matrix.shape[0], seq_len, vocab_size))\n",
    "    for i in range(skill_matrix.shape[0]):\n",
    "        result[i, np.arange(seq_len), skill_matrix[i]] = 1.\n",
    "    return result\n",
    "\n",
    "def dkt_one_hot(skill_matrix, response_matrix, vocab_size):\n",
    "    seq_len = skill_matrix.shape[1]\n",
    "    skill_response_array = np.zeros((skill_matrix.shape[0], seq_len, 2 * vocab_size))\n",
    "    for i in range(skill_matrix.shape[0]):\n",
    "        skill_response_array[i, np.arange(seq_len), 2 * skill_matrix[i] + response_matrix[i]] = 1.\n",
    "    return skill_response_array\n",
    "\n",
    "def preprocess(skill_df, response_df, skill_num):\n",
    "    skill_matrix = skill_df.iloc[:, 1:].values\n",
    "    response_array = response_df.iloc[:, 1:].values\n",
    "    skill_array = one_hot(skill_matrix, skill_num)\n",
    "    skill_response_array = dkt_one_hot(skill_matrix, response_array, skill_num)\n",
    "    return skill_array, response_array, skill_response_array\n",
    "    \n",
    "\n",
    "skill_array, response_array, skill_response_array = preprocess(skill_df, response_df, skill_num)"
   ]
  },
  {
   "cell_type": "code",
   "execution_count": 38,
   "metadata": {},
   "outputs": [
    {
     "data": {
      "text/plain": [
       "110"
      ]
     },
     "execution_count": 38,
     "metadata": {},
     "output_type": "execute_result"
    }
   ],
   "source": [
    "len(skill_dict)"
   ]
  },
  {
   "cell_type": "code",
   "execution_count": 37,
   "metadata": {},
   "outputs": [
    {
     "data": {
      "text/plain": [
       "(584, 100)"
      ]
     },
     "execution_count": 37,
     "metadata": {},
     "output_type": "execute_result"
    }
   ],
   "source": [
    "response_array.shape"
   ]
  },
  {
   "cell_type": "code",
   "execution_count": 26,
   "metadata": {},
   "outputs": [
    {
     "data": {
      "text/plain": [
       "(584, 100, 111)"
      ]
     },
     "execution_count": 26,
     "metadata": {},
     "output_type": "execute_result"
    }
   ],
   "source": [
    "skill_array.shape"
   ]
  },
  {
   "cell_type": "code",
   "execution_count": 32,
   "metadata": {},
   "outputs": [
    {
     "data": {
      "text/plain": [
       "(584, 100, 222)"
      ]
     },
     "execution_count": 32,
     "metadata": {},
     "output_type": "execute_result"
    }
   ],
   "source": [
    "skill_response_array.shape"
   ]
  },
  {
   "cell_type": "code",
   "execution_count": 3,
   "metadata": {},
   "outputs": [
    {
     "name": "stderr",
     "output_type": "stream",
     "text": [
      "Using Theano backend.\n"
     ]
    },
    {
     "name": "stdout",
     "output_type": "stream",
     "text": [
      "skill2skill\n",
      "_________________________________________________________________\n",
      "Layer (type)                 Output Shape              Param #   \n",
      "=================================================================\n",
      "input skills (InputLayer)    (None, 99, 111)           0         \n",
      "_________________________________________________________________\n",
      "lstm layer (LSTM)            (None, 99, 64)            45056     \n",
      "_________________________________________________________________\n",
      "probability (TimeDistributed (None, 99, 111)           7215      \n",
      "=================================================================\n",
      "Total params: 52,271\n",
      "Trainable params: 52,271\n",
      "Non-trainable params: 0\n",
      "_________________________________________________________________\n",
      "dkt\n",
      "____________________________________________________________________________________________________\n",
      "Layer (type)                     Output Shape          Param #     Connected to                     \n",
      "====================================================================================================\n",
      "input skills (InputLayer)        (None, 99, 222)       0                                            \n",
      "____________________________________________________________________________________________________\n",
      "lstm layer (LSTM)                (None, 99, 64)        73472       input skills[0][0]               \n",
      "____________________________________________________________________________________________________\n",
      "probability for each (TimeDistri (None, 99, 111)       7215        lstm layer[0][0]                 \n",
      "____________________________________________________________________________________________________\n",
      "next_skill_tested (InputLayer)   (None, 99, 111)       0                                            \n",
      "____________________________________________________________________________________________________\n",
      "multiply (Multiply)              (None, 99, 111)       0           probability for each[0][0]       \n",
      "                                                                   next_skill_tested[0][0]          \n",
      "____________________________________________________________________________________________________\n",
      "reduce dim (Lambda)              (None, 99, 1)         0           multiply[0][0]                   \n",
      "====================================================================================================\n",
      "Total params: 80,687\n",
      "Trainable params: 80,687\n",
      "Non-trainable params: 0\n",
      "____________________________________________________________________________________________________\n"
     ]
    }
   ],
   "source": [
    "import keras\n",
    "from keras.layers import Input, Dense, LSTM, TimeDistributed, Lambda, multiply\n",
    "from keras.models import Model\n",
    "from keras.optimizers import RMSprop, Adam\n",
    "from keras.preprocessing.sequence import pad_sequences\n",
    "from keras import backend as K\n",
    "\n",
    "def build_skill2skill_model(input_shape, lstm_dim=32, dropout=0.0):\n",
    "    input = Input(shape=input_shape, name='input skills')\n",
    "    lstm = LSTM(lstm_dim, \n",
    "                return_sequences=True, \n",
    "                dropout=dropout,\n",
    "                name='lstm layer')(input)\n",
    "    output = TimeDistributed(Dense(input_shape[-1], activation='softmax'), name='probability')(lstm)\n",
    "    model = Model(inputs=[input], outputs=[output])\n",
    "    adam = Adam(lr=0.001, beta_1=0.9, beta_2=0.999, epsilon=1e-07, decay=0.0)\n",
    "    model.compile(optimizer=adam, loss='categorical_crossentropy', metrics=['accuracy'])\n",
    "    model.summary()\n",
    "    return model\n",
    "\n",
    "def reduce_dim(x):\n",
    "    x = K.max(x, axis=-1, keepdims=True)\n",
    "    return x\n",
    "\n",
    "def build_dkt_model(input_shape, lstm_dim=32, dropout=0.0):\n",
    "    input_skills = Input(shape=input_shape, name='input skills')\n",
    "    lstm = LSTM(lstm_dim, \n",
    "                return_sequences=True, \n",
    "                dropout=dropout,\n",
    "                name='lstm layer')(input_skills)\n",
    "    dense = TimeDistributed(Dense(int(input_shape[-1]/2), activation='sigmoid'), name='probability for each')(lstm)\n",
    "    \n",
    "    skill_next = Input(shape=(input_shape[0], int(input_shape[1]/2)), name='next_skill_tested')\n",
    "    merged = multiply([dense, skill_next], name='multiply')\n",
    "    reduced = Lambda(reduce_dim, output_shape=(input_shape[0], 1), name='reduce dim')(merged)\n",
    "    \n",
    "    model = Model(inputs=[input_skills, skill_next], outputs=[reduced])\n",
    "    adam = Adam(lr=0.001, beta_1=0.9, beta_2=0.999, epsilon=1e-07, decay=0.0)\n",
    "    model.compile(optimizer=adam, loss='binary_crossentropy', metrics=['accuracy'])\n",
    "    model.summary()\n",
    "    return model\n",
    "\n",
    "print('skill2skill')\n",
    "skill2skill_model = build_skill2skill_model((99, skill_num), lstm_dim=64)\n",
    "\n",
    "print('dkt')\n",
    "dkt_model = build_dkt_model((99, 2 * skill_num), lstm_dim=64)\n",
    "    "
   ]
  },
  {
   "cell_type": "code",
   "execution_count": 41,
   "metadata": {
    "collapsed": true
   },
   "outputs": [
    {
     "name": "stdout",
     "output_type": "stream",
     "text": [
      "Train on 467 samples, validate on 117 samples\n",
      "Epoch 1/20\n",
      "467/467 [==============================] - 1s - loss: 4.6170 - acc: 0.1950 - val_loss: 4.5729 - val_acc: 0.2988\n",
      "Epoch 2/20\n",
      "467/467 [==============================] - 1s - loss: 4.2278 - acc: 0.1550 - val_loss: 4.4697 - val_acc: 0.0483\n",
      "Epoch 3/20\n",
      "467/467 [==============================] - 2s - loss: 3.6677 - acc: 0.1333 - val_loss: 4.1492 - val_acc: 0.1012\n",
      "Epoch 4/20\n",
      "467/467 [==============================] - 1s - loss: 3.1779 - acc: 0.2505 - val_loss: 3.8165 - val_acc: 0.1483\n",
      "Epoch 5/20\n",
      "467/467 [==============================] - 1s - loss: 2.7544 - acc: 0.3735 - val_loss: 3.5075 - val_acc: 0.2427\n",
      "Epoch 6/20\n",
      "467/467 [==============================] - 1s - loss: 2.4293 - acc: 0.4355 - val_loss: 3.1725 - val_acc: 0.3220\n",
      "Epoch 7/20\n",
      "467/467 [==============================] - 1s - loss: 2.1904 - acc: 0.4799 - val_loss: 2.9253 - val_acc: 0.3916\n",
      "Epoch 8/20\n",
      "467/467 [==============================] - 1s - loss: 1.9651 - acc: 0.5337 - val_loss: 2.6795 - val_acc: 0.4381\n",
      "Epoch 9/20\n",
      "467/467 [==============================] - 1s - loss: 1.7745 - acc: 0.5865 - val_loss: 2.4644 - val_acc: 0.4756\n",
      "Epoch 10/20\n",
      "467/467 [==============================] - 1s - loss: 1.6159 - acc: 0.6326 - val_loss: 2.2535 - val_acc: 0.5142\n",
      "Epoch 11/20\n",
      "467/467 [==============================] - 1s - loss: 1.5129 - acc: 0.6496 - val_loss: 2.1068 - val_acc: 0.5317\n",
      "Epoch 12/20\n",
      "467/467 [==============================] - 1s - loss: 1.4089 - acc: 0.6717 - val_loss: 1.9672 - val_acc: 0.5535\n",
      "Epoch 13/20\n",
      "467/467 [==============================] - 1s - loss: 1.2970 - acc: 0.6983 - val_loss: 1.8139 - val_acc: 0.5742\n",
      "Epoch 14/20\n",
      "467/467 [==============================] - 1s - loss: 1.2062 - acc: 0.7132 - val_loss: 1.7264 - val_acc: 0.5972\n",
      "Epoch 15/20\n",
      "467/467 [==============================] - 1s - loss: 1.1404 - acc: 0.7263 - val_loss: 1.6623 - val_acc: 0.6113\n",
      "Epoch 16/20\n",
      "467/467 [==============================] - 1s - loss: 1.0881 - acc: 0.7363 - val_loss: 1.5911 - val_acc: 0.6193\n",
      "Epoch 17/20\n",
      "467/467 [==============================] - 1s - loss: 1.0495 - acc: 0.7428 - val_loss: 1.5140 - val_acc: 0.6558\n",
      "Epoch 18/20\n",
      "467/467 [==============================] - 1s - loss: 0.9877 - acc: 0.7582 - val_loss: 1.4528 - val_acc: 0.6722\n",
      "Epoch 19/20\n",
      "467/467 [==============================] - 1s - loss: 0.9410 - acc: 0.7684 - val_loss: 1.4058 - val_acc: 0.6827\n",
      "Epoch 20/20\n",
      "467/467 [==============================] - 1s - loss: 0.9027 - acc: 0.7805 - val_loss: 1.3694 - val_acc: 0.6814\n",
      "CPU times: user 1min 15s, sys: 5.39 s, total: 1min 20s\n",
      "Wall time: 2min 24s\n"
     ]
    },
    {
     "data": {
      "text/plain": [
       "<keras.callbacks.History at 0x129ea1d68>"
      ]
     },
     "execution_count": 41,
     "metadata": {},
     "output_type": "execute_result"
    }
   ],
   "source": [
    "%%time\n",
    "\n",
    "# train skill2skill\n",
    "skill2skill_model.fit(skill_array[:, 0:-1],\n",
    "                      skill_array[:, 1:],\n",
    "                      epochs=20, \n",
    "                      batch_size=32, \n",
    "                      shuffle=True,\n",
    "                      validation_split=0.2)"
   ]
  },
  {
   "cell_type": "code",
   "execution_count": 42,
   "metadata": {
    "collapsed": true
   },
   "outputs": [
    {
     "name": "stdout",
     "output_type": "stream",
     "text": [
      "Train on 467 samples, validate on 117 samples\n",
      "Epoch 1/20\n",
      "467/467 [==============================] - 2s - loss: 0.6735 - acc: 0.7242 - val_loss: 0.6643 - val_acc: 0.8053\n",
      "Epoch 2/20\n",
      "467/467 [==============================] - 3s - loss: 0.6072 - acc: 0.8360 - val_loss: 0.6066 - val_acc: 0.7192\n",
      "Epoch 3/20\n",
      "467/467 [==============================] - 3s - loss: 0.4875 - acc: 0.8307 - val_loss: 0.5034 - val_acc: 0.8279\n",
      "Epoch 4/20\n",
      "467/467 [==============================] - 2s - loss: 0.4167 - acc: 0.8489 - val_loss: 0.4606 - val_acc: 0.8300\n",
      "Epoch 5/20\n",
      "467/467 [==============================] - 3s - loss: 0.3928 - acc: 0.8507 - val_loss: 0.4536 - val_acc: 0.8311\n",
      "Epoch 6/20\n",
      "467/467 [==============================] - 4s - loss: 0.3828 - acc: 0.8552 - val_loss: 0.4447 - val_acc: 0.8313\n",
      "Epoch 7/20\n",
      "467/467 [==============================] - 3s - loss: 0.3782 - acc: 0.8559 - val_loss: 0.4394 - val_acc: 0.8296\n",
      "Epoch 8/20\n",
      "467/467 [==============================] - 3s - loss: 0.3772 - acc: 0.8555 - val_loss: 0.4479 - val_acc: 0.8291\n",
      "Epoch 9/20\n",
      "467/467 [==============================] - 3s - loss: 0.3725 - acc: 0.8574 - val_loss: 0.4288 - val_acc: 0.8299\n",
      "Epoch 10/20\n",
      "467/467 [==============================] - 2s - loss: 0.3686 - acc: 0.8571 - val_loss: 0.4392 - val_acc: 0.8307\n",
      "Epoch 11/20\n",
      "467/467 [==============================] - 2s - loss: 0.3661 - acc: 0.8568 - val_loss: 0.4359 - val_acc: 0.8300\n",
      "Epoch 12/20\n",
      "467/467 [==============================] - 2s - loss: 0.3628 - acc: 0.8571 - val_loss: 0.4344 - val_acc: 0.8306\n",
      "Epoch 13/20\n",
      "467/467 [==============================] - 2s - loss: 0.3598 - acc: 0.8571 - val_loss: 0.4293 - val_acc: 0.8319\n",
      "Epoch 14/20\n",
      "467/467 [==============================] - 2s - loss: 0.3571 - acc: 0.8587 - val_loss: 0.4287 - val_acc: 0.8313\n",
      "Epoch 15/20\n",
      "467/467 [==============================] - 1s - loss: 0.3557 - acc: 0.8585 - val_loss: 0.4220 - val_acc: 0.8341\n",
      "Epoch 16/20\n",
      "467/467 [==============================] - 2s - loss: 0.3541 - acc: 0.8600 - val_loss: 0.4316 - val_acc: 0.8343\n",
      "Epoch 17/20\n",
      "467/467 [==============================] - 2s - loss: 0.3525 - acc: 0.8601 - val_loss: 0.4249 - val_acc: 0.8342\n",
      "Epoch 18/20\n",
      "467/467 [==============================] - 2s - loss: 0.3494 - acc: 0.8615 - val_loss: 0.4194 - val_acc: 0.8377\n",
      "Epoch 19/20\n",
      "467/467 [==============================] - 2s - loss: 0.3480 - acc: 0.8619 - val_loss: 0.4243 - val_acc: 0.8362\n",
      "Epoch 20/20\n",
      "467/467 [==============================] - 2s - loss: 0.3488 - acc: 0.8622 - val_loss: 0.4199 - val_acc: 0.8368\n",
      "CPU times: user 1min 22s, sys: 7.04 s, total: 1min 29s\n",
      "Wall time: 1min 31s\n"
     ]
    },
    {
     "data": {
      "text/plain": [
       "<keras.callbacks.History at 0x12c76ae48>"
      ]
     },
     "execution_count": 42,
     "metadata": {},
     "output_type": "execute_result"
    }
   ],
   "source": [
    "%%time\n",
    "\n",
    "dkt_model.fit([skill_response_array[:, 0:-1], skill_array[:, 1:]],\n",
    "              response_array[:, 1:, np.newaxis],\n",
    "              epochs=20, \n",
    "              batch_size=32, \n",
    "              shuffle=True,\n",
    "              validation_split=0.2)"
   ]
  },
  {
   "cell_type": "markdown",
   "metadata": {
    "collapsed": true
   },
   "source": [
    "## Question 1\n",
    "\n",
    "What were the 5 most common and 5 least common skills in this dataset? What percentage of responses are associated with the most common skill?"
   ]
  },
  {
   "cell_type": "code",
   "execution_count": 4,
   "metadata": {},
   "outputs": [
    {
     "data": {
      "text/html": [
       "<div>\n",
       "<style>\n",
       "    .dataframe thead tr:only-child th {\n",
       "        text-align: right;\n",
       "    }\n",
       "\n",
       "    .dataframe thead th {\n",
       "        text-align: left;\n",
       "    }\n",
       "\n",
       "    .dataframe tbody tr th {\n",
       "        vertical-align: top;\n",
       "    }\n",
       "</style>\n",
       "<table border=\"1\" class=\"dataframe\">\n",
       "  <thead>\n",
       "    <tr style=\"text-align: right;\">\n",
       "      <th></th>\n",
       "      <th>Name</th>\n",
       "    </tr>\n",
       "    <tr>\n",
       "      <th>ID</th>\n",
       "      <th></th>\n",
       "    </tr>\n",
       "  </thead>\n",
       "  <tbody>\n",
       "    <tr>\n",
       "      <th>39</th>\n",
       "      <td>Estimation</td>\n",
       "    </tr>\n",
       "    <tr>\n",
       "      <th>90</th>\n",
       "      <td>Greatest Common Factor</td>\n",
       "    </tr>\n",
       "    <tr>\n",
       "      <th>88</th>\n",
       "      <td>Equation Solving More Than Two Steps</td>\n",
       "    </tr>\n",
       "    <tr>\n",
       "      <th>74</th>\n",
       "      <td>Translations</td>\n",
       "    </tr>\n",
       "    <tr>\n",
       "      <th>43</th>\n",
       "      <td>Multiplication Whole Numbers</td>\n",
       "    </tr>\n",
       "  </tbody>\n",
       "</table>\n",
       "</div>"
      ],
      "text/plain": [
       "                                    Name\n",
       "ID                                      \n",
       "39                            Estimation\n",
       "90                Greatest Common Factor\n",
       "88  Equation Solving More Than Two Steps\n",
       "74                          Translations\n",
       "43          Multiplication Whole Numbers"
      ]
     },
     "execution_count": 4,
     "metadata": {},
     "output_type": "execute_result"
    }
   ],
   "source": [
    "skillname_df = pd.DataFrame(list(skill_dict.items()), columns=['Name', 'ID']).set_index('ID')\n",
    "skillname_df.head()"
   ]
  },
  {
   "cell_type": "code",
   "execution_count": 5,
   "metadata": {},
   "outputs": [],
   "source": [
    "skill_counts = (skill_df\n",
    " .iloc[:, 1:]\n",
    " .unstack()\n",
    " .value_counts()\n",
    " .rename('count')\n",
    " .to_frame()\n",
    " .join(skillname_df)\n",
    ")"
   ]
  },
  {
   "cell_type": "code",
   "execution_count": 6,
   "metadata": {},
   "outputs": [
    {
     "name": "stdout",
     "output_type": "stream",
     "text": [
      "Top 5 skills:\n"
     ]
    },
    {
     "data": {
      "text/html": [
       "<div>\n",
       "<style>\n",
       "    .dataframe thead tr:only-child th {\n",
       "        text-align: right;\n",
       "    }\n",
       "\n",
       "    .dataframe thead th {\n",
       "        text-align: left;\n",
       "    }\n",
       "\n",
       "    .dataframe tbody tr th {\n",
       "        vertical-align: top;\n",
       "    }\n",
       "</style>\n",
       "<table border=\"1\" class=\"dataframe\">\n",
       "  <thead>\n",
       "    <tr style=\"text-align: right;\">\n",
       "      <th></th>\n",
       "      <th>count</th>\n",
       "      <th>Name</th>\n",
       "    </tr>\n",
       "  </thead>\n",
       "  <tbody>\n",
       "    <tr>\n",
       "      <th>7</th>\n",
       "      <td>4579</td>\n",
       "      <td>Table</td>\n",
       "    </tr>\n",
       "    <tr>\n",
       "      <th>30</th>\n",
       "      <td>4379</td>\n",
       "      <td>Conversion of Fraction Decimals Percents</td>\n",
       "    </tr>\n",
       "    <tr>\n",
       "      <th>8</th>\n",
       "      <td>3466</td>\n",
       "      <td>Venn Diagram</td>\n",
       "    </tr>\n",
       "    <tr>\n",
       "      <th>2</th>\n",
       "      <td>3404</td>\n",
       "      <td>Circle Graph</td>\n",
       "    </tr>\n",
       "    <tr>\n",
       "      <th>33</th>\n",
       "      <td>2833</td>\n",
       "      <td>Ordering Fractions</td>\n",
       "    </tr>\n",
       "  </tbody>\n",
       "</table>\n",
       "</div>"
      ],
      "text/plain": [
       "    count                                      Name\n",
       "7    4579                                     Table\n",
       "30   4379  Conversion of Fraction Decimals Percents\n",
       "8    3466                              Venn Diagram\n",
       "2    3404                              Circle Graph\n",
       "33   2833                        Ordering Fractions"
      ]
     },
     "execution_count": 6,
     "metadata": {},
     "output_type": "execute_result"
    }
   ],
   "source": [
    "print('Top 5 skills:')\n",
    "skill_counts.head()"
   ]
  },
  {
   "cell_type": "code",
   "execution_count": 7,
   "metadata": {},
   "outputs": [
    {
     "name": "stdout",
     "output_type": "stream",
     "text": [
      "Bottom 5 skills:\n"
     ]
    },
    {
     "data": {
      "text/html": [
       "<div>\n",
       "<style>\n",
       "    .dataframe thead tr:only-child th {\n",
       "        text-align: right;\n",
       "    }\n",
       "\n",
       "    .dataframe thead th {\n",
       "        text-align: left;\n",
       "    }\n",
       "\n",
       "    .dataframe tbody tr th {\n",
       "        vertical-align: top;\n",
       "    }\n",
       "</style>\n",
       "<table border=\"1\" class=\"dataframe\">\n",
       "  <thead>\n",
       "    <tr style=\"text-align: right;\">\n",
       "      <th></th>\n",
       "      <th>count</th>\n",
       "      <th>Name</th>\n",
       "    </tr>\n",
       "  </thead>\n",
       "  <tbody>\n",
       "    <tr>\n",
       "      <th>83</th>\n",
       "      <td>3</td>\n",
       "      <td>Volume Rectangular Prism</td>\n",
       "    </tr>\n",
       "    <tr>\n",
       "      <th>84</th>\n",
       "      <td>2</td>\n",
       "      <td>Volume Sphere</td>\n",
       "    </tr>\n",
       "    <tr>\n",
       "      <th>109</th>\n",
       "      <td>2</td>\n",
       "      <td>Solving Inequalities</td>\n",
       "    </tr>\n",
       "    <tr>\n",
       "      <th>82</th>\n",
       "      <td>2</td>\n",
       "      <td>Volume Cylinder</td>\n",
       "    </tr>\n",
       "    <tr>\n",
       "      <th>80</th>\n",
       "      <td>1</td>\n",
       "      <td>Surface Area Cylinder</td>\n",
       "    </tr>\n",
       "  </tbody>\n",
       "</table>\n",
       "</div>"
      ],
      "text/plain": [
       "     count                      Name\n",
       "83       3  Volume Rectangular Prism\n",
       "84       2             Volume Sphere\n",
       "109      2      Solving Inequalities\n",
       "82       2           Volume Cylinder\n",
       "80       1     Surface Area Cylinder"
      ]
     },
     "execution_count": 7,
     "metadata": {},
     "output_type": "execute_result"
    }
   ],
   "source": [
    "print('Bottom 5 skills:')\n",
    "skill_counts.tail()"
   ]
  },
  {
   "cell_type": "code",
   "execution_count": 8,
   "metadata": {},
   "outputs": [
    {
     "name": "stdout",
     "output_type": "stream",
     "text": [
      "Proportion of responses for most common skill:\n"
     ]
    },
    {
     "data": {
      "text/plain": [
       "0.078407534246575344"
      ]
     },
     "execution_count": 8,
     "metadata": {},
     "output_type": "execute_result"
    }
   ],
   "source": [
    "print('Proportion of responses for most common skill:')\n",
    "skill_counts.iloc[0, 0] / skill_counts['count'].sum()"
   ]
  },
  {
   "cell_type": "markdown",
   "metadata": {},
   "source": [
    "## Question 2\n",
    "\n",
    "Train the sequence prediction model using a randomly selected 70% (training set) of students' data and predict on the remaining 30% (test set). What was the overall accuracy of skill prediction in the test set? What were the top 5 hardest and easiest to predict skills? Describe the metric you chose to represent hard/easy prediction. "
   ]
  },
  {
   "cell_type": "code",
   "execution_count": 9,
   "metadata": {},
   "outputs": [
    {
     "data": {
      "text/plain": [
       "((408, 99, 111), (176, 99, 111))"
      ]
     },
     "execution_count": 9,
     "metadata": {},
     "output_type": "execute_result"
    }
   ],
   "source": [
    "from sklearn.model_selection import train_test_split\n",
    "\n",
    "X_train, X_test, y_train, y_test = train_test_split(skill_array[:, 0:-1], skill_array[:, 1:], test_size=0.3)\n",
    "X_train.shape, X_test.shape"
   ]
  },
  {
   "cell_type": "code",
   "execution_count": 12,
   "metadata": {},
   "outputs": [
    {
     "name": "stdout",
     "output_type": "stream",
     "text": [
      "Train on 326 samples, validate on 82 samples\n",
      "Epoch 1/20\n",
      "326/326 [==============================] - 1s - loss: 4.6533 - acc: 0.1423 - val_loss: 4.5828 - val_acc: 0.4233\n",
      "Epoch 2/20\n",
      "326/326 [==============================] - 1s - loss: 4.5181 - acc: 0.4430 - val_loss: 4.3526 - val_acc: 0.3755\n",
      "Epoch 3/20\n",
      "326/326 [==============================] - 1s - loss: 4.1315 - acc: 0.2106 - val_loss: 3.8672 - val_acc: 0.1398\n",
      "Epoch 4/20\n",
      "326/326 [==============================] - 1s - loss: 3.7409 - acc: 0.1613 - val_loss: 3.5118 - val_acc: 0.2166\n",
      "Epoch 5/20\n",
      "326/326 [==============================] - 1s - loss: 3.4378 - acc: 0.2185 - val_loss: 3.2544 - val_acc: 0.2762\n",
      "Epoch 6/20\n",
      "326/326 [==============================] - 1s - loss: 3.1585 - acc: 0.3196 - val_loss: 2.9795 - val_acc: 0.3707\n",
      "Epoch 7/20\n",
      "326/326 [==============================] - 1s - loss: 2.8959 - acc: 0.3604 - val_loss: 2.7486 - val_acc: 0.3863\n",
      "Epoch 8/20\n",
      "326/326 [==============================] - 1s - loss: 2.6670 - acc: 0.3920 - val_loss: 2.5466 - val_acc: 0.4276\n",
      "Epoch 9/20\n",
      "326/326 [==============================] - 1s - loss: 2.4612 - acc: 0.4405 - val_loss: 2.3498 - val_acc: 0.4640\n",
      "Epoch 10/20\n",
      "326/326 [==============================] - 1s - loss: 2.3162 - acc: 0.4738 - val_loss: 2.2786 - val_acc: 0.4892\n",
      "Epoch 11/20\n",
      "326/326 [==============================] - 1s - loss: 2.1886 - acc: 0.5107 - val_loss: 2.0904 - val_acc: 0.5170\n",
      "Epoch 12/20\n",
      "326/326 [==============================] - 1s - loss: 2.0268 - acc: 0.5426 - val_loss: 1.9686 - val_acc: 0.5474\n",
      "Epoch 13/20\n",
      "326/326 [==============================] - 1s - loss: 1.8983 - acc: 0.5743 - val_loss: 1.8420 - val_acc: 0.5740\n",
      "Epoch 14/20\n",
      "326/326 [==============================] - 1s - loss: 1.7876 - acc: 0.5972 - val_loss: 1.7449 - val_acc: 0.5910\n",
      "Epoch 15/20\n",
      "326/326 [==============================] - 1s - loss: 1.6878 - acc: 0.6126 - val_loss: 1.6440 - val_acc: 0.6090\n",
      "Epoch 16/20\n",
      "326/326 [==============================] - 1s - loss: 1.5961 - acc: 0.6331 - val_loss: 1.5593 - val_acc: 0.6307\n",
      "Epoch 17/20\n",
      "326/326 [==============================] - 1s - loss: 1.5161 - acc: 0.6513 - val_loss: 1.4921 - val_acc: 0.6527\n",
      "Epoch 18/20\n",
      "326/326 [==============================] - 1s - loss: 1.4482 - acc: 0.6656 - val_loss: 1.4310 - val_acc: 0.6706\n",
      "Epoch 19/20\n",
      "326/326 [==============================] - 1s - loss: 1.3890 - acc: 0.6787 - val_loss: 1.3727 - val_acc: 0.6778\n",
      "Epoch 20/20\n",
      "326/326 [==============================] - 1s - loss: 1.3295 - acc: 0.6963 - val_loss: 1.3053 - val_acc: 0.6935\n",
      "CPU times: user 55.4 s, sys: 3.58 s, total: 58.9 s\n",
      "Wall time: 38 s\n"
     ]
    },
    {
     "data": {
      "text/plain": [
       "<keras.callbacks.History at 0x1322a4240>"
      ]
     },
     "execution_count": 12,
     "metadata": {},
     "output_type": "execute_result"
    }
   ],
   "source": [
    "%%time\n",
    "\n",
    "# train skill2skill\n",
    "skill2skill_model.fit(X_train,\n",
    "                      y_train,\n",
    "                      epochs=20, \n",
    "                      batch_size=32, \n",
    "                      shuffle=True,\n",
    "                      validation_split=0.2)"
   ]
  },
  {
   "cell_type": "code",
   "execution_count": 20,
   "metadata": {},
   "outputs": [
    {
     "data": {
      "text/plain": [
       "(176, 99, 111)"
      ]
     },
     "execution_count": 20,
     "metadata": {},
     "output_type": "execute_result"
    }
   ],
   "source": [
    "test_predictions = skill2skill_model.predict(X_test)\n",
    "test_predictions.shape"
   ]
  },
  {
   "cell_type": "code",
   "execution_count": 74,
   "metadata": {},
   "outputs": [
    {
     "name": "stdout",
     "output_type": "stream",
     "text": [
      "Overall accuracy:\n"
     ]
    },
    {
     "data": {
      "text/plain": [
       "0.7007575757575758"
      ]
     },
     "execution_count": 74,
     "metadata": {},
     "output_type": "execute_result"
    }
   ],
   "source": [
    "def s2s_acc(true, predictions):\n",
    "    assert true.shape == predictions.shape\n",
    "    return (np.count_nonzero(true.argmax(axis=2) == predictions.argmax(axis=2))\n",
    "            / (true.shape[0] * true.shape[1]))\n",
    "\n",
    "print(\"Overall accuracy:\")\n",
    "s2s_acc(y_test, test_predictions)"
   ]
  },
  {
   "cell_type": "code",
   "execution_count": 67,
   "metadata": {},
   "outputs": [
    {
     "name": "stdout",
     "output_type": "stream",
     "text": [
      "Easiest skills to predict (highest recall):\n"
     ]
    },
    {
     "data": {
      "text/html": [
       "<div>\n",
       "<style>\n",
       "    .dataframe thead tr:only-child th {\n",
       "        text-align: right;\n",
       "    }\n",
       "\n",
       "    .dataframe thead th {\n",
       "        text-align: left;\n",
       "    }\n",
       "\n",
       "    .dataframe tbody tr th {\n",
       "        vertical-align: top;\n",
       "    }\n",
       "</style>\n",
       "<table border=\"1\" class=\"dataframe\">\n",
       "  <thead>\n",
       "    <tr style=\"text-align: right;\">\n",
       "      <th></th>\n",
       "      <th>scores</th>\n",
       "      <th>Name</th>\n",
       "    </tr>\n",
       "  </thead>\n",
       "  <tbody>\n",
       "    <tr>\n",
       "      <th>1</th>\n",
       "      <td>0.984906</td>\n",
       "      <td>Box and Whisker</td>\n",
       "    </tr>\n",
       "    <tr>\n",
       "      <th>46</th>\n",
       "      <td>0.957399</td>\n",
       "      <td>Square Root</td>\n",
       "    </tr>\n",
       "    <tr>\n",
       "      <th>68</th>\n",
       "      <td>0.922145</td>\n",
       "      <td>Addition and Subtraction Integers</td>\n",
       "    </tr>\n",
       "    <tr>\n",
       "      <th>7</th>\n",
       "      <td>0.915704</td>\n",
       "      <td>Table</td>\n",
       "    </tr>\n",
       "    <tr>\n",
       "      <th>8</th>\n",
       "      <td>0.910093</td>\n",
       "      <td>Venn Diagram</td>\n",
       "    </tr>\n",
       "  </tbody>\n",
       "</table>\n",
       "</div>"
      ],
      "text/plain": [
       "      scores                               Name\n",
       "1   0.984906                    Box and Whisker\n",
       "46  0.957399                        Square Root\n",
       "68  0.922145  Addition and Subtraction Integers\n",
       "7   0.915704                              Table\n",
       "8   0.910093                       Venn Diagram"
      ]
     },
     "execution_count": 67,
     "metadata": {},
     "output_type": "execute_result"
    }
   ],
   "source": [
    "from sklearn.metrics import classification\n",
    "\n",
    "scores = classification.recall_score(y_test.argmax(axis=2).flatten(),\n",
    "                                     test_predictions.argmax(axis=2).flatten(),\n",
    "                                     average=None)\n",
    "score_df = pd.DataFrame({'scores': scores}, index=np.unique(y_test.argmax(axis=2)))\n",
    "\n",
    "print('Easiest skills to predict (highest recall):')\n",
    "(score_df\n",
    " .sort_values('scores', ascending=False)\n",
    " .join(skillname_df)\n",
    " .head()\n",
    ")"
   ]
  },
  {
   "cell_type": "code",
   "execution_count": 66,
   "metadata": {},
   "outputs": [
    {
     "name": "stdout",
     "output_type": "stream",
     "text": [
      "Hardest skills to predict (lowest recall):\n",
      "Note that there were a lot of 0s so these are just 5 of the 0s\n"
     ]
    },
    {
     "data": {
      "text/html": [
       "<div>\n",
       "<style>\n",
       "    .dataframe thead tr:only-child th {\n",
       "        text-align: right;\n",
       "    }\n",
       "\n",
       "    .dataframe thead th {\n",
       "        text-align: left;\n",
       "    }\n",
       "\n",
       "    .dataframe tbody tr th {\n",
       "        vertical-align: top;\n",
       "    }\n",
       "</style>\n",
       "<table border=\"1\" class=\"dataframe\">\n",
       "  <thead>\n",
       "    <tr style=\"text-align: right;\">\n",
       "      <th></th>\n",
       "      <th>scores</th>\n",
       "      <th>Name</th>\n",
       "    </tr>\n",
       "  </thead>\n",
       "  <tbody>\n",
       "    <tr>\n",
       "      <th>20</th>\n",
       "      <td>0.0</td>\n",
       "      <td>Angles on Parallel Lines Cut by a Transversal</td>\n",
       "    </tr>\n",
       "    <tr>\n",
       "      <th>56</th>\n",
       "      <td>0.0</td>\n",
       "      <td>Pattern Finding</td>\n",
       "    </tr>\n",
       "    <tr>\n",
       "      <th>59</th>\n",
       "      <td>0.0</td>\n",
       "      <td>Algebraic Solving</td>\n",
       "    </tr>\n",
       "    <tr>\n",
       "      <th>60</th>\n",
       "      <td>0.0</td>\n",
       "      <td>Choose an Equation from Given Information</td>\n",
       "    </tr>\n",
       "    <tr>\n",
       "      <th>110</th>\n",
       "      <td>0.0</td>\n",
       "      <td>Solving Systems of Linear Equations by Graphing</td>\n",
       "    </tr>\n",
       "  </tbody>\n",
       "</table>\n",
       "</div>"
      ],
      "text/plain": [
       "     scores                                             Name\n",
       "20      0.0    Angles on Parallel Lines Cut by a Transversal\n",
       "56      0.0                                 Pattern Finding \n",
       "59      0.0                                Algebraic Solving\n",
       "60      0.0        Choose an Equation from Given Information\n",
       "110     0.0  Solving Systems of Linear Equations by Graphing"
      ]
     },
     "execution_count": 66,
     "metadata": {},
     "output_type": "execute_result"
    }
   ],
   "source": [
    "print('Hardest skills to predict (lowest recall):')\n",
    "print('Note that there were a lot of 0s so these are just 5 of the 0s')\n",
    "(score_df\n",
    " .sort_values('scores', ascending=False)\n",
    " .join(skillname_df)\n",
    " .tail()\n",
    ")"
   ]
  },
  {
   "cell_type": "markdown",
   "metadata": {},
   "source": [
    "## Question 3\n",
    "\n",
    "Modify parameters of the network to increase accuracy (e.g. number of hidden nodes, optimizer, number of RNN layers, number of epochs, creating a validation set and stopping training when the validation set accuracy decreases). What were your accuracy results with respect to the hyper parameters you tuned?"
   ]
  },
  {
   "cell_type": "code",
   "execution_count": 88,
   "metadata": {
    "scrolled": true
   },
   "outputs": [
    {
     "name": "stdout",
     "output_type": "stream",
     "text": [
      "skill2skill with dropout of 0.1\n",
      "_________________________________________________________________\n",
      "Layer (type)                 Output Shape              Param #   \n",
      "=================================================================\n",
      "input skills (InputLayer)    (None, 99, 111)           0         \n",
      "_________________________________________________________________\n",
      "lstm layer (LSTM)            (None, 99, 128)           122880    \n",
      "_________________________________________________________________\n",
      "probability (TimeDistributed (None, 99, 111)           14319     \n",
      "=================================================================\n",
      "Total params: 137,199\n",
      "Trainable params: 137,199\n",
      "Non-trainable params: 0\n",
      "_________________________________________________________________\n"
     ]
    }
   ],
   "source": [
    "print('skill2skill with 128 hidden nodes')\n",
    "s2s_128_model = build_skill2skill_model((99, skill_num), lstm_dim=128)"
   ]
  },
  {
   "cell_type": "code",
   "execution_count": 89,
   "metadata": {
    "collapsed": true
   },
   "outputs": [
    {
     "name": "stdout",
     "output_type": "stream",
     "text": [
      "Train on 326 samples, validate on 82 samples\n",
      "Epoch 1/20\n",
      "326/326 [==============================] - 2s - loss: 4.6279 - acc: 0.2381 - val_loss: 4.4789 - val_acc: 0.4958\n",
      "Epoch 2/20\n",
      "326/326 [==============================] - 2s - loss: 4.2272 - acc: 0.3127 - val_loss: 3.7845 - val_acc: 0.2232\n",
      "Epoch 3/20\n",
      "326/326 [==============================] - 2s - loss: 3.6545 - acc: 0.2389 - val_loss: 3.2747 - val_acc: 0.2636\n",
      "Epoch 4/20\n",
      "326/326 [==============================] - 2s - loss: 3.1287 - acc: 0.2737 - val_loss: 2.8435 - val_acc: 0.3448\n",
      "Epoch 5/20\n",
      "326/326 [==============================] - 2s - loss: 2.6708 - acc: 0.3595 - val_loss: 2.4688 - val_acc: 0.4191\n",
      "Epoch 6/20\n",
      "326/326 [==============================] - 2s - loss: 2.3373 - acc: 0.4474 - val_loss: 2.2300 - val_acc: 0.4718\n",
      "Epoch 7/20\n",
      "326/326 [==============================] - 2s - loss: 2.1123 - acc: 0.4891 - val_loss: 1.9797 - val_acc: 0.5248\n",
      "Epoch 8/20\n",
      "326/326 [==============================] - 2s - loss: 1.8995 - acc: 0.5505 - val_loss: 1.8180 - val_acc: 0.5838\n",
      "Epoch 9/20\n",
      "326/326 [==============================] - 4s - loss: 1.7225 - acc: 0.5860 - val_loss: 1.7010 - val_acc: 0.5887\n",
      "Epoch 10/20\n",
      "326/326 [==============================] - 2s - loss: 1.5751 - acc: 0.6170 - val_loss: 1.5052 - val_acc: 0.6335\n",
      "Epoch 11/20\n",
      "326/326 [==============================] - 2s - loss: 1.4406 - acc: 0.6469 - val_loss: 1.4081 - val_acc: 0.6619\n",
      "Epoch 12/20\n",
      "326/326 [==============================] - 2s - loss: 1.3413 - acc: 0.6756 - val_loss: 1.3315 - val_acc: 0.6806\n",
      "Epoch 13/20\n",
      "326/326 [==============================] - 2s - loss: 1.2550 - acc: 0.7009 - val_loss: 1.2336 - val_acc: 0.6904\n",
      "Epoch 14/20\n",
      "326/326 [==============================] - 2s - loss: 1.1747 - acc: 0.7134 - val_loss: 1.1567 - val_acc: 0.7269\n",
      "Epoch 15/20\n",
      "326/326 [==============================] - 2s - loss: 1.1067 - acc: 0.7376 - val_loss: 1.0925 - val_acc: 0.7254\n",
      "Epoch 16/20\n",
      "326/326 [==============================] - 2s - loss: 1.0463 - acc: 0.7471 - val_loss: 1.0376 - val_acc: 0.7396\n",
      "Epoch 17/20\n",
      "326/326 [==============================] - 2s - loss: 1.0091 - acc: 0.7534 - val_loss: 0.9971 - val_acc: 0.7501\n",
      "Epoch 18/20\n",
      "326/326 [==============================] - 2s - loss: 0.9565 - acc: 0.7662 - val_loss: 0.9530 - val_acc: 0.7591\n",
      "Epoch 19/20\n",
      "326/326 [==============================] - 2s - loss: 0.9159 - acc: 0.7746 - val_loss: 0.9171 - val_acc: 0.7715\n",
      "Epoch 20/20\n",
      "326/326 [==============================] - 2s - loss: 0.8811 - acc: 0.7826 - val_loss: 0.8956 - val_acc: 0.7715\n",
      "CPU times: user 1min 31s, sys: 6.09 s, total: 1min 37s\n",
      "Wall time: 59.8 s\n"
     ]
    },
    {
     "data": {
      "text/plain": [
       "<keras.callbacks.History at 0x140e574a8>"
      ]
     },
     "execution_count": 89,
     "metadata": {},
     "output_type": "execute_result"
    }
   ],
   "source": [
    "%%time\n",
    "\n",
    "# train skill2skill\n",
    "s2s_128_model.fit(X_train,\n",
    "                  y_train,\n",
    "                  epochs=20,\n",
    "                  batch_size=32,\n",
    "                  shuffle=True,\n",
    "                  validation_split=0.2)"
   ]
  },
  {
   "cell_type": "code",
   "execution_count": 90,
   "metadata": {},
   "outputs": [
    {
     "name": "stdout",
     "output_type": "stream",
     "text": [
      "Attempts to set dropout=0.1 or lower number of hidden nodes decreased accuracy.\n",
      "Accuracy with 128 hidden nodes:\n"
     ]
    },
    {
     "data": {
      "text/plain": [
       "0.7765725436179982"
      ]
     },
     "execution_count": 90,
     "metadata": {},
     "output_type": "execute_result"
    }
   ],
   "source": [
    "print('Attempts to set dropout=0.1 or lower number of hidden nodes decreased accuracy.')\n",
    "\n",
    "print('Accuracy with 128 hidden nodes:')\n",
    "s2s_acc(y_test, s2s_128_model.predict(X_test))"
   ]
  },
  {
   "cell_type": "markdown",
   "metadata": {},
   "source": [
    "## Question 4\n",
    "\n",
    "Train a performance prediction model (DKT) using the same 70/30% split and report the accuracy and AUC of prediction on the 30%"
   ]
  },
  {
   "cell_type": "code",
   "execution_count": 100,
   "metadata": {},
   "outputs": [
    {
     "data": {
      "text/plain": [
       "((408, 99, 222), (176, 99, 222))"
      ]
     },
     "execution_count": 100,
     "metadata": {},
     "output_type": "execute_result"
    }
   ],
   "source": [
    "X1_train, X1_test, X2_train, X2_test, y_train, y_test = train_test_split(\n",
    "    skill_response_array[:, 0:-1], \n",
    "    skill_array[:, 1:],\n",
    "    response_array[:, 1:, np.newaxis],\n",
    "    test_size=0.3\n",
    ")\n",
    "X1_train.shape, X1_test.shape"
   ]
  },
  {
   "cell_type": "code",
   "execution_count": 101,
   "metadata": {
    "collapsed": true
   },
   "outputs": [
    {
     "name": "stdout",
     "output_type": "stream",
     "text": [
      "Train on 326 samples, validate on 82 samples\n",
      "Epoch 1/20\n",
      "326/326 [==============================] - 1s - loss: 0.6832 - acc: 0.6557 - val_loss: 0.6666 - val_acc: 0.7922\n",
      "Epoch 2/20\n",
      "326/326 [==============================] - 1s - loss: 0.6502 - acc: 0.8279 - val_loss: 0.6302 - val_acc: 0.8289\n",
      "Epoch 3/20\n",
      "326/326 [==============================] - 1s - loss: 0.5897 - acc: 0.8363 - val_loss: 0.5278 - val_acc: 0.8060\n",
      "Epoch 4/20\n",
      "326/326 [==============================] - 1s - loss: 0.4948 - acc: 0.8177 - val_loss: 0.4607 - val_acc: 0.8370\n",
      "Epoch 5/20\n",
      "326/326 [==============================] - 1s - loss: 0.4367 - acc: 0.8409 - val_loss: 0.4309 - val_acc: 0.8389\n",
      "Epoch 6/20\n",
      "326/326 [==============================] - 1s - loss: 0.4118 - acc: 0.8418 - val_loss: 0.4242 - val_acc: 0.8408\n",
      "Epoch 7/20\n",
      "326/326 [==============================] - 1s - loss: 0.4024 - acc: 0.8450 - val_loss: 0.4182 - val_acc: 0.8411\n",
      "Epoch 8/20\n",
      "326/326 [==============================] - 1s - loss: 0.3949 - acc: 0.8475 - val_loss: 0.4171 - val_acc: 0.8412\n",
      "Epoch 9/20\n",
      "326/326 [==============================] - 1s - loss: 0.3932 - acc: 0.8507 - val_loss: 0.4122 - val_acc: 0.8406\n",
      "Epoch 10/20\n",
      "326/326 [==============================] - 1s - loss: 0.3854 - acc: 0.8511 - val_loss: 0.4100 - val_acc: 0.8413\n",
      "Epoch 11/20\n",
      "326/326 [==============================] - 1s - loss: 0.3806 - acc: 0.8513 - val_loss: 0.4054 - val_acc: 0.8413\n",
      "Epoch 12/20\n",
      "326/326 [==============================] - 1s - loss: 0.3781 - acc: 0.8528 - val_loss: 0.4016 - val_acc: 0.8413\n",
      "Epoch 13/20\n",
      "326/326 [==============================] - 1s - loss: 0.3753 - acc: 0.8529 - val_loss: 0.3979 - val_acc: 0.8415\n",
      "Epoch 14/20\n",
      "326/326 [==============================] - 1s - loss: 0.3709 - acc: 0.8545 - val_loss: 0.3997 - val_acc: 0.8434\n",
      "Epoch 15/20\n",
      "326/326 [==============================] - 1s - loss: 0.3667 - acc: 0.8557 - val_loss: 0.3940 - val_acc: 0.8441\n",
      "Epoch 16/20\n",
      "326/326 [==============================] - 1s - loss: 0.3635 - acc: 0.8568 - val_loss: 0.3928 - val_acc: 0.8444\n",
      "Epoch 17/20\n",
      "326/326 [==============================] - 1s - loss: 0.3597 - acc: 0.8587 - val_loss: 0.3916 - val_acc: 0.8442\n",
      "Epoch 18/20\n",
      "326/326 [==============================] - 1s - loss: 0.3583 - acc: 0.8590 - val_loss: 0.3929 - val_acc: 0.8449\n",
      "Epoch 19/20\n",
      "326/326 [==============================] - 1s - loss: 0.3563 - acc: 0.8590 - val_loss: 0.3898 - val_acc: 0.8444\n",
      "Epoch 20/20\n",
      "326/326 [==============================] - 1s - loss: 0.3568 - acc: 0.8599 - val_loss: 0.3877 - val_acc: 0.8448\n",
      "CPU times: user 52.9 s, sys: 3.69 s, total: 56.6 s\n",
      "Wall time: 34.9 s\n"
     ]
    },
    {
     "data": {
      "text/plain": [
       "<keras.callbacks.History at 0x16af02390>"
      ]
     },
     "execution_count": 101,
     "metadata": {},
     "output_type": "execute_result"
    }
   ],
   "source": [
    "%%time\n",
    "\n",
    "dkt_model.fit([X1_train, X2_train],\n",
    "              y_train,\n",
    "              epochs=15, \n",
    "              batch_size=32, \n",
    "              shuffle=True,\n",
    "              validation_split=0.2)"
   ]
  },
  {
   "cell_type": "code",
   "execution_count": 119,
   "metadata": {},
   "outputs": [
    {
     "name": "stdout",
     "output_type": "stream",
     "text": [
      "176/176 [==============================] - 0s     \n"
     ]
    },
    {
     "data": {
      "text/plain": [
       "[0.35878889127211139, 0.86346419291062793]"
      ]
     },
     "execution_count": 119,
     "metadata": {},
     "output_type": "execute_result"
    }
   ],
   "source": [
    "dkt_model.evaluate([X1_test, X2_test], y_test)"
   ]
  },
  {
   "cell_type": "code",
   "execution_count": 121,
   "metadata": {},
   "outputs": [
    {
     "name": "stdout",
     "output_type": "stream",
     "text": [
      "DKT Prediction Accuracy:\n"
     ]
    },
    {
     "data": {
      "text/plain": [
       "0.86346418732782371"
      ]
     },
     "execution_count": 121,
     "metadata": {},
     "output_type": "execute_result"
    }
   ],
   "source": [
    "from sklearn.metrics import accuracy_score\n",
    "\n",
    "dkt_predictions = dkt_model.predict([X1_test, X2_test])\n",
    "print('DKT Prediction Accuracy:')\n",
    "accuracy_score(np.round(dkt_predictions.flatten()), y_test.flatten())"
   ]
  },
  {
   "cell_type": "code",
   "execution_count": 140,
   "metadata": {},
   "outputs": [
    {
     "name": "stdout",
     "output_type": "stream",
     "text": [
      "DKT AUC score:\n"
     ]
    },
    {
     "data": {
      "text/plain": [
       "0.74280793994244021"
      ]
     },
     "execution_count": 140,
     "metadata": {},
     "output_type": "execute_result"
    }
   ],
   "source": [
    "from sklearn.metrics import roc_auc_score\n",
    "\n",
    "print('DKT AUC score:')\n",
    "roc_auc_score(y_test.flatten(), dkt_predictions.flatten())"
   ]
  },
  {
   "cell_type": "markdown",
   "metadata": {},
   "source": [
    "## Question 5\n",
    "\n",
    "Tune the hyper parameters of this model to improve accuracy and report your improvement with respect to the tuned parameters. Which lead to the most significant improvement?"
   ]
  },
  {
   "cell_type": "code",
   "execution_count": 124,
   "metadata": {
    "collapsed": true
   },
   "outputs": [
    {
     "name": "stdout",
     "output_type": "stream",
     "text": [
      "dkt with 128 hidden nodes\n",
      "____________________________________________________________________________________________________\n",
      "Layer (type)                     Output Shape          Param #     Connected to                     \n",
      "====================================================================================================\n",
      "input skills (InputLayer)        (None, 99, 222)       0                                            \n",
      "____________________________________________________________________________________________________\n",
      "lstm layer (LSTM)                (None, 99, 128)       179712      input skills[0][0]               \n",
      "____________________________________________________________________________________________________\n",
      "probability for each (TimeDistri (None, 99, 111)       14319       lstm layer[0][0]                 \n",
      "____________________________________________________________________________________________________\n",
      "next_skill_tested (InputLayer)   (None, 99, 111)       0                                            \n",
      "____________________________________________________________________________________________________\n",
      "multiply (Multiply)              (None, 99, 111)       0           probability for each[0][0]       \n",
      "                                                                   next_skill_tested[0][0]          \n",
      "____________________________________________________________________________________________________\n",
      "reduce dim (Lambda)              (None, 99, 1)         0           multiply[0][0]                   \n",
      "====================================================================================================\n",
      "Total params: 194,031\n",
      "Trainable params: 194,031\n",
      "Non-trainable params: 0\n",
      "____________________________________________________________________________________________________\n"
     ]
    }
   ],
   "source": [
    "print('dkt with 128 hidden nodes')\n",
    "dkt_128_model = build_dkt_model((99, 2 * skill_num), lstm_dim=128)"
   ]
  },
  {
   "cell_type": "code",
   "execution_count": 125,
   "metadata": {
    "collapsed": true
   },
   "outputs": [
    {
     "name": "stdout",
     "output_type": "stream",
     "text": [
      "Train on 326 samples, validate on 82 samples\n",
      "Epoch 1/20\n",
      "326/326 [==============================] - 2s - loss: 0.6695 - acc: 0.7454 - val_loss: 0.6366 - val_acc: 0.8327\n",
      "Epoch 2/20\n",
      "326/326 [==============================] - 2s - loss: 0.5696 - acc: 0.8423 - val_loss: 0.4805 - val_acc: 0.8344\n",
      "Epoch 3/20\n",
      "326/326 [==============================] - 2s - loss: 0.4444 - acc: 0.8397 - val_loss: 0.4346 - val_acc: 0.8407\n",
      "Epoch 4/20\n",
      "326/326 [==============================] - 2s - loss: 0.4114 - acc: 0.8429 - val_loss: 0.4258 - val_acc: 0.8416\n",
      "Epoch 5/20\n",
      "326/326 [==============================] - 2s - loss: 0.4038 - acc: 0.8452 - val_loss: 0.4159 - val_acc: 0.8413\n",
      "Epoch 6/20\n",
      "326/326 [==============================] - 2s - loss: 0.3959 - acc: 0.8491 - val_loss: 0.4138 - val_acc: 0.8408\n",
      "Epoch 7/20\n",
      "326/326 [==============================] - 2s - loss: 0.3937 - acc: 0.8488 - val_loss: 0.4104 - val_acc: 0.8412\n",
      "Epoch 8/20\n",
      "326/326 [==============================] - 2s - loss: 0.3882 - acc: 0.8513 - val_loss: 0.4072 - val_acc: 0.8408\n",
      "Epoch 9/20\n",
      "326/326 [==============================] - 2s - loss: 0.3842 - acc: 0.8500 - val_loss: 0.4052 - val_acc: 0.8408\n",
      "Epoch 10/20\n",
      "326/326 [==============================] - 2s - loss: 0.3948 - acc: 0.8472 - val_loss: 0.4102 - val_acc: 0.8392\n",
      "Epoch 11/20\n",
      "326/326 [==============================] - 2s - loss: 0.3878 - acc: 0.8480 - val_loss: 0.4080 - val_acc: 0.8402\n",
      "Epoch 12/20\n",
      "326/326 [==============================] - 2s - loss: 0.3861 - acc: 0.8524 - val_loss: 0.4085 - val_acc: 0.8397\n",
      "Epoch 13/20\n",
      "326/326 [==============================] - 2s - loss: 0.3791 - acc: 0.8534 - val_loss: 0.4025 - val_acc: 0.8411\n",
      "Epoch 14/20\n",
      "326/326 [==============================] - 2s - loss: 0.3763 - acc: 0.8520 - val_loss: 0.3985 - val_acc: 0.8434\n",
      "Epoch 15/20\n",
      "326/326 [==============================] - 2s - loss: 0.3708 - acc: 0.8558 - val_loss: 0.3971 - val_acc: 0.8438\n",
      "Epoch 16/20\n",
      "326/326 [==============================] - 2s - loss: 0.3703 - acc: 0.8545 - val_loss: 0.3967 - val_acc: 0.8436\n",
      "Epoch 17/20\n",
      "326/326 [==============================] - 3s - loss: 0.3650 - acc: 0.8575 - val_loss: 0.3975 - val_acc: 0.8428\n",
      "Epoch 18/20\n",
      "326/326 [==============================] - 2s - loss: 0.3670 - acc: 0.8578 - val_loss: 0.3931 - val_acc: 0.8428\n",
      "Epoch 19/20\n",
      "326/326 [==============================] - 2s - loss: 0.3612 - acc: 0.8576 - val_loss: 0.3919 - val_acc: 0.8429\n",
      "Epoch 20/20\n",
      "326/326 [==============================] - 2s - loss: 0.3598 - acc: 0.8570 - val_loss: 0.3868 - val_acc: 0.8426\n",
      "CPU times: user 1min 26s, sys: 5.34 s, total: 1min 31s\n",
      "Wall time: 53.6 s\n"
     ]
    },
    {
     "data": {
      "text/plain": [
       "<keras.callbacks.History at 0x144d1b7f0>"
      ]
     },
     "execution_count": 125,
     "metadata": {},
     "output_type": "execute_result"
    }
   ],
   "source": [
    "%%time\n",
    "\n",
    "dkt_128_model.fit([X1_train, X2_train],\n",
    "                  y_train,\n",
    "                  epochs=20, \n",
    "                  batch_size=32, \n",
    "                  shuffle=True,\n",
    "                  validation_split=0.2)"
   ]
  },
  {
   "cell_type": "code",
   "execution_count": 126,
   "metadata": {},
   "outputs": [
    {
     "name": "stdout",
     "output_type": "stream",
     "text": [
      "DKT Prediction Accuracy with 128 hidden nodes:\n"
     ]
    },
    {
     "data": {
      "text/plain": [
       "0.86116850321395777"
      ]
     },
     "execution_count": 126,
     "metadata": {},
     "output_type": "execute_result"
    }
   ],
   "source": [
    "dkt_128_predictions = dkt_128_model.predict([X1_test, X2_test])\n",
    "print('DKT Prediction Accuracy with 128 hidden nodes:')\n",
    "accuracy_score(np.round(dkt_128_predictions.flatten()), y_test.flatten())"
   ]
  },
  {
   "cell_type": "markdown",
   "metadata": {},
   "source": [
    "That didn't really work; attempt 2:"
   ]
  },
  {
   "cell_type": "code",
   "execution_count": 128,
   "metadata": {
    "collapsed": true
   },
   "outputs": [
    {
     "name": "stdout",
     "output_type": "stream",
     "text": [
      "dkt with 128 hidden nodes and dropout of 0.01\n",
      "____________________________________________________________________________________________________\n",
      "Layer (type)                     Output Shape          Param #     Connected to                     \n",
      "====================================================================================================\n",
      "input skills (InputLayer)        (None, 99, 222)       0                                            \n",
      "____________________________________________________________________________________________________\n",
      "lstm layer (LSTM)                (None, 99, 128)       179712      input skills[0][0]               \n",
      "____________________________________________________________________________________________________\n",
      "probability for each (TimeDistri (None, 99, 111)       14319       lstm layer[0][0]                 \n",
      "____________________________________________________________________________________________________\n",
      "next_skill_tested (InputLayer)   (None, 99, 111)       0                                            \n",
      "____________________________________________________________________________________________________\n",
      "multiply (Multiply)              (None, 99, 111)       0           probability for each[0][0]       \n",
      "                                                                   next_skill_tested[0][0]          \n",
      "____________________________________________________________________________________________________\n",
      "reduce dim (Lambda)              (None, 99, 1)         0           multiply[0][0]                   \n",
      "====================================================================================================\n",
      "Total params: 194,031\n",
      "Trainable params: 194,031\n",
      "Non-trainable params: 0\n",
      "____________________________________________________________________________________________________\n"
     ]
    }
   ],
   "source": [
    "print('dkt with 128 hidden nodes and dropout of 0.01')\n",
    "dkt_128_model = build_dkt_model((99, 2 * skill_num), lstm_dim=128, dropout=0.01)"
   ]
  },
  {
   "cell_type": "code",
   "execution_count": 129,
   "metadata": {
    "collapsed": true
   },
   "outputs": [
    {
     "name": "stdout",
     "output_type": "stream",
     "text": [
      "Train on 326 samples, validate on 82 samples\n",
      "Epoch 1/20\n",
      "326/326 [==============================] - 2s - loss: 0.6687 - acc: 0.7452 - val_loss: 0.6373 - val_acc: 0.8342\n",
      "Epoch 2/20\n",
      "326/326 [==============================] - 2s - loss: 0.5703 - acc: 0.8359 - val_loss: 0.5011 - val_acc: 0.8166\n",
      "Epoch 3/20\n",
      "326/326 [==============================] - 2s - loss: 0.4598 - acc: 0.8313 - val_loss: 0.4398 - val_acc: 0.8381\n",
      "Epoch 4/20\n",
      "326/326 [==============================] - 2s - loss: 0.4196 - acc: 0.8409 - val_loss: 0.4253 - val_acc: 0.8411\n",
      "Epoch 5/20\n",
      "326/326 [==============================] - 2s - loss: 0.4059 - acc: 0.8445 - val_loss: 0.4191 - val_acc: 0.8420\n",
      "Epoch 6/20\n",
      "326/326 [==============================] - 2s - loss: 0.3997 - acc: 0.8461 - val_loss: 0.4172 - val_acc: 0.8420\n",
      "Epoch 7/20\n",
      "326/326 [==============================] - 2s - loss: 0.3960 - acc: 0.8486 - val_loss: 0.4121 - val_acc: 0.8400\n",
      "Epoch 8/20\n",
      "326/326 [==============================] - 2s - loss: 0.3903 - acc: 0.8488 - val_loss: 0.4089 - val_acc: 0.8408\n",
      "Epoch 9/20\n",
      "326/326 [==============================] - 2s - loss: 0.3865 - acc: 0.8498 - val_loss: 0.4077 - val_acc: 0.8410\n",
      "Epoch 10/20\n",
      "326/326 [==============================] - 2s - loss: 0.3842 - acc: 0.8519 - val_loss: 0.4054 - val_acc: 0.8411\n",
      "Epoch 11/20\n",
      "326/326 [==============================] - 2s - loss: 0.3800 - acc: 0.8533 - val_loss: 0.4020 - val_acc: 0.8412\n",
      "Epoch 12/20\n",
      "326/326 [==============================] - 2s - loss: 0.3765 - acc: 0.8519 - val_loss: 0.4003 - val_acc: 0.8417\n",
      "Epoch 13/20\n",
      "326/326 [==============================] - 2s - loss: 0.3731 - acc: 0.8549 - val_loss: 0.3970 - val_acc: 0.8394\n",
      "Epoch 14/20\n",
      "326/326 [==============================] - 2s - loss: 0.3724 - acc: 0.8534 - val_loss: 0.4017 - val_acc: 0.8338\n",
      "Epoch 15/20\n",
      "326/326 [==============================] - 2s - loss: 0.3773 - acc: 0.8450 - val_loss: 0.3988 - val_acc: 0.8338\n",
      "Epoch 16/20\n",
      "326/326 [==============================] - 3s - loss: 0.3728 - acc: 0.8470 - val_loss: 0.3920 - val_acc: 0.8370\n",
      "Epoch 17/20\n",
      "326/326 [==============================] - 3s - loss: 0.3681 - acc: 0.8491 - val_loss: 0.3939 - val_acc: 0.8390\n",
      "Epoch 18/20\n",
      "326/326 [==============================] - 2s - loss: 0.3628 - acc: 0.8535 - val_loss: 0.3935 - val_acc: 0.8353\n",
      "Epoch 19/20\n",
      "326/326 [==============================] - 2s - loss: 0.3593 - acc: 0.8573 - val_loss: 0.3844 - val_acc: 0.8466\n",
      "Epoch 20/20\n",
      "326/326 [==============================] - 2s - loss: 0.3530 - acc: 0.8610 - val_loss: 0.3838 - val_acc: 0.8457\n",
      "CPU times: user 1min 34s, sys: 8.24 s, total: 1min 43s\n",
      "Wall time: 60 s\n"
     ]
    },
    {
     "data": {
      "text/plain": [
       "<keras.callbacks.History at 0x147370278>"
      ]
     },
     "execution_count": 129,
     "metadata": {},
     "output_type": "execute_result"
    }
   ],
   "source": [
    "%%time\n",
    "\n",
    "dkt_128_model.fit([X1_train, X2_train],\n",
    "                  y_train,\n",
    "                  epochs=20, \n",
    "                  batch_size=32, \n",
    "                  shuffle=True,\n",
    "                  validation_split=0.2)"
   ]
  },
  {
   "cell_type": "code",
   "execution_count": 130,
   "metadata": {},
   "outputs": [
    {
     "name": "stdout",
     "output_type": "stream",
     "text": [
      "DKT Prediction Accuracy with 128 hidden nodes and dropout of 0.01:\n"
     ]
    },
    {
     "data": {
      "text/plain": [
       "0.8617424242424242"
      ]
     },
     "execution_count": 130,
     "metadata": {},
     "output_type": "execute_result"
    }
   ],
   "source": [
    "dkt_128_predictions = dkt_128_model.predict([X1_test, X2_test])\n",
    "print('DKT Prediction Accuracy with 128 hidden nodes and dropout of 0.01:')\n",
    "accuracy_score(np.round(dkt_128_predictions.flatten()), y_test.flatten())"
   ]
  },
  {
   "cell_type": "code",
   "execution_count": 139,
   "metadata": {},
   "outputs": [
    {
     "name": "stdout",
     "output_type": "stream",
     "text": [
      "DKT AUC score:\n"
     ]
    },
    {
     "data": {
      "text/plain": [
       "0.75305468559654443"
      ]
     },
     "execution_count": 139,
     "metadata": {},
     "output_type": "execute_result"
    }
   ],
   "source": [
    "print('DKT AUC score:')\n",
    "roc_auc_score(y_test.flatten(), dkt_128_predictions.flatten())"
   ]
  },
  {
   "cell_type": "markdown",
   "metadata": {},
   "source": [
    "That was about the same as well :(."
   ]
  },
  {
   "cell_type": "code",
   "execution_count": 132,
   "metadata": {},
   "outputs": [
    {
     "name": "stdout",
     "output_type": "stream",
     "text": [
      "dkt with 256 hidden nodes and dropout of 0.01\n",
      "____________________________________________________________________________________________________\n",
      "Layer (type)                     Output Shape          Param #     Connected to                     \n",
      "====================================================================================================\n",
      "input skills (InputLayer)        (None, 99, 222)       0                                            \n",
      "____________________________________________________________________________________________________\n",
      "lstm layer (LSTM)                (None, 99, 256)       490496      input skills[0][0]               \n",
      "____________________________________________________________________________________________________\n",
      "probability for each (TimeDistri (None, 99, 111)       28527       lstm layer[0][0]                 \n",
      "____________________________________________________________________________________________________\n",
      "next_skill_tested (InputLayer)   (None, 99, 111)       0                                            \n",
      "____________________________________________________________________________________________________\n",
      "multiply (Multiply)              (None, 99, 111)       0           probability for each[0][0]       \n",
      "                                                                   next_skill_tested[0][0]          \n",
      "____________________________________________________________________________________________________\n",
      "reduce dim (Lambda)              (None, 99, 1)         0           multiply[0][0]                   \n",
      "====================================================================================================\n",
      "Total params: 519,023\n",
      "Trainable params: 519,023\n",
      "Non-trainable params: 0\n",
      "____________________________________________________________________________________________________\n"
     ]
    }
   ],
   "source": [
    "print('dkt with 256 hidden nodes and dropout of 0.01')\n",
    "dkt_256_model = build_dkt_model((99, 2 * skill_num), lstm_dim=256, dropout=0.01)"
   ]
  },
  {
   "cell_type": "code",
   "execution_count": 133,
   "metadata": {},
   "outputs": [
    {
     "name": "stdout",
     "output_type": "stream",
     "text": [
      "Train on 326 samples, validate on 82 samples\n",
      "Epoch 1/20\n",
      "326/326 [==============================] - 5s - loss: 0.6452 - acc: 0.7807 - val_loss: 0.5479 - val_acc: 0.8118\n",
      "Epoch 2/20\n",
      "326/326 [==============================] - 5s - loss: 0.4646 - acc: 0.8382 - val_loss: 0.4357 - val_acc: 0.8404\n",
      "Epoch 3/20\n",
      "326/326 [==============================] - 5s - loss: 0.4175 - acc: 0.8417 - val_loss: 0.4228 - val_acc: 0.8408\n",
      "Epoch 4/20\n",
      "326/326 [==============================] - 5s - loss: 0.4064 - acc: 0.8443 - val_loss: 0.4128 - val_acc: 0.8397\n",
      "Epoch 5/20\n",
      "326/326 [==============================] - 5s - loss: 0.3960 - acc: 0.8454 - val_loss: 0.4106 - val_acc: 0.8406\n",
      "Epoch 6/20\n",
      "326/326 [==============================] - 5s - loss: 0.3923 - acc: 0.8478 - val_loss: 0.4106 - val_acc: 0.8373\n",
      "Epoch 7/20\n",
      "326/326 [==============================] - 5s - loss: 0.3878 - acc: 0.8524 - val_loss: 0.4125 - val_acc: 0.8360\n",
      "Epoch 8/20\n",
      "326/326 [==============================] - 5s - loss: 0.3875 - acc: 0.8468 - val_loss: 0.4039 - val_acc: 0.8423\n",
      "Epoch 9/20\n",
      "326/326 [==============================] - 5s - loss: 0.3854 - acc: 0.8490 - val_loss: 0.3999 - val_acc: 0.8422\n",
      "Epoch 10/20\n",
      "326/326 [==============================] - 5s - loss: 0.3779 - acc: 0.8543 - val_loss: 0.4008 - val_acc: 0.8427\n",
      "Epoch 11/20\n",
      "326/326 [==============================] - 5s - loss: 0.3749 - acc: 0.8569 - val_loss: 0.3961 - val_acc: 0.8443\n",
      "Epoch 12/20\n",
      "326/326 [==============================] - 5s - loss: 0.3679 - acc: 0.8591 - val_loss: 0.3938 - val_acc: 0.8444\n",
      "Epoch 13/20\n",
      "326/326 [==============================] - 5s - loss: 0.3628 - acc: 0.8602 - val_loss: 0.3900 - val_acc: 0.8452\n",
      "Epoch 14/20\n",
      "326/326 [==============================] - 5s - loss: 0.3584 - acc: 0.8623 - val_loss: 0.3988 - val_acc: 0.8449\n",
      "Epoch 15/20\n",
      "326/326 [==============================] - 5s - loss: 0.3597 - acc: 0.8617 - val_loss: 0.3868 - val_acc: 0.8442\n",
      "Epoch 16/20\n",
      "326/326 [==============================] - 5s - loss: 0.3570 - acc: 0.8621 - val_loss: 0.3835 - val_acc: 0.8443\n",
      "Epoch 17/20\n",
      "326/326 [==============================] - 5s - loss: 0.3524 - acc: 0.8625 - val_loss: 0.3843 - val_acc: 0.8449\n",
      "Epoch 18/20\n",
      "326/326 [==============================] - 5s - loss: 0.3519 - acc: 0.8625 - val_loss: 0.3849 - val_acc: 0.8455\n",
      "Epoch 19/20\n",
      "326/326 [==============================] - 5s - loss: 0.3494 - acc: 0.8636 - val_loss: 0.3777 - val_acc: 0.8471\n",
      "Epoch 20/20\n",
      "326/326 [==============================] - 5s - loss: 0.3447 - acc: 0.8643 - val_loss: 0.3779 - val_acc: 0.8458\n",
      "CPU times: user 3min 24s, sys: 13 s, total: 3min 37s\n",
      "Wall time: 1min 57s\n"
     ]
    },
    {
     "data": {
      "text/plain": [
       "<keras.callbacks.History at 0x141d05080>"
      ]
     },
     "execution_count": 133,
     "metadata": {},
     "output_type": "execute_result"
    }
   ],
   "source": [
    "%%time\n",
    "\n",
    "dkt_256_model.fit([X1_train, X2_train],\n",
    "                  y_train,\n",
    "                  epochs=20, \n",
    "                  batch_size=32, \n",
    "                  shuffle=True,\n",
    "                  validation_split=0.2)"
   ]
  },
  {
   "cell_type": "code",
   "execution_count": 134,
   "metadata": {},
   "outputs": [
    {
     "name": "stdout",
     "output_type": "stream",
     "text": [
      "DKT Prediction Accuracy with 256 hidden nodes and dropout of 0.01:\n"
     ]
    },
    {
     "data": {
      "text/plain": [
       "0.8621441689623508"
      ]
     },
     "execution_count": 134,
     "metadata": {},
     "output_type": "execute_result"
    }
   ],
   "source": [
    "dkt_256_predictions = dkt_256_model.predict([X1_test, X2_test])\n",
    "print('DKT Prediction Accuracy with 256 hidden nodes and dropout of 0.01:')\n",
    "accuracy_score(np.round(dkt_256_predictions.flatten()), y_test.flatten())"
   ]
  },
  {
   "cell_type": "code",
   "execution_count": 137,
   "metadata": {},
   "outputs": [
    {
     "name": "stdout",
     "output_type": "stream",
     "text": [
      "DKT AUC score:\n"
     ]
    },
    {
     "data": {
      "text/plain": [
       "0.75923135423709032"
      ]
     },
     "execution_count": 137,
     "metadata": {},
     "output_type": "execute_result"
    }
   ],
   "source": [
    "print('DKT AUC score:')\n",
    "roc_auc_score(y_test.flatten(), dkt_256_predictions.flatten())"
   ]
  },
  {
   "cell_type": "markdown",
   "metadata": {},
   "source": [
    "**Looks like we were able to get the AUC to increase by 1.7% compared to the original model using 256 hidden nodes and a dropout of 0.1.**"
   ]
  },
  {
   "cell_type": "markdown",
   "metadata": {},
   "source": [
    "## Question 6\n",
    "\n",
    "[Extra credit 1 (worth 30%)]: Repeat the model experiements above but using 5-fold cross-validation at the student level instaed of a single train/test hold out."
   ]
  },
  {
   "cell_type": "code",
   "execution_count": null,
   "metadata": {},
   "outputs": [],
   "source": []
  },
  {
   "cell_type": "markdown",
   "metadata": {},
   "source": [
    "## Question 7\n",
    "\n",
    "[Extra credit 2 (worth additional 30%)]: Modify either DKT or sequence predition model to predict the skill and the correctness given skill_correctness as the input sequence. Train using 70/30 or cross-validation and tune the parameters of this model. How does the accuracy of this model compare to the DKT and sequence prediction models?"
   ]
  },
  {
   "cell_type": "code",
   "execution_count": null,
   "metadata": {
    "collapsed": true
   },
   "outputs": [],
   "source": []
  },
  {
   "cell_type": "markdown",
   "metadata": {},
   "source": [
    "## Question 8\n",
    "\n",
    "[Extra credit 3 (worth 30%)]: Re-create the DKT skill pre-requisite analysis by creating a skill by skill matrix with the influence calculations for each. Use your choice of cutoff and software to create the pre-requsite skill graph visualization."
   ]
  },
  {
   "cell_type": "code",
   "execution_count": null,
   "metadata": {
    "collapsed": true
   },
   "outputs": [],
   "source": []
  },
  {
   "cell_type": "markdown",
   "metadata": {},
   "source": [
    "## Question 9\n",
    "\n",
    "[Extra credit 4 (worth 30%)]: Re-tune the sequence and performance predictions models to use the assignment ID instead of skill ID as the input. Keep the output the same as it was before. Compare accuracies bewteen the two different inputs for each model."
   ]
  },
  {
   "cell_type": "code",
   "execution_count": null,
   "metadata": {
    "collapsed": true
   },
   "outputs": [],
   "source": []
  }
 ],
 "metadata": {
  "kernelspec": {
   "display_name": "Python [default]",
   "language": "python",
   "name": "python3"
  },
  "language_info": {
   "codemirror_mode": {
    "name": "ipython",
    "version": 3
   },
   "file_extension": ".py",
   "mimetype": "text/x-python",
   "name": "python",
   "nbconvert_exporter": "python",
   "pygments_lexer": "ipython3",
   "version": "3.5.2"
  }
 },
 "nbformat": 4,
 "nbformat_minor": 2
}
