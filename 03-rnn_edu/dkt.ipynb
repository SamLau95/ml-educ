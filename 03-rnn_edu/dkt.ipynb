{
 "cells": [
  {
   "cell_type": "code",
   "execution_count": 1,
   "metadata": {
    "collapsed": true
   },
   "outputs": [],
   "source": [
    "import pandas as pd\n",
    "import numpy as np\n",
    "import json\n",
    "\n",
    "filename = 'skill_builder_data_corrected.csv'\n",
    "df = pd.read_csv(filename, encoding='ISO-8859-1', low_memory=False)\n",
    "df = df[(df['original'] == 1) & (df['attempt_count'] == 1) & ~(df['skill_name'].isnull())]"
   ]
  },
  {
   "cell_type": "code",
   "execution_count": 34,
   "metadata": {},
   "outputs": [
    {
     "data": {
      "text/html": [
       "<div>\n",
       "<style>\n",
       "    .dataframe thead tr:only-child th {\n",
       "        text-align: right;\n",
       "    }\n",
       "\n",
       "    .dataframe thead th {\n",
       "        text-align: left;\n",
       "    }\n",
       "\n",
       "    .dataframe tbody tr th {\n",
       "        vertical-align: top;\n",
       "    }\n",
       "</style>\n",
       "<table border=\"1\" class=\"dataframe\">\n",
       "  <thead>\n",
       "    <tr style=\"text-align: right;\">\n",
       "      <th></th>\n",
       "      <th>student_id</th>\n",
       "      <th>r0</th>\n",
       "      <th>r1</th>\n",
       "      <th>r2</th>\n",
       "      <th>r3</th>\n",
       "      <th>r4</th>\n",
       "      <th>r5</th>\n",
       "      <th>r6</th>\n",
       "      <th>r7</th>\n",
       "      <th>r8</th>\n",
       "      <th>...</th>\n",
       "      <th>r90</th>\n",
       "      <th>r91</th>\n",
       "      <th>r92</th>\n",
       "      <th>r93</th>\n",
       "      <th>r94</th>\n",
       "      <th>r95</th>\n",
       "      <th>r96</th>\n",
       "      <th>r97</th>\n",
       "      <th>r98</th>\n",
       "      <th>r99</th>\n",
       "    </tr>\n",
       "  </thead>\n",
       "  <tbody>\n",
       "    <tr>\n",
       "      <th>0</th>\n",
       "      <td>64525</td>\n",
       "      <td>1</td>\n",
       "      <td>1</td>\n",
       "      <td>1</td>\n",
       "      <td>1</td>\n",
       "      <td>1</td>\n",
       "      <td>1</td>\n",
       "      <td>1</td>\n",
       "      <td>1</td>\n",
       "      <td>0</td>\n",
       "      <td>...</td>\n",
       "      <td>1</td>\n",
       "      <td>1</td>\n",
       "      <td>1</td>\n",
       "      <td>1</td>\n",
       "      <td>1</td>\n",
       "      <td>1</td>\n",
       "      <td>1</td>\n",
       "      <td>1</td>\n",
       "      <td>1</td>\n",
       "      <td>1</td>\n",
       "    </tr>\n",
       "    <tr>\n",
       "      <th>1</th>\n",
       "      <td>70363</td>\n",
       "      <td>1</td>\n",
       "      <td>1</td>\n",
       "      <td>1</td>\n",
       "      <td>1</td>\n",
       "      <td>0</td>\n",
       "      <td>1</td>\n",
       "      <td>1</td>\n",
       "      <td>1</td>\n",
       "      <td>1</td>\n",
       "      <td>...</td>\n",
       "      <td>1</td>\n",
       "      <td>1</td>\n",
       "      <td>1</td>\n",
       "      <td>1</td>\n",
       "      <td>1</td>\n",
       "      <td>1</td>\n",
       "      <td>1</td>\n",
       "      <td>0</td>\n",
       "      <td>0</td>\n",
       "      <td>1</td>\n",
       "    </tr>\n",
       "    <tr>\n",
       "      <th>2</th>\n",
       "      <td>70677</td>\n",
       "      <td>1</td>\n",
       "      <td>1</td>\n",
       "      <td>1</td>\n",
       "      <td>1</td>\n",
       "      <td>1</td>\n",
       "      <td>1</td>\n",
       "      <td>1</td>\n",
       "      <td>1</td>\n",
       "      <td>1</td>\n",
       "      <td>...</td>\n",
       "      <td>0</td>\n",
       "      <td>1</td>\n",
       "      <td>1</td>\n",
       "      <td>1</td>\n",
       "      <td>1</td>\n",
       "      <td>1</td>\n",
       "      <td>1</td>\n",
       "      <td>1</td>\n",
       "      <td>1</td>\n",
       "      <td>1</td>\n",
       "    </tr>\n",
       "    <tr>\n",
       "      <th>3</th>\n",
       "      <td>70695</td>\n",
       "      <td>1</td>\n",
       "      <td>1</td>\n",
       "      <td>0</td>\n",
       "      <td>0</td>\n",
       "      <td>1</td>\n",
       "      <td>1</td>\n",
       "      <td>0</td>\n",
       "      <td>1</td>\n",
       "      <td>1</td>\n",
       "      <td>...</td>\n",
       "      <td>1</td>\n",
       "      <td>1</td>\n",
       "      <td>1</td>\n",
       "      <td>0</td>\n",
       "      <td>1</td>\n",
       "      <td>1</td>\n",
       "      <td>0</td>\n",
       "      <td>0</td>\n",
       "      <td>0</td>\n",
       "      <td>1</td>\n",
       "    </tr>\n",
       "    <tr>\n",
       "      <th>4</th>\n",
       "      <td>70699</td>\n",
       "      <td>1</td>\n",
       "      <td>1</td>\n",
       "      <td>0</td>\n",
       "      <td>1</td>\n",
       "      <td>1</td>\n",
       "      <td>1</td>\n",
       "      <td>1</td>\n",
       "      <td>1</td>\n",
       "      <td>1</td>\n",
       "      <td>...</td>\n",
       "      <td>1</td>\n",
       "      <td>1</td>\n",
       "      <td>1</td>\n",
       "      <td>0</td>\n",
       "      <td>0</td>\n",
       "      <td>0</td>\n",
       "      <td>1</td>\n",
       "      <td>1</td>\n",
       "      <td>1</td>\n",
       "      <td>0</td>\n",
       "    </tr>\n",
       "  </tbody>\n",
       "</table>\n",
       "<p>5 rows × 101 columns</p>\n",
       "</div>"
      ],
      "text/plain": [
       "   student_id  r0  r1  r2  r3  r4  r5  r6  r7  r8 ...   r90  r91  r92  r93  \\\n",
       "0       64525   1   1   1   1   1   1   1   1   0 ...     1    1    1    1   \n",
       "1       70363   1   1   1   1   0   1   1   1   1 ...     1    1    1    1   \n",
       "2       70677   1   1   1   1   1   1   1   1   1 ...     0    1    1    1   \n",
       "3       70695   1   1   0   0   1   1   0   1   1 ...     1    1    1    0   \n",
       "4       70699   1   1   0   1   1   1   1   1   1 ...     1    1    1    0   \n",
       "\n",
       "   r94  r95  r96  r97  r98  r99  \n",
       "0    1    1    1    1    1    1  \n",
       "1    1    1    1    0    0    1  \n",
       "2    1    1    1    1    1    1  \n",
       "3    1    1    0    0    0    1  \n",
       "4    0    0    1    1    1    0  \n",
       "\n",
       "[5 rows x 101 columns]"
      ]
     },
     "execution_count": 34,
     "metadata": {},
     "output_type": "execute_result"
    }
   ],
   "source": [
    "response_df.head()"
   ]
  },
  {
   "cell_type": "code",
   "execution_count": 17,
   "metadata": {},
   "outputs": [
    {
     "data": {
      "text/html": [
       "<div>\n",
       "<style>\n",
       "    .dataframe thead tr:only-child th {\n",
       "        text-align: right;\n",
       "    }\n",
       "\n",
       "    .dataframe thead th {\n",
       "        text-align: left;\n",
       "    }\n",
       "\n",
       "    .dataframe tbody tr th {\n",
       "        vertical-align: top;\n",
       "    }\n",
       "</style>\n",
       "<table border=\"1\" class=\"dataframe\">\n",
       "  <thead>\n",
       "    <tr style=\"text-align: right;\">\n",
       "      <th></th>\n",
       "      <th>student_id</th>\n",
       "      <th>s0</th>\n",
       "      <th>s1</th>\n",
       "      <th>s2</th>\n",
       "      <th>s3</th>\n",
       "      <th>s4</th>\n",
       "      <th>s5</th>\n",
       "      <th>s6</th>\n",
       "      <th>s7</th>\n",
       "      <th>s8</th>\n",
       "      <th>...</th>\n",
       "      <th>s90</th>\n",
       "      <th>s91</th>\n",
       "      <th>s92</th>\n",
       "      <th>s93</th>\n",
       "      <th>s94</th>\n",
       "      <th>s95</th>\n",
       "      <th>s96</th>\n",
       "      <th>s97</th>\n",
       "      <th>s98</th>\n",
       "      <th>s99</th>\n",
       "    </tr>\n",
       "  </thead>\n",
       "  <tbody>\n",
       "    <tr>\n",
       "      <th>0</th>\n",
       "      <td>64525</td>\n",
       "      <td>1</td>\n",
       "      <td>1</td>\n",
       "      <td>2</td>\n",
       "      <td>2</td>\n",
       "      <td>2</td>\n",
       "      <td>2</td>\n",
       "      <td>2</td>\n",
       "      <td>2</td>\n",
       "      <td>2</td>\n",
       "      <td>...</td>\n",
       "      <td>15</td>\n",
       "      <td>15</td>\n",
       "      <td>15</td>\n",
       "      <td>15</td>\n",
       "      <td>16</td>\n",
       "      <td>16</td>\n",
       "      <td>17</td>\n",
       "      <td>18</td>\n",
       "      <td>18</td>\n",
       "      <td>18</td>\n",
       "    </tr>\n",
       "    <tr>\n",
       "      <th>1</th>\n",
       "      <td>70363</td>\n",
       "      <td>1</td>\n",
       "      <td>1</td>\n",
       "      <td>1</td>\n",
       "      <td>1</td>\n",
       "      <td>2</td>\n",
       "      <td>2</td>\n",
       "      <td>2</td>\n",
       "      <td>2</td>\n",
       "      <td>2</td>\n",
       "      <td>...</td>\n",
       "      <td>8</td>\n",
       "      <td>8</td>\n",
       "      <td>8</td>\n",
       "      <td>8</td>\n",
       "      <td>8</td>\n",
       "      <td>9</td>\n",
       "      <td>9</td>\n",
       "      <td>9</td>\n",
       "      <td>9</td>\n",
       "      <td>9</td>\n",
       "    </tr>\n",
       "    <tr>\n",
       "      <th>2</th>\n",
       "      <td>70677</td>\n",
       "      <td>1</td>\n",
       "      <td>1</td>\n",
       "      <td>5</td>\n",
       "      <td>5</td>\n",
       "      <td>5</td>\n",
       "      <td>5</td>\n",
       "      <td>5</td>\n",
       "      <td>5</td>\n",
       "      <td>5</td>\n",
       "      <td>...</td>\n",
       "      <td>12</td>\n",
       "      <td>12</td>\n",
       "      <td>12</td>\n",
       "      <td>12</td>\n",
       "      <td>12</td>\n",
       "      <td>12</td>\n",
       "      <td>12</td>\n",
       "      <td>12</td>\n",
       "      <td>12</td>\n",
       "      <td>15</td>\n",
       "    </tr>\n",
       "    <tr>\n",
       "      <th>3</th>\n",
       "      <td>70695</td>\n",
       "      <td>1</td>\n",
       "      <td>1</td>\n",
       "      <td>3</td>\n",
       "      <td>7</td>\n",
       "      <td>7</td>\n",
       "      <td>7</td>\n",
       "      <td>7</td>\n",
       "      <td>7</td>\n",
       "      <td>7</td>\n",
       "      <td>...</td>\n",
       "      <td>33</td>\n",
       "      <td>33</td>\n",
       "      <td>33</td>\n",
       "      <td>33</td>\n",
       "      <td>33</td>\n",
       "      <td>33</td>\n",
       "      <td>33</td>\n",
       "      <td>33</td>\n",
       "      <td>33</td>\n",
       "      <td>33</td>\n",
       "    </tr>\n",
       "    <tr>\n",
       "      <th>4</th>\n",
       "      <td>70699</td>\n",
       "      <td>1</td>\n",
       "      <td>1</td>\n",
       "      <td>2</td>\n",
       "      <td>6</td>\n",
       "      <td>6</td>\n",
       "      <td>6</td>\n",
       "      <td>6</td>\n",
       "      <td>6</td>\n",
       "      <td>6</td>\n",
       "      <td>...</td>\n",
       "      <td>42</td>\n",
       "      <td>42</td>\n",
       "      <td>42</td>\n",
       "      <td>44</td>\n",
       "      <td>44</td>\n",
       "      <td>44</td>\n",
       "      <td>45</td>\n",
       "      <td>46</td>\n",
       "      <td>46</td>\n",
       "      <td>46</td>\n",
       "    </tr>\n",
       "  </tbody>\n",
       "</table>\n",
       "<p>5 rows × 101 columns</p>\n",
       "</div>"
      ],
      "text/plain": [
       "   student_id  s0  s1  s2  s3  s4  s5  s6  s7  s8 ...   s90  s91  s92  s93  \\\n",
       "0       64525   1   1   2   2   2   2   2   2   2 ...    15   15   15   15   \n",
       "1       70363   1   1   1   1   2   2   2   2   2 ...     8    8    8    8   \n",
       "2       70677   1   1   5   5   5   5   5   5   5 ...    12   12   12   12   \n",
       "3       70695   1   1   3   7   7   7   7   7   7 ...    33   33   33   33   \n",
       "4       70699   1   1   2   6   6   6   6   6   6 ...    42   42   42   44   \n",
       "\n",
       "   s94  s95  s96  s97  s98  s99  \n",
       "0   16   16   17   18   18   18  \n",
       "1    8    9    9    9    9    9  \n",
       "2   12   12   12   12   12   15  \n",
       "3   33   33   33   33   33   33  \n",
       "4   44   44   45   46   46   46  \n",
       "\n",
       "[5 rows x 101 columns]"
      ]
     },
     "execution_count": 17,
     "metadata": {},
     "output_type": "execute_result"
    }
   ],
   "source": [
    "skill_df.head()"
   ]
  },
  {
   "cell_type": "code",
   "execution_count": 2,
   "metadata": {
    "collapsed": true
   },
   "outputs": [],
   "source": [
    "response_df = pd.read_csv('correct.tsv', sep='\\t').drop('Unnamed: 0', axis=1)\n",
    "skill_df = pd.read_csv('skill.tsv', sep='\\t').drop('Unnamed: 0', axis=1)\n",
    "assistment_df = pd.read_csv('assistment_id.tsv', sep='\\t').drop('Unnamed: 0', axis=1)\n",
    "skill_dict = {}\n",
    "with open('skill_dict.json', 'r', encoding='utf-8') as f:\n",
    "    loaded = json.load(f)\n",
    "    for k, v in loaded.items():\n",
    "        skill_dict[k] = int(v)\n",
    "\n",
    "skill_num = len(skill_dict) + 1 # including 0\n",
    "\n",
    "def one_hot(skill_matrix, vocab_size):\n",
    "    '''\n",
    "    params:\n",
    "        skill_matrix: 2-D matrix (student, skills)\n",
    "        vocal_size: size of the vocabulary\n",
    "    returns:\n",
    "        a ndarray with a shape like (student, sequence_len, vocab_size)\n",
    "    '''\n",
    "    seq_len = skill_matrix.shape[1]\n",
    "    result = np.zeros((skill_matrix.shape[0], seq_len, vocab_size))\n",
    "    for i in range(skill_matrix.shape[0]):\n",
    "        result[i, np.arange(seq_len), skill_matrix[i]] = 1.\n",
    "    return result\n",
    "\n",
    "def dkt_one_hot(skill_matrix, response_matrix, vocab_size):\n",
    "    seq_len = skill_matrix.shape[1]\n",
    "    skill_response_array = np.zeros((skill_matrix.shape[0], seq_len, 2 * vocab_size))\n",
    "    for i in range(skill_matrix.shape[0]):\n",
    "        skill_response_array[i, np.arange(seq_len), 2 * skill_matrix[i] + response_matrix[i]] = 1.\n",
    "    return skill_response_array\n",
    "\n",
    "def preprocess(skill_df, response_df, skill_num):\n",
    "    skill_matrix = skill_df.iloc[:, 1:].values\n",
    "    response_array = response_df.iloc[:, 1:].values\n",
    "    skill_array = one_hot(skill_matrix, skill_num)\n",
    "    skill_response_array = dkt_one_hot(skill_matrix, response_array, skill_num)\n",
    "    return skill_array, response_array, skill_response_array\n",
    "    \n",
    "\n",
    "skill_array, response_array, skill_response_array = preprocess(skill_df, response_df, skill_num)"
   ]
  },
  {
   "cell_type": "code",
   "execution_count": 38,
   "metadata": {},
   "outputs": [
    {
     "data": {
      "text/plain": [
       "110"
      ]
     },
     "execution_count": 38,
     "metadata": {},
     "output_type": "execute_result"
    }
   ],
   "source": [
    "len(skill_dict)"
   ]
  },
  {
   "cell_type": "code",
   "execution_count": 37,
   "metadata": {},
   "outputs": [
    {
     "data": {
      "text/plain": [
       "(584, 100)"
      ]
     },
     "execution_count": 37,
     "metadata": {},
     "output_type": "execute_result"
    }
   ],
   "source": [
    "response_array.shape"
   ]
  },
  {
   "cell_type": "code",
   "execution_count": 26,
   "metadata": {},
   "outputs": [
    {
     "data": {
      "text/plain": [
       "(584, 100, 111)"
      ]
     },
     "execution_count": 26,
     "metadata": {},
     "output_type": "execute_result"
    }
   ],
   "source": [
    "skill_array.shape"
   ]
  },
  {
   "cell_type": "code",
   "execution_count": 32,
   "metadata": {},
   "outputs": [
    {
     "data": {
      "text/plain": [
       "(584, 100, 222)"
      ]
     },
     "execution_count": 32,
     "metadata": {},
     "output_type": "execute_result"
    }
   ],
   "source": [
    "skill_response_array.shape"
   ]
  },
  {
   "cell_type": "code",
   "execution_count": 3,
   "metadata": {},
   "outputs": [
    {
     "name": "stderr",
     "output_type": "stream",
     "text": [
      "Using Theano backend.\n"
     ]
    },
    {
     "name": "stdout",
     "output_type": "stream",
     "text": [
      "skill2skill\n",
      "_________________________________________________________________\n",
      "Layer (type)                 Output Shape              Param #   \n",
      "=================================================================\n",
      "input skills (InputLayer)    (None, 99, 111)           0         \n",
      "_________________________________________________________________\n",
      "lstm layer (LSTM)            (None, 99, 64)            45056     \n",
      "_________________________________________________________________\n",
      "probability (TimeDistributed (None, 99, 111)           7215      \n",
      "=================================================================\n",
      "Total params: 52,271\n",
      "Trainable params: 52,271\n",
      "Non-trainable params: 0\n",
      "_________________________________________________________________\n",
      "dkt\n",
      "____________________________________________________________________________________________________\n",
      "Layer (type)                     Output Shape          Param #     Connected to                     \n",
      "====================================================================================================\n",
      "input skills (InputLayer)        (None, 99, 222)       0                                            \n",
      "____________________________________________________________________________________________________\n",
      "lstm layer (LSTM)                (None, 99, 64)        73472       input skills[0][0]               \n",
      "____________________________________________________________________________________________________\n",
      "probability for each (TimeDistri (None, 99, 111)       7215        lstm layer[0][0]                 \n",
      "____________________________________________________________________________________________________\n",
      "next_skill_tested (InputLayer)   (None, 99, 111)       0                                            \n",
      "____________________________________________________________________________________________________\n",
      "multiply (Multiply)              (None, 99, 111)       0           probability for each[0][0]       \n",
      "                                                                   next_skill_tested[0][0]          \n",
      "____________________________________________________________________________________________________\n",
      "reduce dim (Lambda)              (None, 99, 1)         0           multiply[0][0]                   \n",
      "====================================================================================================\n",
      "Total params: 80,687\n",
      "Trainable params: 80,687\n",
      "Non-trainable params: 0\n",
      "____________________________________________________________________________________________________\n"
     ]
    }
   ],
   "source": [
    "import keras\n",
    "from keras.layers import Input, Dense, LSTM, TimeDistributed, Lambda, multiply\n",
    "from keras.models import Model\n",
    "from keras.optimizers import RMSprop, Adam\n",
    "from keras.preprocessing.sequence import pad_sequences\n",
    "from keras import backend as K\n",
    "\n",
    "def build_skill2skill_model(input_shape, lstm_dim=32, dropout=0.0):\n",
    "    input = Input(shape=input_shape, name='input skills')\n",
    "    lstm = LSTM(lstm_dim, \n",
    "                return_sequences=True, \n",
    "                dropout=dropout,\n",
    "                name='lstm layer')(input)\n",
    "    output = TimeDistributed(Dense(input_shape[-1], activation='softmax'), name='probability')(lstm)\n",
    "    model = Model(inputs=[input], outputs=[output])\n",
    "    adam = Adam(lr=0.001, beta_1=0.9, beta_2=0.999, epsilon=1e-07, decay=0.0)\n",
    "    model.compile(optimizer=adam, loss='categorical_crossentropy', metrics=['accuracy'])\n",
    "    model.summary()\n",
    "    return model\n",
    "\n",
    "def reduce_dim(x):\n",
    "    x = K.max(x, axis=-1, keepdims=True)\n",
    "    return x\n",
    "\n",
    "def build_dkt_model(input_shape, lstm_dim=32, dropout=0.0):\n",
    "    input_skills = Input(shape=input_shape, name='input skills')\n",
    "    lstm = LSTM(lstm_dim, \n",
    "                return_sequences=True, \n",
    "                dropout=dropout,\n",
    "                name='lstm layer')(input_skills)\n",
    "    dense = TimeDistributed(Dense(int(input_shape[-1]/2), activation='sigmoid'), name='probability for each')(lstm)\n",
    "    \n",
    "    skill_next = Input(shape=(input_shape[0], int(input_shape[1]/2)), name='next_skill_tested')\n",
    "    merged = multiply([dense, skill_next], name='multiply')\n",
    "    reduced = Lambda(reduce_dim, output_shape=(input_shape[0], 1), name='reduce dim')(merged)\n",
    "    \n",
    "    model = Model(inputs=[input_skills, skill_next], outputs=[reduced])\n",
    "    adam = Adam(lr=0.001, beta_1=0.9, beta_2=0.999, epsilon=1e-07, decay=0.0)\n",
    "    model.compile(optimizer=adam, loss='binary_crossentropy', metrics=['accuracy'])\n",
    "    model.summary()\n",
    "    return model\n",
    "\n",
    "print('skill2skill')\n",
    "skill2skill_model = build_skill2skill_model((99, skill_num), lstm_dim=64)\n",
    "\n",
    "print('dkt')\n",
    "dkt_model = build_dkt_model((99, 2 * skill_num), lstm_dim=64)\n",
    "    "
   ]
  },
  {
   "cell_type": "code",
   "execution_count": 41,
   "metadata": {
    "collapsed": true
   },
   "outputs": [
    {
     "name": "stdout",
     "output_type": "stream",
     "text": [
      "Train on 467 samples, validate on 117 samples\n",
      "Epoch 1/20\n",
      "467/467 [==============================] - 1s - loss: 4.6170 - acc: 0.1950 - val_loss: 4.5729 - val_acc: 0.2988\n",
      "Epoch 2/20\n",
      "467/467 [==============================] - 1s - loss: 4.2278 - acc: 0.1550 - val_loss: 4.4697 - val_acc: 0.0483\n",
      "Epoch 3/20\n",
      "467/467 [==============================] - 2s - loss: 3.6677 - acc: 0.1333 - val_loss: 4.1492 - val_acc: 0.1012\n",
      "Epoch 4/20\n",
      "467/467 [==============================] - 1s - loss: 3.1779 - acc: 0.2505 - val_loss: 3.8165 - val_acc: 0.1483\n",
      "Epoch 5/20\n",
      "467/467 [==============================] - 1s - loss: 2.7544 - acc: 0.3735 - val_loss: 3.5075 - val_acc: 0.2427\n",
      "Epoch 6/20\n",
      "467/467 [==============================] - 1s - loss: 2.4293 - acc: 0.4355 - val_loss: 3.1725 - val_acc: 0.3220\n",
      "Epoch 7/20\n",
      "467/467 [==============================] - 1s - loss: 2.1904 - acc: 0.4799 - val_loss: 2.9253 - val_acc: 0.3916\n",
      "Epoch 8/20\n",
      "467/467 [==============================] - 1s - loss: 1.9651 - acc: 0.5337 - val_loss: 2.6795 - val_acc: 0.4381\n",
      "Epoch 9/20\n",
      "467/467 [==============================] - 1s - loss: 1.7745 - acc: 0.5865 - val_loss: 2.4644 - val_acc: 0.4756\n",
      "Epoch 10/20\n",
      "467/467 [==============================] - 1s - loss: 1.6159 - acc: 0.6326 - val_loss: 2.2535 - val_acc: 0.5142\n",
      "Epoch 11/20\n",
      "467/467 [==============================] - 1s - loss: 1.5129 - acc: 0.6496 - val_loss: 2.1068 - val_acc: 0.5317\n",
      "Epoch 12/20\n",
      "467/467 [==============================] - 1s - loss: 1.4089 - acc: 0.6717 - val_loss: 1.9672 - val_acc: 0.5535\n",
      "Epoch 13/20\n",
      "467/467 [==============================] - 1s - loss: 1.2970 - acc: 0.6983 - val_loss: 1.8139 - val_acc: 0.5742\n",
      "Epoch 14/20\n",
      "467/467 [==============================] - 1s - loss: 1.2062 - acc: 0.7132 - val_loss: 1.7264 - val_acc: 0.5972\n",
      "Epoch 15/20\n",
      "467/467 [==============================] - 1s - loss: 1.1404 - acc: 0.7263 - val_loss: 1.6623 - val_acc: 0.6113\n",
      "Epoch 16/20\n",
      "467/467 [==============================] - 1s - loss: 1.0881 - acc: 0.7363 - val_loss: 1.5911 - val_acc: 0.6193\n",
      "Epoch 17/20\n",
      "467/467 [==============================] - 1s - loss: 1.0495 - acc: 0.7428 - val_loss: 1.5140 - val_acc: 0.6558\n",
      "Epoch 18/20\n",
      "467/467 [==============================] - 1s - loss: 0.9877 - acc: 0.7582 - val_loss: 1.4528 - val_acc: 0.6722\n",
      "Epoch 19/20\n",
      "467/467 [==============================] - 1s - loss: 0.9410 - acc: 0.7684 - val_loss: 1.4058 - val_acc: 0.6827\n",
      "Epoch 20/20\n",
      "467/467 [==============================] - 1s - loss: 0.9027 - acc: 0.7805 - val_loss: 1.3694 - val_acc: 0.6814\n",
      "CPU times: user 1min 15s, sys: 5.39 s, total: 1min 20s\n",
      "Wall time: 2min 24s\n"
     ]
    },
    {
     "data": {
      "text/plain": [
       "<keras.callbacks.History at 0x129ea1d68>"
      ]
     },
     "execution_count": 41,
     "metadata": {},
     "output_type": "execute_result"
    }
   ],
   "source": [
    "%%time\n",
    "\n",
    "# train skill2skill\n",
    "skill2skill_model.fit(skill_array[:, 0:-1],\n",
    "                      skill_array[:, 1:],\n",
    "                      epochs=20, \n",
    "                      batch_size=32, \n",
    "                      shuffle=True,\n",
    "                      validation_split=0.2)"
   ]
  },
  {
   "cell_type": "code",
   "execution_count": 42,
   "metadata": {
    "collapsed": true
   },
   "outputs": [
    {
     "name": "stdout",
     "output_type": "stream",
     "text": [
      "Train on 467 samples, validate on 117 samples\n",
      "Epoch 1/20\n",
      "467/467 [==============================] - 2s - loss: 0.6735 - acc: 0.7242 - val_loss: 0.6643 - val_acc: 0.8053\n",
      "Epoch 2/20\n",
      "467/467 [==============================] - 3s - loss: 0.6072 - acc: 0.8360 - val_loss: 0.6066 - val_acc: 0.7192\n",
      "Epoch 3/20\n",
      "467/467 [==============================] - 3s - loss: 0.4875 - acc: 0.8307 - val_loss: 0.5034 - val_acc: 0.8279\n",
      "Epoch 4/20\n",
      "467/467 [==============================] - 2s - loss: 0.4167 - acc: 0.8489 - val_loss: 0.4606 - val_acc: 0.8300\n",
      "Epoch 5/20\n",
      "467/467 [==============================] - 3s - loss: 0.3928 - acc: 0.8507 - val_loss: 0.4536 - val_acc: 0.8311\n",
      "Epoch 6/20\n",
      "467/467 [==============================] - 4s - loss: 0.3828 - acc: 0.8552 - val_loss: 0.4447 - val_acc: 0.8313\n",
      "Epoch 7/20\n",
      "467/467 [==============================] - 3s - loss: 0.3782 - acc: 0.8559 - val_loss: 0.4394 - val_acc: 0.8296\n",
      "Epoch 8/20\n",
      "467/467 [==============================] - 3s - loss: 0.3772 - acc: 0.8555 - val_loss: 0.4479 - val_acc: 0.8291\n",
      "Epoch 9/20\n",
      "467/467 [==============================] - 3s - loss: 0.3725 - acc: 0.8574 - val_loss: 0.4288 - val_acc: 0.8299\n",
      "Epoch 10/20\n",
      "467/467 [==============================] - 2s - loss: 0.3686 - acc: 0.8571 - val_loss: 0.4392 - val_acc: 0.8307\n",
      "Epoch 11/20\n",
      "467/467 [==============================] - 2s - loss: 0.3661 - acc: 0.8568 - val_loss: 0.4359 - val_acc: 0.8300\n",
      "Epoch 12/20\n",
      "467/467 [==============================] - 2s - loss: 0.3628 - acc: 0.8571 - val_loss: 0.4344 - val_acc: 0.8306\n",
      "Epoch 13/20\n",
      "467/467 [==============================] - 2s - loss: 0.3598 - acc: 0.8571 - val_loss: 0.4293 - val_acc: 0.8319\n",
      "Epoch 14/20\n",
      "467/467 [==============================] - 2s - loss: 0.3571 - acc: 0.8587 - val_loss: 0.4287 - val_acc: 0.8313\n",
      "Epoch 15/20\n",
      "467/467 [==============================] - 1s - loss: 0.3557 - acc: 0.8585 - val_loss: 0.4220 - val_acc: 0.8341\n",
      "Epoch 16/20\n",
      "467/467 [==============================] - 2s - loss: 0.3541 - acc: 0.8600 - val_loss: 0.4316 - val_acc: 0.8343\n",
      "Epoch 17/20\n",
      "467/467 [==============================] - 2s - loss: 0.3525 - acc: 0.8601 - val_loss: 0.4249 - val_acc: 0.8342\n",
      "Epoch 18/20\n",
      "467/467 [==============================] - 2s - loss: 0.3494 - acc: 0.8615 - val_loss: 0.4194 - val_acc: 0.8377\n",
      "Epoch 19/20\n",
      "467/467 [==============================] - 2s - loss: 0.3480 - acc: 0.8619 - val_loss: 0.4243 - val_acc: 0.8362\n",
      "Epoch 20/20\n",
      "467/467 [==============================] - 2s - loss: 0.3488 - acc: 0.8622 - val_loss: 0.4199 - val_acc: 0.8368\n",
      "CPU times: user 1min 22s, sys: 7.04 s, total: 1min 29s\n",
      "Wall time: 1min 31s\n"
     ]
    },
    {
     "data": {
      "text/plain": [
       "<keras.callbacks.History at 0x12c76ae48>"
      ]
     },
     "execution_count": 42,
     "metadata": {},
     "output_type": "execute_result"
    }
   ],
   "source": [
    "%%time\n",
    "\n",
    "dkt_model.fit([skill_response_array[:, 0:-1], skill_array[:, 1:]],\n",
    "              response_array[:, 1:, np.newaxis],\n",
    "              epochs=20, \n",
    "              batch_size=32, \n",
    "              shuffle=True,\n",
    "              validation_split=0.2)"
   ]
  },
  {
   "cell_type": "markdown",
   "metadata": {
    "collapsed": true
   },
   "source": [
    "## Question 1\n",
    "\n",
    "What were the 5 most common and 5 least common skills in this dataset? What percentage of responses are associated with the most common skill?"
   ]
  },
  {
   "cell_type": "code",
   "execution_count": 55,
   "metadata": {},
   "outputs": [
    {
     "data": {
      "text/html": [
       "<div>\n",
       "<style>\n",
       "    .dataframe thead tr:only-child th {\n",
       "        text-align: right;\n",
       "    }\n",
       "\n",
       "    .dataframe thead th {\n",
       "        text-align: left;\n",
       "    }\n",
       "\n",
       "    .dataframe tbody tr th {\n",
       "        vertical-align: top;\n",
       "    }\n",
       "</style>\n",
       "<table border=\"1\" class=\"dataframe\">\n",
       "  <thead>\n",
       "    <tr style=\"text-align: right;\">\n",
       "      <th></th>\n",
       "      <th>Name</th>\n",
       "    </tr>\n",
       "    <tr>\n",
       "      <th>ID</th>\n",
       "      <th></th>\n",
       "    </tr>\n",
       "  </thead>\n",
       "  <tbody>\n",
       "    <tr>\n",
       "      <th>95</th>\n",
       "      <td>Write Linear Equation from Graph</td>\n",
       "    </tr>\n",
       "    <tr>\n",
       "      <th>17</th>\n",
       "      <td>Interior Angles Triangle</td>\n",
       "    </tr>\n",
       "    <tr>\n",
       "      <th>41</th>\n",
       "      <td>Least Common Multiple</td>\n",
       "    </tr>\n",
       "    <tr>\n",
       "      <th>9</th>\n",
       "      <td>Mean</td>\n",
       "    </tr>\n",
       "    <tr>\n",
       "      <th>91</th>\n",
       "      <td>Computation with Real Numbers</td>\n",
       "    </tr>\n",
       "  </tbody>\n",
       "</table>\n",
       "</div>"
      ],
      "text/plain": [
       "                                Name\n",
       "ID                                  \n",
       "95  Write Linear Equation from Graph\n",
       "17          Interior Angles Triangle\n",
       "41             Least Common Multiple\n",
       "9                               Mean\n",
       "91     Computation with Real Numbers"
      ]
     },
     "execution_count": 55,
     "metadata": {},
     "output_type": "execute_result"
    }
   ],
   "source": [
    "skillname_df = pd.DataFrame(list(skill_dict.items()), columns=['Name', 'ID']).set_index('ID')\n",
    "skillname_df.head()"
   ]
  },
  {
   "cell_type": "code",
   "execution_count": 73,
   "metadata": {
    "collapsed": true
   },
   "outputs": [],
   "source": [
    "skill_counts = (skill_df\n",
    " .iloc[:, 1:]\n",
    " .unstack()\n",
    " .value_counts()\n",
    " .rename('count')\n",
    " .to_frame()\n",
    " .join(skillname_df)\n",
    ")"
   ]
  },
  {
   "cell_type": "code",
   "execution_count": 74,
   "metadata": {},
   "outputs": [
    {
     "name": "stdout",
     "output_type": "stream",
     "text": [
      "Top 5 skills:\n"
     ]
    },
    {
     "data": {
      "text/html": [
       "<div>\n",
       "<style>\n",
       "    .dataframe thead tr:only-child th {\n",
       "        text-align: right;\n",
       "    }\n",
       "\n",
       "    .dataframe thead th {\n",
       "        text-align: left;\n",
       "    }\n",
       "\n",
       "    .dataframe tbody tr th {\n",
       "        vertical-align: top;\n",
       "    }\n",
       "</style>\n",
       "<table border=\"1\" class=\"dataframe\">\n",
       "  <thead>\n",
       "    <tr style=\"text-align: right;\">\n",
       "      <th></th>\n",
       "      <th>count</th>\n",
       "      <th>Name</th>\n",
       "    </tr>\n",
       "  </thead>\n",
       "  <tbody>\n",
       "    <tr>\n",
       "      <th>7</th>\n",
       "      <td>4579</td>\n",
       "      <td>Table</td>\n",
       "    </tr>\n",
       "    <tr>\n",
       "      <th>30</th>\n",
       "      <td>4379</td>\n",
       "      <td>Conversion of Fraction Decimals Percents</td>\n",
       "    </tr>\n",
       "    <tr>\n",
       "      <th>8</th>\n",
       "      <td>3466</td>\n",
       "      <td>Venn Diagram</td>\n",
       "    </tr>\n",
       "    <tr>\n",
       "      <th>2</th>\n",
       "      <td>3404</td>\n",
       "      <td>Circle Graph</td>\n",
       "    </tr>\n",
       "    <tr>\n",
       "      <th>33</th>\n",
       "      <td>2833</td>\n",
       "      <td>Ordering Fractions</td>\n",
       "    </tr>\n",
       "  </tbody>\n",
       "</table>\n",
       "</div>"
      ],
      "text/plain": [
       "    count                                      Name\n",
       "7    4579                                     Table\n",
       "30   4379  Conversion of Fraction Decimals Percents\n",
       "8    3466                              Venn Diagram\n",
       "2    3404                              Circle Graph\n",
       "33   2833                        Ordering Fractions"
      ]
     },
     "execution_count": 74,
     "metadata": {},
     "output_type": "execute_result"
    }
   ],
   "source": [
    "print('Top 5 skills:')\n",
    "skill_counts.head()"
   ]
  },
  {
   "cell_type": "code",
   "execution_count": 75,
   "metadata": {},
   "outputs": [
    {
     "name": "stdout",
     "output_type": "stream",
     "text": [
      "Bottom 5 skills:\n"
     ]
    },
    {
     "data": {
      "text/html": [
       "<div>\n",
       "<style>\n",
       "    .dataframe thead tr:only-child th {\n",
       "        text-align: right;\n",
       "    }\n",
       "\n",
       "    .dataframe thead th {\n",
       "        text-align: left;\n",
       "    }\n",
       "\n",
       "    .dataframe tbody tr th {\n",
       "        vertical-align: top;\n",
       "    }\n",
       "</style>\n",
       "<table border=\"1\" class=\"dataframe\">\n",
       "  <thead>\n",
       "    <tr style=\"text-align: right;\">\n",
       "      <th></th>\n",
       "      <th>count</th>\n",
       "      <th>Name</th>\n",
       "    </tr>\n",
       "  </thead>\n",
       "  <tbody>\n",
       "    <tr>\n",
       "      <th>83</th>\n",
       "      <td>3</td>\n",
       "      <td>Volume Rectangular Prism</td>\n",
       "    </tr>\n",
       "    <tr>\n",
       "      <th>84</th>\n",
       "      <td>2</td>\n",
       "      <td>Volume Sphere</td>\n",
       "    </tr>\n",
       "    <tr>\n",
       "      <th>109</th>\n",
       "      <td>2</td>\n",
       "      <td>Solving Inequalities</td>\n",
       "    </tr>\n",
       "    <tr>\n",
       "      <th>82</th>\n",
       "      <td>2</td>\n",
       "      <td>Volume Cylinder</td>\n",
       "    </tr>\n",
       "    <tr>\n",
       "      <th>80</th>\n",
       "      <td>1</td>\n",
       "      <td>Surface Area Cylinder</td>\n",
       "    </tr>\n",
       "  </tbody>\n",
       "</table>\n",
       "</div>"
      ],
      "text/plain": [
       "     count                      Name\n",
       "83       3  Volume Rectangular Prism\n",
       "84       2             Volume Sphere\n",
       "109      2      Solving Inequalities\n",
       "82       2           Volume Cylinder\n",
       "80       1     Surface Area Cylinder"
      ]
     },
     "execution_count": 75,
     "metadata": {},
     "output_type": "execute_result"
    }
   ],
   "source": [
    "print('Bottom 5 skills:')\n",
    "skill_counts.tail()"
   ]
  },
  {
   "cell_type": "code",
   "execution_count": 77,
   "metadata": {},
   "outputs": [
    {
     "name": "stdout",
     "output_type": "stream",
     "text": [
      "Proportion of responses for most common skill:\n"
     ]
    },
    {
     "data": {
      "text/plain": [
       "0.078407534246575344"
      ]
     },
     "execution_count": 77,
     "metadata": {},
     "output_type": "execute_result"
    }
   ],
   "source": [
    "print('Proportion of responses for most common skill:')\n",
    "skill_counts.iloc[0, 0] / skill_counts['count'].sum()"
   ]
  },
  {
   "cell_type": "markdown",
   "metadata": {},
   "source": [
    "## Question 2\n",
    "\n",
    "Train the sequence prediction model using a randomly selected 70% (training set) of students' data and predict on the remaining 30% (test set). What was the overall accuracy of skill prediction in the test set? What were the top 5 hardest and easiest to predict skills? Describe the metric you chose to represent hard/easy prediction. "
   ]
  },
  {
   "cell_type": "code",
   "execution_count": 84,
   "metadata": {},
   "outputs": [
    {
     "data": {
      "text/plain": [
       "((408, 99, 111), (176, 99, 111))"
      ]
     },
     "execution_count": 84,
     "metadata": {},
     "output_type": "execute_result"
    }
   ],
   "source": [
    "from sklearn.model_selection import train_test_split\n",
    "\n",
    "X_train, X_test, y_train, y_test = train_test_split(skill_array[:, 0:-1], skill_array[:, 1:], test_size=0.3)\n",
    "X_train.shape, X_test.shape"
   ]
  },
  {
   "cell_type": "code",
   "execution_count": null,
   "metadata": {
    "collapsed": true
   },
   "outputs": [],
   "source": [
    "%%time\n",
    "\n",
    "\n",
    "\n",
    "# train skill2skill\n",
    "skill2skill_model.fit(...,\n",
    "                      ...,\n",
    "                      epochs=20, \n",
    "                      batch_size=32, \n",
    "                      shuffle=True,\n",
    "                      validation_split=0.2)"
   ]
  },
  {
   "cell_type": "markdown",
   "metadata": {},
   "source": [
    "## Question 3\n",
    "\n",
    "Modify parameters of the network to increase accuracy (e.g. number of hidden nodes, optimizer, number of RNN layers, number of epochs, creating a validation set and stopping training when the validation set accuracy decreases). What were your accuracy results with respect to the hyper parameters you tuned?"
   ]
  },
  {
   "cell_type": "code",
   "execution_count": null,
   "metadata": {
    "collapsed": true
   },
   "outputs": [],
   "source": []
  },
  {
   "cell_type": "markdown",
   "metadata": {},
   "source": [
    "## Question 4\n",
    "\n",
    "Train a performance prediction model (DKT) using the same 70/30% split and report the accuracy and AUC of prediction on the 30%"
   ]
  },
  {
   "cell_type": "code",
   "execution_count": null,
   "metadata": {
    "collapsed": true
   },
   "outputs": [],
   "source": []
  },
  {
   "cell_type": "markdown",
   "metadata": {},
   "source": [
    "## Question 5\n",
    "\n",
    "Tune the hyper parameters of this model to improve accuracy and report your improvement with respect to the tuned parameters. Which lead to the most significant improvement?"
   ]
  },
  {
   "cell_type": "code",
   "execution_count": null,
   "metadata": {
    "collapsed": true
   },
   "outputs": [],
   "source": []
  },
  {
   "cell_type": "markdown",
   "metadata": {},
   "source": [
    "## Question 6\n",
    "\n",
    "[Extra credit 1 (worth 30%)]: Repeat the model experiements above but using 5-fold cross-validation at the student level instaed of a single train/test hold out."
   ]
  },
  {
   "cell_type": "code",
   "execution_count": null,
   "metadata": {
    "collapsed": true
   },
   "outputs": [],
   "source": []
  },
  {
   "cell_type": "markdown",
   "metadata": {},
   "source": [
    "## Question 7\n",
    "\n",
    "[Extra credit 2 (worth additional 30%)]: Modify either DKT or sequence predition model to predict the skill and the correctness given skill_correctness as the input sequence. Train using 70/30 or cross-validation and tune the parameters of this model. How does the accuracy of this model compare to the DKT and sequence prediction models?"
   ]
  },
  {
   "cell_type": "code",
   "execution_count": null,
   "metadata": {
    "collapsed": true
   },
   "outputs": [],
   "source": []
  },
  {
   "cell_type": "markdown",
   "metadata": {},
   "source": [
    "## Question 8\n",
    "\n",
    "[Extra credit 3 (worth 30%)]: Re-create the DKT skill pre-requisite analysis by creating a skill by skill matrix with the influence calculations for each. Use your choice of cutoff and software to create the pre-requsite skill graph visualization."
   ]
  },
  {
   "cell_type": "code",
   "execution_count": null,
   "metadata": {
    "collapsed": true
   },
   "outputs": [],
   "source": []
  },
  {
   "cell_type": "markdown",
   "metadata": {},
   "source": [
    "## Question 9\n",
    "\n",
    "[Extra credit 4 (worth 30%)]: Re-tune the sequence and performance predictions models to use the assignment ID instead of skill ID as the input. Keep the output the same as it was before. Compare accuracies bewteen the two different inputs for each model."
   ]
  },
  {
   "cell_type": "code",
   "execution_count": null,
   "metadata": {
    "collapsed": true
   },
   "outputs": [],
   "source": []
  }
 ],
 "metadata": {
  "kernelspec": {
   "display_name": "Python [default]",
   "language": "python",
   "name": "python3"
  },
  "language_info": {
   "codemirror_mode": {
    "name": "ipython",
    "version": 3
   },
   "file_extension": ".py",
   "mimetype": "text/x-python",
   "name": "python",
   "nbconvert_exporter": "python",
   "pygments_lexer": "ipython3",
   "version": "3.5.2"
  }
 },
 "nbformat": 4,
 "nbformat_minor": 2
}
