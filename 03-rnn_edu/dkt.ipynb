{
 "cells": [
  {
   "cell_type": "markdown",
   "metadata": {},
   "source": [
    "# RNN modeling of behavior and performance\n",
    "\n",
    "**Yifat Amir, Allen Guo, Sam Lau**"
   ]
  },
  {
   "cell_type": "code",
   "execution_count": 1,
   "metadata": {},
   "outputs": [],
   "source": [
    "import pandas as pd\n",
    "import numpy as np\n",
    "import json\n",
    "\n",
    "filename = 'skill_builder_data_corrected.csv'\n",
    "df = pd.read_csv(filename, encoding='ISO-8859-1', low_memory=False)\n",
    "df = df[(df['original'] == 1) & (df['attempt_count'] == 1) & ~(df['skill_name'].isnull())]"
   ]
  },
  {
   "cell_type": "code",
   "execution_count": 2,
   "metadata": {},
   "outputs": [],
   "source": [
    "response_df = pd.read_csv('correct.tsv', sep='\\t').drop('Unnamed: 0', axis=1)\n",
    "skill_df = pd.read_csv('skill.tsv', sep='\\t').drop('Unnamed: 0', axis=1)\n",
    "assistment_df = pd.read_csv('assistment_id.tsv', sep='\\t').drop('Unnamed: 0', axis=1)\n",
    "skill_dict = {}\n",
    "with open('skill_dict.json', 'r', encoding='utf-8') as f:\n",
    "    loaded = json.load(f)\n",
    "    for k, v in loaded.items():\n",
    "        skill_dict[k] = int(v)\n",
    "\n",
    "skill_num = len(skill_dict) + 1 # including 0\n",
    "\n",
    "def one_hot(skill_matrix, vocab_size):\n",
    "    '''\n",
    "    params:\n",
    "        skill_matrix: 2-D matrix (student, skills)\n",
    "        vocal_size: size of the vocabulary\n",
    "    returns:\n",
    "        a ndarray with a shape like (student, sequence_len, vocab_size)\n",
    "    '''\n",
    "    seq_len = skill_matrix.shape[1]\n",
    "    result = np.zeros((skill_matrix.shape[0], seq_len, vocab_size))\n",
    "    for i in range(skill_matrix.shape[0]):\n",
    "        result[i, np.arange(seq_len), skill_matrix[i]] = 1.\n",
    "    return result\n",
    "\n",
    "def dkt_one_hot(skill_matrix, response_matrix, vocab_size):\n",
    "    seq_len = skill_matrix.shape[1]\n",
    "    skill_response_array = np.zeros((skill_matrix.shape[0], seq_len, 2 * vocab_size))\n",
    "    for i in range(skill_matrix.shape[0]):\n",
    "        skill_response_array[i, np.arange(seq_len), 2 * skill_matrix[i] + response_matrix[i]] = 1.\n",
    "    return skill_response_array\n",
    "\n",
    "def preprocess(skill_df, response_df, skill_num):\n",
    "    skill_matrix = skill_df.iloc[:, 1:].values\n",
    "    response_array = response_df.iloc[:, 1:].values\n",
    "    skill_array = one_hot(skill_matrix, skill_num)\n",
    "    skill_response_array = dkt_one_hot(skill_matrix, response_array, skill_num)\n",
    "    return skill_array, response_array, skill_response_array\n",
    "    \n",
    "\n",
    "skill_array, response_array, skill_response_array = preprocess(skill_df, response_df, skill_num)"
   ]
  },
  {
   "cell_type": "code",
   "execution_count": null,
   "metadata": {},
   "outputs": [],
   "source": [
    "import keras\n",
    "from keras.layers import Input, Dense, LSTM, TimeDistributed, Lambda, multiply\n",
    "from keras.models import Model\n",
    "from keras.optimizers import RMSprop, Adam\n",
    "from keras.preprocessing.sequence import pad_sequences\n",
    "from keras import backend as K\n",
    "\n",
    "def build_skill2skill_model(input_shape, lstm_dim=32, dropout=0.0):\n",
    "    input = Input(shape=input_shape, name='input skills')\n",
    "    lstm = LSTM(lstm_dim, \n",
    "                return_sequences=True, \n",
    "                dropout=dropout,\n",
    "                name='lstm layer')(input)\n",
    "    output = TimeDistributed(Dense(input_shape[-1], activation='softmax'), name='probability')(lstm)\n",
    "    model = Model(inputs=[input], outputs=[output])\n",
    "    adam = Adam(lr=0.001, beta_1=0.9, beta_2=0.999, epsilon=1e-07, decay=0.0)\n",
    "    model.compile(optimizer=adam, loss='categorical_crossentropy', metrics=['accuracy'])\n",
    "    model.summary()\n",
    "    return model\n",
    "\n",
    "def reduce_dim(x):\n",
    "    x = K.max(x, axis=-1, keepdims=True)\n",
    "    return x\n",
    "\n",
    "def build_dkt_model(input_shape, lstm_dim=32, dropout=0.0):\n",
    "    input_skills = Input(shape=input_shape, name='input skills')\n",
    "    lstm = LSTM(lstm_dim, \n",
    "                return_sequences=True, \n",
    "                dropout=dropout,\n",
    "                name='lstm layer')(input_skills)\n",
    "    dense = TimeDistributed(Dense(int(input_shape[-1]/2), activation='sigmoid'), name='probability for each')(lstm)\n",
    "    \n",
    "    skill_next = Input(shape=(input_shape[0], int(input_shape[1]/2)), name='next_skill_tested')\n",
    "    merged = multiply([dense, skill_next], name='multiply')\n",
    "    reduced = Lambda(reduce_dim, output_shape=(input_shape[0], 1), name='reduce dim')(merged)\n",
    "    \n",
    "    model = Model(inputs=[input_skills, skill_next], outputs=[reduced])\n",
    "    adam = Adam(lr=0.001, beta_1=0.9, beta_2=0.999, epsilon=1e-07, decay=0.0)\n",
    "    model.compile(optimizer=adam, loss='binary_crossentropy', metrics=['accuracy'])\n",
    "    model.summary()\n",
    "    return model\n",
    "\n",
    "print('skill2skill')\n",
    "skill2skill_model = build_skill2skill_model((99, skill_num), lstm_dim=64)\n",
    "\n",
    "print('dkt')\n",
    "dkt_model = build_dkt_model((99, 2 * skill_num), lstm_dim=64)\n",
    "    "
   ]
  },
  {
   "cell_type": "code",
   "execution_count": null,
   "metadata": {},
   "outputs": [],
   "source": [
    "%%time\n",
    "\n",
    "# train skill2skill\n",
    "skill2skill_model.fit(skill_array[:, 0:-1],\n",
    "                      skill_array[:, 1:],\n",
    "                      epochs=20, \n",
    "                      batch_size=32, \n",
    "                      shuffle=True,\n",
    "                      validation_split=0.2)"
   ]
  },
  {
   "cell_type": "code",
   "execution_count": null,
   "metadata": {},
   "outputs": [],
   "source": [
    "%%time\n",
    "\n",
    "dkt_model.fit([skill_response_array[:, 0:-1], skill_array[:, 1:]],\n",
    "              response_array[:, 1:, np.newaxis],\n",
    "              epochs=20, \n",
    "              batch_size=32, \n",
    "              shuffle=True,\n",
    "              validation_split=0.2)"
   ]
  },
  {
   "cell_type": "markdown",
   "metadata": {
    "collapsed": true
   },
   "source": [
    "## Question 1\n",
    "\n",
    "What were the 5 most common and 5 least common skills in this dataset? What percentage of responses are associated with the most common skill?"
   ]
  },
  {
   "cell_type": "code",
   "execution_count": 4,
   "metadata": {},
   "outputs": [
    {
     "data": {
      "text/html": [
       "<div>\n",
       "<style>\n",
       "    .dataframe thead tr:only-child th {\n",
       "        text-align: right;\n",
       "    }\n",
       "\n",
       "    .dataframe thead th {\n",
       "        text-align: left;\n",
       "    }\n",
       "\n",
       "    .dataframe tbody tr th {\n",
       "        vertical-align: top;\n",
       "    }\n",
       "</style>\n",
       "<table border=\"1\" class=\"dataframe\">\n",
       "  <thead>\n",
       "    <tr style=\"text-align: right;\">\n",
       "      <th></th>\n",
       "      <th>Name</th>\n",
       "    </tr>\n",
       "    <tr>\n",
       "      <th>ID</th>\n",
       "      <th></th>\n",
       "    </tr>\n",
       "  </thead>\n",
       "  <tbody>\n",
       "    <tr>\n",
       "      <th>39</th>\n",
       "      <td>Estimation</td>\n",
       "    </tr>\n",
       "    <tr>\n",
       "      <th>90</th>\n",
       "      <td>Greatest Common Factor</td>\n",
       "    </tr>\n",
       "    <tr>\n",
       "      <th>88</th>\n",
       "      <td>Equation Solving More Than Two Steps</td>\n",
       "    </tr>\n",
       "    <tr>\n",
       "      <th>74</th>\n",
       "      <td>Translations</td>\n",
       "    </tr>\n",
       "    <tr>\n",
       "      <th>43</th>\n",
       "      <td>Multiplication Whole Numbers</td>\n",
       "    </tr>\n",
       "  </tbody>\n",
       "</table>\n",
       "</div>"
      ],
      "text/plain": [
       "                                    Name\n",
       "ID                                      \n",
       "39                            Estimation\n",
       "90                Greatest Common Factor\n",
       "88  Equation Solving More Than Two Steps\n",
       "74                          Translations\n",
       "43          Multiplication Whole Numbers"
      ]
     },
     "execution_count": 4,
     "metadata": {},
     "output_type": "execute_result"
    }
   ],
   "source": [
    "skillname_df = pd.DataFrame(list(skill_dict.items()), columns=['Name', 'ID']).set_index('ID')\n",
    "skillname_df.head()"
   ]
  },
  {
   "cell_type": "code",
   "execution_count": 5,
   "metadata": {},
   "outputs": [],
   "source": [
    "skill_counts = (skill_df\n",
    " .iloc[:, 1:]\n",
    " .unstack()\n",
    " .value_counts()\n",
    " .rename('count')\n",
    " .to_frame()\n",
    " .join(skillname_df)\n",
    ")"
   ]
  },
  {
   "cell_type": "code",
   "execution_count": 6,
   "metadata": {},
   "outputs": [
    {
     "name": "stdout",
     "output_type": "stream",
     "text": [
      "Top 5 skills:\n"
     ]
    },
    {
     "data": {
      "text/html": [
       "<div>\n",
       "<style>\n",
       "    .dataframe thead tr:only-child th {\n",
       "        text-align: right;\n",
       "    }\n",
       "\n",
       "    .dataframe thead th {\n",
       "        text-align: left;\n",
       "    }\n",
       "\n",
       "    .dataframe tbody tr th {\n",
       "        vertical-align: top;\n",
       "    }\n",
       "</style>\n",
       "<table border=\"1\" class=\"dataframe\">\n",
       "  <thead>\n",
       "    <tr style=\"text-align: right;\">\n",
       "      <th></th>\n",
       "      <th>count</th>\n",
       "      <th>Name</th>\n",
       "    </tr>\n",
       "  </thead>\n",
       "  <tbody>\n",
       "    <tr>\n",
       "      <th>7</th>\n",
       "      <td>4579</td>\n",
       "      <td>Table</td>\n",
       "    </tr>\n",
       "    <tr>\n",
       "      <th>30</th>\n",
       "      <td>4379</td>\n",
       "      <td>Conversion of Fraction Decimals Percents</td>\n",
       "    </tr>\n",
       "    <tr>\n",
       "      <th>8</th>\n",
       "      <td>3466</td>\n",
       "      <td>Venn Diagram</td>\n",
       "    </tr>\n",
       "    <tr>\n",
       "      <th>2</th>\n",
       "      <td>3404</td>\n",
       "      <td>Circle Graph</td>\n",
       "    </tr>\n",
       "    <tr>\n",
       "      <th>33</th>\n",
       "      <td>2833</td>\n",
       "      <td>Ordering Fractions</td>\n",
       "    </tr>\n",
       "  </tbody>\n",
       "</table>\n",
       "</div>"
      ],
      "text/plain": [
       "    count                                      Name\n",
       "7    4579                                     Table\n",
       "30   4379  Conversion of Fraction Decimals Percents\n",
       "8    3466                              Venn Diagram\n",
       "2    3404                              Circle Graph\n",
       "33   2833                        Ordering Fractions"
      ]
     },
     "execution_count": 6,
     "metadata": {},
     "output_type": "execute_result"
    }
   ],
   "source": [
    "print('Top 5 skills:')\n",
    "skill_counts.head()"
   ]
  },
  {
   "cell_type": "code",
   "execution_count": 7,
   "metadata": {},
   "outputs": [
    {
     "name": "stdout",
     "output_type": "stream",
     "text": [
      "Bottom 5 skills:\n"
     ]
    },
    {
     "data": {
      "text/html": [
       "<div>\n",
       "<style>\n",
       "    .dataframe thead tr:only-child th {\n",
       "        text-align: right;\n",
       "    }\n",
       "\n",
       "    .dataframe thead th {\n",
       "        text-align: left;\n",
       "    }\n",
       "\n",
       "    .dataframe tbody tr th {\n",
       "        vertical-align: top;\n",
       "    }\n",
       "</style>\n",
       "<table border=\"1\" class=\"dataframe\">\n",
       "  <thead>\n",
       "    <tr style=\"text-align: right;\">\n",
       "      <th></th>\n",
       "      <th>count</th>\n",
       "      <th>Name</th>\n",
       "    </tr>\n",
       "  </thead>\n",
       "  <tbody>\n",
       "    <tr>\n",
       "      <th>83</th>\n",
       "      <td>3</td>\n",
       "      <td>Volume Rectangular Prism</td>\n",
       "    </tr>\n",
       "    <tr>\n",
       "      <th>84</th>\n",
       "      <td>2</td>\n",
       "      <td>Volume Sphere</td>\n",
       "    </tr>\n",
       "    <tr>\n",
       "      <th>109</th>\n",
       "      <td>2</td>\n",
       "      <td>Solving Inequalities</td>\n",
       "    </tr>\n",
       "    <tr>\n",
       "      <th>82</th>\n",
       "      <td>2</td>\n",
       "      <td>Volume Cylinder</td>\n",
       "    </tr>\n",
       "    <tr>\n",
       "      <th>80</th>\n",
       "      <td>1</td>\n",
       "      <td>Surface Area Cylinder</td>\n",
       "    </tr>\n",
       "  </tbody>\n",
       "</table>\n",
       "</div>"
      ],
      "text/plain": [
       "     count                      Name\n",
       "83       3  Volume Rectangular Prism\n",
       "84       2             Volume Sphere\n",
       "109      2      Solving Inequalities\n",
       "82       2           Volume Cylinder\n",
       "80       1     Surface Area Cylinder"
      ]
     },
     "execution_count": 7,
     "metadata": {},
     "output_type": "execute_result"
    }
   ],
   "source": [
    "print('Bottom 5 skills:')\n",
    "skill_counts.tail()"
   ]
  },
  {
   "cell_type": "code",
   "execution_count": 8,
   "metadata": {},
   "outputs": [
    {
     "name": "stdout",
     "output_type": "stream",
     "text": [
      "Proportion of responses for most common skill:\n"
     ]
    },
    {
     "data": {
      "text/plain": [
       "0.078407534246575344"
      ]
     },
     "execution_count": 8,
     "metadata": {},
     "output_type": "execute_result"
    }
   ],
   "source": [
    "print('Proportion of responses for most common skill:')\n",
    "skill_counts.iloc[0, 0] / skill_counts['count'].sum()"
   ]
  },
  {
   "cell_type": "markdown",
   "metadata": {},
   "source": [
    "## Question 2\n",
    "\n",
    "Train the sequence prediction model using a randomly selected 70% (training set) of students' data and predict on the remaining 30% (test set). What was the overall accuracy of skill prediction in the test set? What were the top 5 hardest and easiest to predict skills? Describe the metric you chose to represent hard/easy prediction. "
   ]
  },
  {
   "cell_type": "code",
   "execution_count": 9,
   "metadata": {},
   "outputs": [
    {
     "data": {
      "text/plain": [
       "((408, 99, 111), (176, 99, 111))"
      ]
     },
     "execution_count": 9,
     "metadata": {},
     "output_type": "execute_result"
    }
   ],
   "source": [
    "from sklearn.model_selection import train_test_split\n",
    "\n",
    "X_train, X_test, y_train, y_test = train_test_split(skill_array[:, 0:-1], skill_array[:, 1:], test_size=0.3)\n",
    "X_train.shape, X_test.shape"
   ]
  },
  {
   "cell_type": "code",
   "execution_count": null,
   "metadata": {},
   "outputs": [],
   "source": [
    "%%time\n",
    "\n",
    "# train skill2skill\n",
    "skill2skill_model.fit(X_train,\n",
    "                      y_train,\n",
    "                      epochs=20, \n",
    "                      batch_size=32, \n",
    "                      shuffle=True,\n",
    "                      validation_split=0.2)"
   ]
  },
  {
   "cell_type": "code",
   "execution_count": 20,
   "metadata": {},
   "outputs": [
    {
     "data": {
      "text/plain": [
       "(176, 99, 111)"
      ]
     },
     "execution_count": 20,
     "metadata": {},
     "output_type": "execute_result"
    }
   ],
   "source": [
    "test_predictions = skill2skill_model.predict(X_test)\n",
    "test_predictions.shape"
   ]
  },
  {
   "cell_type": "code",
   "execution_count": 74,
   "metadata": {},
   "outputs": [
    {
     "name": "stdout",
     "output_type": "stream",
     "text": [
      "Overall accuracy:\n"
     ]
    },
    {
     "data": {
      "text/plain": [
       "0.7007575757575758"
      ]
     },
     "execution_count": 74,
     "metadata": {},
     "output_type": "execute_result"
    }
   ],
   "source": [
    "def s2s_acc(true, predictions):\n",
    "    assert true.shape == predictions.shape\n",
    "    return (np.count_nonzero(true.argmax(axis=2) == predictions.argmax(axis=2))\n",
    "            / (true.shape[0] * true.shape[1]))\n",
    "\n",
    "print(\"Overall accuracy:\")\n",
    "s2s_acc(y_test, test_predictions)"
   ]
  },
  {
   "cell_type": "code",
   "execution_count": 67,
   "metadata": {},
   "outputs": [
    {
     "name": "stdout",
     "output_type": "stream",
     "text": [
      "Easiest skills to predict (highest recall):\n"
     ]
    },
    {
     "data": {
      "text/html": [
       "<div>\n",
       "<style>\n",
       "    .dataframe thead tr:only-child th {\n",
       "        text-align: right;\n",
       "    }\n",
       "\n",
       "    .dataframe thead th {\n",
       "        text-align: left;\n",
       "    }\n",
       "\n",
       "    .dataframe tbody tr th {\n",
       "        vertical-align: top;\n",
       "    }\n",
       "</style>\n",
       "<table border=\"1\" class=\"dataframe\">\n",
       "  <thead>\n",
       "    <tr style=\"text-align: right;\">\n",
       "      <th></th>\n",
       "      <th>scores</th>\n",
       "      <th>Name</th>\n",
       "    </tr>\n",
       "  </thead>\n",
       "  <tbody>\n",
       "    <tr>\n",
       "      <th>1</th>\n",
       "      <td>0.984906</td>\n",
       "      <td>Box and Whisker</td>\n",
       "    </tr>\n",
       "    <tr>\n",
       "      <th>46</th>\n",
       "      <td>0.957399</td>\n",
       "      <td>Square Root</td>\n",
       "    </tr>\n",
       "    <tr>\n",
       "      <th>68</th>\n",
       "      <td>0.922145</td>\n",
       "      <td>Addition and Subtraction Integers</td>\n",
       "    </tr>\n",
       "    <tr>\n",
       "      <th>7</th>\n",
       "      <td>0.915704</td>\n",
       "      <td>Table</td>\n",
       "    </tr>\n",
       "    <tr>\n",
       "      <th>8</th>\n",
       "      <td>0.910093</td>\n",
       "      <td>Venn Diagram</td>\n",
       "    </tr>\n",
       "  </tbody>\n",
       "</table>\n",
       "</div>"
      ],
      "text/plain": [
       "      scores                               Name\n",
       "1   0.984906                    Box and Whisker\n",
       "46  0.957399                        Square Root\n",
       "68  0.922145  Addition and Subtraction Integers\n",
       "7   0.915704                              Table\n",
       "8   0.910093                       Venn Diagram"
      ]
     },
     "execution_count": 67,
     "metadata": {},
     "output_type": "execute_result"
    }
   ],
   "source": [
    "from sklearn.metrics import classification\n",
    "\n",
    "scores = classification.recall_score(y_test.argmax(axis=2).flatten(),\n",
    "                                     test_predictions.argmax(axis=2).flatten(),\n",
    "                                     average=None)\n",
    "score_df = pd.DataFrame({'scores': scores}, index=np.unique(y_test.argmax(axis=2)))\n",
    "\n",
    "print('Easiest skills to predict (highest recall):')\n",
    "(score_df\n",
    " .sort_values('scores', ascending=False)\n",
    " .join(skillname_df)\n",
    " .head()\n",
    ")"
   ]
  },
  {
   "cell_type": "code",
   "execution_count": 66,
   "metadata": {},
   "outputs": [
    {
     "name": "stdout",
     "output_type": "stream",
     "text": [
      "Hardest skills to predict (lowest recall):\n",
      "Note that there were a lot of 0s so these are just 5 of the 0s\n"
     ]
    },
    {
     "data": {
      "text/html": [
       "<div>\n",
       "<style>\n",
       "    .dataframe thead tr:only-child th {\n",
       "        text-align: right;\n",
       "    }\n",
       "\n",
       "    .dataframe thead th {\n",
       "        text-align: left;\n",
       "    }\n",
       "\n",
       "    .dataframe tbody tr th {\n",
       "        vertical-align: top;\n",
       "    }\n",
       "</style>\n",
       "<table border=\"1\" class=\"dataframe\">\n",
       "  <thead>\n",
       "    <tr style=\"text-align: right;\">\n",
       "      <th></th>\n",
       "      <th>scores</th>\n",
       "      <th>Name</th>\n",
       "    </tr>\n",
       "  </thead>\n",
       "  <tbody>\n",
       "    <tr>\n",
       "      <th>20</th>\n",
       "      <td>0.0</td>\n",
       "      <td>Angles on Parallel Lines Cut by a Transversal</td>\n",
       "    </tr>\n",
       "    <tr>\n",
       "      <th>56</th>\n",
       "      <td>0.0</td>\n",
       "      <td>Pattern Finding</td>\n",
       "    </tr>\n",
       "    <tr>\n",
       "      <th>59</th>\n",
       "      <td>0.0</td>\n",
       "      <td>Algebraic Solving</td>\n",
       "    </tr>\n",
       "    <tr>\n",
       "      <th>60</th>\n",
       "      <td>0.0</td>\n",
       "      <td>Choose an Equation from Given Information</td>\n",
       "    </tr>\n",
       "    <tr>\n",
       "      <th>110</th>\n",
       "      <td>0.0</td>\n",
       "      <td>Solving Systems of Linear Equations by Graphing</td>\n",
       "    </tr>\n",
       "  </tbody>\n",
       "</table>\n",
       "</div>"
      ],
      "text/plain": [
       "     scores                                             Name\n",
       "20      0.0    Angles on Parallel Lines Cut by a Transversal\n",
       "56      0.0                                 Pattern Finding \n",
       "59      0.0                                Algebraic Solving\n",
       "60      0.0        Choose an Equation from Given Information\n",
       "110     0.0  Solving Systems of Linear Equations by Graphing"
      ]
     },
     "execution_count": 66,
     "metadata": {},
     "output_type": "execute_result"
    }
   ],
   "source": [
    "print('Hardest skills to predict (lowest recall):')\n",
    "print('Note that there were a lot of 0s so these are just 5 of the 0s')\n",
    "(score_df\n",
    " .sort_values('scores', ascending=False)\n",
    " .join(skillname_df)\n",
    " .tail()\n",
    ")"
   ]
  },
  {
   "cell_type": "markdown",
   "metadata": {},
   "source": [
    "## Question 3\n",
    "\n",
    "Modify parameters of the network to increase accuracy (e.g. number of hidden nodes, optimizer, number of RNN layers, number of epochs, creating a validation set and stopping training when the validation set accuracy decreases). What were your accuracy results with respect to the hyper parameters you tuned?"
   ]
  },
  {
   "cell_type": "code",
   "execution_count": 88,
   "metadata": {
    "scrolled": true
   },
   "outputs": [
    {
     "name": "stdout",
     "output_type": "stream",
     "text": [
      "skill2skill with dropout of 0.1\n",
      "_________________________________________________________________\n",
      "Layer (type)                 Output Shape              Param #   \n",
      "=================================================================\n",
      "input skills (InputLayer)    (None, 99, 111)           0         \n",
      "_________________________________________________________________\n",
      "lstm layer (LSTM)            (None, 99, 128)           122880    \n",
      "_________________________________________________________________\n",
      "probability (TimeDistributed (None, 99, 111)           14319     \n",
      "=================================================================\n",
      "Total params: 137,199\n",
      "Trainable params: 137,199\n",
      "Non-trainable params: 0\n",
      "_________________________________________________________________\n"
     ]
    }
   ],
   "source": [
    "print('skill2skill with 128 hidden nodes')\n",
    "s2s_128_model = build_skill2skill_model((99, skill_num), lstm_dim=128)"
   ]
  },
  {
   "cell_type": "code",
   "execution_count": null,
   "metadata": {},
   "outputs": [],
   "source": [
    "%%time\n",
    "\n",
    "# train skill2skill\n",
    "s2s_128_model.fit(X_train,\n",
    "                  y_train,\n",
    "                  epochs=20,\n",
    "                  batch_size=32,\n",
    "                  shuffle=True,\n",
    "                  validation_split=0.2)"
   ]
  },
  {
   "cell_type": "code",
   "execution_count": 90,
   "metadata": {},
   "outputs": [
    {
     "name": "stdout",
     "output_type": "stream",
     "text": [
      "Attempts to set dropout=0.1 or lower number of hidden nodes decreased accuracy.\n",
      "Accuracy with 128 hidden nodes:\n"
     ]
    },
    {
     "data": {
      "text/plain": [
       "0.7765725436179982"
      ]
     },
     "execution_count": 90,
     "metadata": {},
     "output_type": "execute_result"
    }
   ],
   "source": [
    "print('Attempts to set dropout=0.1 or lower number of hidden nodes decreased accuracy.')\n",
    "\n",
    "print('Accuracy with 128 hidden nodes:')\n",
    "s2s_acc(y_test, s2s_128_model.predict(X_test))"
   ]
  },
  {
   "cell_type": "markdown",
   "metadata": {},
   "source": [
    "## Question 4\n",
    "\n",
    "Train a performance prediction model (DKT) using the same 70/30% split and report the accuracy and AUC of prediction on the 30%"
   ]
  },
  {
   "cell_type": "code",
   "execution_count": 100,
   "metadata": {},
   "outputs": [
    {
     "data": {
      "text/plain": [
       "((408, 99, 222), (176, 99, 222))"
      ]
     },
     "execution_count": 100,
     "metadata": {},
     "output_type": "execute_result"
    }
   ],
   "source": [
    "X1_train, X1_test, X2_train, X2_test, y_train, y_test = train_test_split(\n",
    "    skill_response_array[:, 0:-1], \n",
    "    skill_array[:, 1:],\n",
    "    response_array[:, 1:, np.newaxis],\n",
    "    test_size=0.3\n",
    ")\n",
    "X1_train.shape, X1_test.shape"
   ]
  },
  {
   "cell_type": "code",
   "execution_count": null,
   "metadata": {},
   "outputs": [],
   "source": [
    "%%time\n",
    "\n",
    "dkt_model.fit([X1_train, X2_train],\n",
    "              y_train,\n",
    "              epochs=15, \n",
    "              batch_size=32, \n",
    "              shuffle=True,\n",
    "              validation_split=0.2)"
   ]
  },
  {
   "cell_type": "code",
   "execution_count": 119,
   "metadata": {},
   "outputs": [
    {
     "name": "stdout",
     "output_type": "stream",
     "text": [
      "176/176 [==============================] - 0s     \n"
     ]
    },
    {
     "data": {
      "text/plain": [
       "[0.35878889127211139, 0.86346419291062793]"
      ]
     },
     "execution_count": 119,
     "metadata": {},
     "output_type": "execute_result"
    }
   ],
   "source": [
    "dkt_model.evaluate([X1_test, X2_test], y_test)"
   ]
  },
  {
   "cell_type": "code",
   "execution_count": 121,
   "metadata": {},
   "outputs": [
    {
     "name": "stdout",
     "output_type": "stream",
     "text": [
      "DKT Prediction Accuracy:\n"
     ]
    },
    {
     "data": {
      "text/plain": [
       "0.86346418732782371"
      ]
     },
     "execution_count": 121,
     "metadata": {},
     "output_type": "execute_result"
    }
   ],
   "source": [
    "from sklearn.metrics import accuracy_score\n",
    "\n",
    "dkt_predictions = dkt_model.predict([X1_test, X2_test])\n",
    "print('DKT Prediction Accuracy:')\n",
    "accuracy_score(np.round(dkt_predictions.flatten()), y_test.flatten())"
   ]
  },
  {
   "cell_type": "code",
   "execution_count": 140,
   "metadata": {},
   "outputs": [
    {
     "name": "stdout",
     "output_type": "stream",
     "text": [
      "DKT AUC score:\n"
     ]
    },
    {
     "data": {
      "text/plain": [
       "0.74280793994244021"
      ]
     },
     "execution_count": 140,
     "metadata": {},
     "output_type": "execute_result"
    }
   ],
   "source": [
    "from sklearn.metrics import roc_auc_score\n",
    "\n",
    "print('DKT AUC score:')\n",
    "roc_auc_score(y_test.flatten(), dkt_predictions.flatten())"
   ]
  },
  {
   "cell_type": "markdown",
   "metadata": {},
   "source": [
    "## Question 5\n",
    "\n",
    "Tune the hyper parameters of this model to improve accuracy and report your improvement with respect to the tuned parameters. Which lead to the most significant improvement?"
   ]
  },
  {
   "cell_type": "code",
   "execution_count": 124,
   "metadata": {
    "collapsed": true
   },
   "outputs": [
    {
     "name": "stdout",
     "output_type": "stream",
     "text": [
      "dkt with 128 hidden nodes\n",
      "____________________________________________________________________________________________________\n",
      "Layer (type)                     Output Shape          Param #     Connected to                     \n",
      "====================================================================================================\n",
      "input skills (InputLayer)        (None, 99, 222)       0                                            \n",
      "____________________________________________________________________________________________________\n",
      "lstm layer (LSTM)                (None, 99, 128)       179712      input skills[0][0]               \n",
      "____________________________________________________________________________________________________\n",
      "probability for each (TimeDistri (None, 99, 111)       14319       lstm layer[0][0]                 \n",
      "____________________________________________________________________________________________________\n",
      "next_skill_tested (InputLayer)   (None, 99, 111)       0                                            \n",
      "____________________________________________________________________________________________________\n",
      "multiply (Multiply)              (None, 99, 111)       0           probability for each[0][0]       \n",
      "                                                                   next_skill_tested[0][0]          \n",
      "____________________________________________________________________________________________________\n",
      "reduce dim (Lambda)              (None, 99, 1)         0           multiply[0][0]                   \n",
      "====================================================================================================\n",
      "Total params: 194,031\n",
      "Trainable params: 194,031\n",
      "Non-trainable params: 0\n",
      "____________________________________________________________________________________________________\n"
     ]
    }
   ],
   "source": [
    "print('dkt with 128 hidden nodes')\n",
    "dkt_128_model = build_dkt_model((99, 2 * skill_num), lstm_dim=128)"
   ]
  },
  {
   "cell_type": "code",
   "execution_count": null,
   "metadata": {},
   "outputs": [],
   "source": [
    "%%time\n",
    "\n",
    "dkt_128_model.fit([X1_train, X2_train],\n",
    "                  y_train,\n",
    "                  epochs=20, \n",
    "                  batch_size=32, \n",
    "                  shuffle=True,\n",
    "                  validation_split=0.2)"
   ]
  },
  {
   "cell_type": "code",
   "execution_count": 126,
   "metadata": {},
   "outputs": [
    {
     "name": "stdout",
     "output_type": "stream",
     "text": [
      "DKT Prediction Accuracy with 128 hidden nodes:\n"
     ]
    },
    {
     "data": {
      "text/plain": [
       "0.86116850321395777"
      ]
     },
     "execution_count": 126,
     "metadata": {},
     "output_type": "execute_result"
    }
   ],
   "source": [
    "dkt_128_predictions = dkt_128_model.predict([X1_test, X2_test])\n",
    "print('DKT Prediction Accuracy with 128 hidden nodes:')\n",
    "accuracy_score(np.round(dkt_128_predictions.flatten()), y_test.flatten())"
   ]
  },
  {
   "cell_type": "markdown",
   "metadata": {},
   "source": [
    "That didn't really work; attempt 2:"
   ]
  },
  {
   "cell_type": "code",
   "execution_count": 128,
   "metadata": {
    "collapsed": true
   },
   "outputs": [
    {
     "name": "stdout",
     "output_type": "stream",
     "text": [
      "dkt with 128 hidden nodes and dropout of 0.01\n",
      "____________________________________________________________________________________________________\n",
      "Layer (type)                     Output Shape          Param #     Connected to                     \n",
      "====================================================================================================\n",
      "input skills (InputLayer)        (None, 99, 222)       0                                            \n",
      "____________________________________________________________________________________________________\n",
      "lstm layer (LSTM)                (None, 99, 128)       179712      input skills[0][0]               \n",
      "____________________________________________________________________________________________________\n",
      "probability for each (TimeDistri (None, 99, 111)       14319       lstm layer[0][0]                 \n",
      "____________________________________________________________________________________________________\n",
      "next_skill_tested (InputLayer)   (None, 99, 111)       0                                            \n",
      "____________________________________________________________________________________________________\n",
      "multiply (Multiply)              (None, 99, 111)       0           probability for each[0][0]       \n",
      "                                                                   next_skill_tested[0][0]          \n",
      "____________________________________________________________________________________________________\n",
      "reduce dim (Lambda)              (None, 99, 1)         0           multiply[0][0]                   \n",
      "====================================================================================================\n",
      "Total params: 194,031\n",
      "Trainable params: 194,031\n",
      "Non-trainable params: 0\n",
      "____________________________________________________________________________________________________\n"
     ]
    }
   ],
   "source": [
    "print('dkt with 128 hidden nodes and dropout of 0.01')\n",
    "dkt_128_model = build_dkt_model((99, 2 * skill_num), lstm_dim=128, dropout=0.01)"
   ]
  },
  {
   "cell_type": "code",
   "execution_count": null,
   "metadata": {},
   "outputs": [],
   "source": [
    "%%time\n",
    "\n",
    "dkt_128_model.fit([X1_train, X2_train],\n",
    "                  y_train,\n",
    "                  epochs=20, \n",
    "                  batch_size=32, \n",
    "                  shuffle=True,\n",
    "                  validation_split=0.2)"
   ]
  },
  {
   "cell_type": "code",
   "execution_count": 130,
   "metadata": {},
   "outputs": [
    {
     "name": "stdout",
     "output_type": "stream",
     "text": [
      "DKT Prediction Accuracy with 128 hidden nodes and dropout of 0.01:\n"
     ]
    },
    {
     "data": {
      "text/plain": [
       "0.8617424242424242"
      ]
     },
     "execution_count": 130,
     "metadata": {},
     "output_type": "execute_result"
    }
   ],
   "source": [
    "dkt_128_predictions = dkt_128_model.predict([X1_test, X2_test])\n",
    "print('DKT Prediction Accuracy with 128 hidden nodes and dropout of 0.01:')\n",
    "accuracy_score(np.round(dkt_128_predictions.flatten()), y_test.flatten())"
   ]
  },
  {
   "cell_type": "code",
   "execution_count": 139,
   "metadata": {},
   "outputs": [
    {
     "name": "stdout",
     "output_type": "stream",
     "text": [
      "DKT AUC score:\n"
     ]
    },
    {
     "data": {
      "text/plain": [
       "0.75305468559654443"
      ]
     },
     "execution_count": 139,
     "metadata": {},
     "output_type": "execute_result"
    }
   ],
   "source": [
    "print('DKT AUC score:')\n",
    "roc_auc_score(y_test.flatten(), dkt_128_predictions.flatten())"
   ]
  },
  {
   "cell_type": "markdown",
   "metadata": {},
   "source": [
    "That was about the same as well :(."
   ]
  },
  {
   "cell_type": "code",
   "execution_count": 132,
   "metadata": {},
   "outputs": [
    {
     "name": "stdout",
     "output_type": "stream",
     "text": [
      "dkt with 256 hidden nodes and dropout of 0.01\n",
      "____________________________________________________________________________________________________\n",
      "Layer (type)                     Output Shape          Param #     Connected to                     \n",
      "====================================================================================================\n",
      "input skills (InputLayer)        (None, 99, 222)       0                                            \n",
      "____________________________________________________________________________________________________\n",
      "lstm layer (LSTM)                (None, 99, 256)       490496      input skills[0][0]               \n",
      "____________________________________________________________________________________________________\n",
      "probability for each (TimeDistri (None, 99, 111)       28527       lstm layer[0][0]                 \n",
      "____________________________________________________________________________________________________\n",
      "next_skill_tested (InputLayer)   (None, 99, 111)       0                                            \n",
      "____________________________________________________________________________________________________\n",
      "multiply (Multiply)              (None, 99, 111)       0           probability for each[0][0]       \n",
      "                                                                   next_skill_tested[0][0]          \n",
      "____________________________________________________________________________________________________\n",
      "reduce dim (Lambda)              (None, 99, 1)         0           multiply[0][0]                   \n",
      "====================================================================================================\n",
      "Total params: 519,023\n",
      "Trainable params: 519,023\n",
      "Non-trainable params: 0\n",
      "____________________________________________________________________________________________________\n"
     ]
    }
   ],
   "source": [
    "print('dkt with 256 hidden nodes and dropout of 0.01')\n",
    "dkt_256_model = build_dkt_model((99, 2 * skill_num), lstm_dim=256, dropout=0.01)"
   ]
  },
  {
   "cell_type": "code",
   "execution_count": null,
   "metadata": {},
   "outputs": [],
   "source": [
    "%%time\n",
    "\n",
    "dkt_256_model.fit([X1_train, X2_train],\n",
    "                  y_train,\n",
    "                  epochs=20, \n",
    "                  batch_size=32, \n",
    "                  shuffle=True,\n",
    "                  validation_split=0.2)"
   ]
  },
  {
   "cell_type": "code",
   "execution_count": 134,
   "metadata": {},
   "outputs": [
    {
     "name": "stdout",
     "output_type": "stream",
     "text": [
      "DKT Prediction Accuracy with 256 hidden nodes and dropout of 0.01:\n"
     ]
    },
    {
     "data": {
      "text/plain": [
       "0.8621441689623508"
      ]
     },
     "execution_count": 134,
     "metadata": {},
     "output_type": "execute_result"
    }
   ],
   "source": [
    "dkt_256_predictions = dkt_256_model.predict([X1_test, X2_test])\n",
    "print('DKT Prediction Accuracy with 256 hidden nodes and dropout of 0.01:')\n",
    "accuracy_score(np.round(dkt_256_predictions.flatten()), y_test.flatten())"
   ]
  },
  {
   "cell_type": "code",
   "execution_count": 137,
   "metadata": {},
   "outputs": [
    {
     "name": "stdout",
     "output_type": "stream",
     "text": [
      "DKT AUC score:\n"
     ]
    },
    {
     "data": {
      "text/plain": [
       "0.75923135423709032"
      ]
     },
     "execution_count": 137,
     "metadata": {},
     "output_type": "execute_result"
    }
   ],
   "source": [
    "print('DKT AUC score:')\n",
    "roc_auc_score(y_test.flatten(), dkt_256_predictions.flatten())"
   ]
  },
  {
   "cell_type": "markdown",
   "metadata": {},
   "source": [
    "**Looks like we were able to get the AUC to increase by 1.7% compared to the original model using 256 hidden nodes and a dropout of 0.1.**"
   ]
  }
 ],
 "metadata": {
  "kernelspec": {
   "display_name": "Python [default]",
   "language": "python",
   "name": "python3"
  },
  "language_info": {
   "codemirror_mode": {
    "name": "ipython",
    "version": 3
   },
   "file_extension": ".py",
   "mimetype": "text/x-python",
   "name": "python",
   "nbconvert_exporter": "python",
   "pygments_lexer": "ipython3",
   "version": "3.5.2"
  }
 },
 "nbformat": 4,
 "nbformat_minor": 2
}
