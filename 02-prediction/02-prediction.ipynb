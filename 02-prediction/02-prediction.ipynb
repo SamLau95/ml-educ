{
 "cells": [
  {
   "cell_type": "code",
   "execution_count": 9,
   "metadata": {
    "collapsed": true
   },
   "outputs": [],
   "source": [
    "import numpy as np\n",
    "import pandas as pd\n",
    "%matplotlib inline\n",
    "import matplotlib.pyplot as plt\n",
    "import seaborn as sns\n",
    "from datascience import *\n",
    "from pprint import pprint\n",
    "import skimage as ski\n",
    "import skimage.transform as sktrans\n",
    "import skimage.io as skio\n",
    "sns.set()"
   ]
  },
  {
   "cell_type": "code",
   "execution_count": 10,
   "metadata": {},
   "outputs": [
    {
     "name": "stdout",
     "output_type": "stream",
     "text": [
      "02-prediction.ipynb          hmm_data.tsv\r\n",
      "format_one.tsv               index.html\r\n",
      "format_two.tsv               model.hmm\r\n",
      "format_two_r5_prediction.tsv pred.hmm\r\n"
     ]
    }
   ],
   "source": [
    "!ls"
   ]
  },
  {
   "cell_type": "code",
   "execution_count": 11,
   "metadata": {},
   "outputs": [
    {
     "name": "stdout",
     "output_type": "stream",
     "text": [
      "Anon Student Id\tr0\tr1\tr2\tr3\tr4\tr5\r\n",
      "Stu_02ee1b3f31a6f6a7f4b8012298b2395e\t1\t1\t0\t1\t1\t1\r\n",
      "Stu_1afbee9e3e83bb801b589108fb46028a\t1\t1\t1\t1\t1\t1\r\n",
      "Stu_1b394ff128c045b7d4ad4f6e83933b72\t1\t1\t1\t1\t1\t1\r\n",
      "Stu_1d6b91d4b593d7e4f5622275b3295663\t1\t0\t1\t1\t0\t0\r\n",
      "Stu_2ebe6a7530ff11f2c0b9b807faf0a0a3\t1\t1\t1\t1\t1\t1\r\n",
      "Stu_4e8a5be7f2663d2ccccfb59c684d5452\t0\t0\t1\t0\t0\t1\r\n",
      "Stu_58d8c63d6e15a65f05b2e59e0a285d8f\t1\t0\t1\t1\t1\t1\r\n",
      "Stu_671ccc3ef2c091b6b6d76b34e3d19a8f\t1\t1\t1\t1\t1\t1\r\n",
      "Stu_706a76f06dfa563c7ea573d994ca5405\t1\t1\t1\t1\t1\t1\r\n"
     ]
    }
   ],
   "source": [
    "!head format_two.tsv"
   ]
  },
  {
   "cell_type": "code",
   "execution_count": 12,
   "metadata": {},
   "outputs": [
    {
     "name": "stdout",
     "output_type": "stream",
     "text": [
      "Anon Student Id\tr5\r\n",
      "Stu_02ee1b3f31a6f6a7f4b8012298b2395e\t0\r\n",
      "Stu_1afbee9e3e83bb801b589108fb46028a\t0\r\n",
      "Stu_1b394ff128c045b7d4ad4f6e83933b72\t0\r\n",
      "Stu_1d6b91d4b593d7e4f5622275b3295663\t0\r\n",
      "Stu_2ebe6a7530ff11f2c0b9b807faf0a0a3\t0\r\n",
      "Stu_4e8a5be7f2663d2ccccfb59c684d5452\t0\r\n",
      "Stu_58d8c63d6e15a65f05b2e59e0a285d8f\t0\r\n",
      "Stu_671ccc3ef2c091b6b6d76b34e3d19a8f\t0\r\n",
      "Stu_706a76f06dfa563c7ea573d994ca5405\t0\r\n"
     ]
    }
   ],
   "source": [
    "!head format_two_r5_prediction.tsv"
   ]
  },
  {
   "cell_type": "code",
   "execution_count": 13,
   "metadata": {},
   "outputs": [
    {
     "data": {
      "text/html": [
       "<div>\n",
       "<style>\n",
       "    .dataframe thead tr:only-child th {\n",
       "        text-align: right;\n",
       "    }\n",
       "\n",
       "    .dataframe thead th {\n",
       "        text-align: left;\n",
       "    }\n",
       "\n",
       "    .dataframe tbody tr th {\n",
       "        vertical-align: top;\n",
       "    }\n",
       "</style>\n",
       "<table border=\"1\" class=\"dataframe\">\n",
       "  <thead>\n",
       "    <tr style=\"text-align: right;\">\n",
       "      <th></th>\n",
       "      <th>Anon Student Id</th>\n",
       "      <th>r0</th>\n",
       "      <th>r1</th>\n",
       "      <th>r2</th>\n",
       "      <th>r3</th>\n",
       "      <th>r4</th>\n",
       "      <th>r5</th>\n",
       "    </tr>\n",
       "  </thead>\n",
       "  <tbody>\n",
       "    <tr>\n",
       "      <th>0</th>\n",
       "      <td>Stu_02ee1b3f31a6f6a7f4b8012298b2395e</td>\n",
       "      <td>1</td>\n",
       "      <td>1</td>\n",
       "      <td>0</td>\n",
       "      <td>1</td>\n",
       "      <td>1</td>\n",
       "      <td>1</td>\n",
       "    </tr>\n",
       "    <tr>\n",
       "      <th>1</th>\n",
       "      <td>Stu_1afbee9e3e83bb801b589108fb46028a</td>\n",
       "      <td>1</td>\n",
       "      <td>1</td>\n",
       "      <td>1</td>\n",
       "      <td>1</td>\n",
       "      <td>1</td>\n",
       "      <td>1</td>\n",
       "    </tr>\n",
       "    <tr>\n",
       "      <th>2</th>\n",
       "      <td>Stu_1b394ff128c045b7d4ad4f6e83933b72</td>\n",
       "      <td>1</td>\n",
       "      <td>1</td>\n",
       "      <td>1</td>\n",
       "      <td>1</td>\n",
       "      <td>1</td>\n",
       "      <td>1</td>\n",
       "    </tr>\n",
       "    <tr>\n",
       "      <th>3</th>\n",
       "      <td>Stu_1d6b91d4b593d7e4f5622275b3295663</td>\n",
       "      <td>1</td>\n",
       "      <td>0</td>\n",
       "      <td>1</td>\n",
       "      <td>1</td>\n",
       "      <td>0</td>\n",
       "      <td>0</td>\n",
       "    </tr>\n",
       "    <tr>\n",
       "      <th>4</th>\n",
       "      <td>Stu_2ebe6a7530ff11f2c0b9b807faf0a0a3</td>\n",
       "      <td>1</td>\n",
       "      <td>1</td>\n",
       "      <td>1</td>\n",
       "      <td>1</td>\n",
       "      <td>1</td>\n",
       "      <td>1</td>\n",
       "    </tr>\n",
       "  </tbody>\n",
       "</table>\n",
       "</div>"
      ],
      "text/plain": [
       "                        Anon Student Id  r0  r1  r2  r3  r4  r5\n",
       "0  Stu_02ee1b3f31a6f6a7f4b8012298b2395e   1   1   0   1   1   1\n",
       "1  Stu_1afbee9e3e83bb801b589108fb46028a   1   1   1   1   1   1\n",
       "2  Stu_1b394ff128c045b7d4ad4f6e83933b72   1   1   1   1   1   1\n",
       "3  Stu_1d6b91d4b593d7e4f5622275b3295663   1   0   1   1   0   0\n",
       "4  Stu_2ebe6a7530ff11f2c0b9b807faf0a0a3   1   1   1   1   1   1"
      ]
     },
     "execution_count": 13,
     "metadata": {},
     "output_type": "execute_result"
    }
   ],
   "source": [
    "df = pd.read_csv('format_two.tsv', delimiter='\\t')\n",
    "df.head()"
   ]
  },
  {
   "cell_type": "code",
   "execution_count": 14,
   "metadata": {},
   "outputs": [
    {
     "data": {
      "text/plain": [
       "array([[1, 1, 0, 1, 1, 1],\n",
       "       [1, 1, 1, 1, 1, 1],\n",
       "       [1, 1, 1, 1, 1, 1],\n",
       "       [1, 0, 1, 1, 0, 0],\n",
       "       [1, 1, 1, 1, 1, 1]])"
      ]
     },
     "execution_count": 14,
     "metadata": {},
     "output_type": "execute_result"
    }
   ],
   "source": [
    "data = df[['r0', 'r1', 'r2', 'r3', 'r4', 'r5']].as_matrix()\n",
    "data[:5]"
   ]
  },
  {
   "cell_type": "code",
   "execution_count": 15,
   "metadata": {},
   "outputs": [
    {
     "data": {
      "text/plain": [
       "[array([4]),\n",
       " array([3, 4]),\n",
       " array([2, 3, 4]),\n",
       " array([1, 2, 3, 4]),\n",
       " array([0, 1, 2, 3, 4])]"
      ]
     },
     "execution_count": 15,
     "metadata": {},
     "output_type": "execute_result"
    }
   ],
   "source": [
    "cols_to_avg = [np.arange(5 - i, 5) for i in range(1, 6)]\n",
    "cols_to_avg"
   ]
  },
  {
   "cell_type": "code",
   "execution_count": 16,
   "metadata": {},
   "outputs": [
    {
     "data": {
      "text/plain": [
       "array([ 0.66666667,  1.        ,  1.        ,  0.66666667,  1.        ,\n",
       "        0.33333333,  1.        ,  1.        ,  1.        ,  1.        ,\n",
       "        1.        ,  1.        ,  1.        ,  0.66666667,  0.33333333,\n",
       "        1.        ,  0.66666667,  1.        ,  1.        ,  0.33333333,\n",
       "        1.        ,  1.        ,  1.        ,  1.        ,  1.        ,\n",
       "        1.        ,  1.        ,  0.66666667,  1.        ])"
      ]
     },
     "execution_count": 16,
     "metadata": {},
     "output_type": "execute_result"
    }
   ],
   "source": [
    "avgs = [data[:, cols].mean(axis=1) for cols in cols_to_avg]\n",
    "avgs[2]"
   ]
  },
  {
   "cell_type": "code",
   "execution_count": 17,
   "metadata": {},
   "outputs": [
    {
     "data": {
      "text/plain": [
       "array([ 1.,  1.,  1.,  1.,  1.,  0.,  1.,  1.,  1.,  1.,  1.,  1.,  1.,\n",
       "        1.,  0.,  1.,  1.,  1.,  1.,  0.,  1.,  1.,  1.,  1.,  1.,  1.,\n",
       "        1.,  1.,  1.])"
      ]
     },
     "execution_count": 17,
     "metadata": {},
     "output_type": "execute_result"
    }
   ],
   "source": [
    "predictions = np.round(avgs)\n",
    "predictions[2]"
   ]
  },
  {
   "cell_type": "code",
   "execution_count": 18,
   "metadata": {},
   "outputs": [
    {
     "data": {
      "text/plain": [
       "[0.7931034482758621,\n",
       " 0.7586206896551724,\n",
       " 0.7931034482758621,\n",
       " 0.8275862068965517,\n",
       " 0.7931034482758621]"
      ]
     },
     "execution_count": 18,
     "metadata": {},
     "output_type": "execute_result"
    }
   ],
   "source": [
    "n = data.shape[0]\n",
    "accuracies = [np.count_nonzero(pred == data[:, 5]) / n for pred in predictions]\n",
    "accuracies"
   ]
  },
  {
   "cell_type": "code",
   "execution_count": 19,
   "metadata": {},
   "outputs": [
    {
     "name": "stdout",
     "output_type": "stream",
     "text": [
      "Acc using last 1 columns: 0.7931034482758621\n",
      "Acc using last 2 columns: 0.7586206896551724\n",
      "Acc using last 3 columns: 0.7931034482758621\n",
      "Acc using last 4 columns: 0.8275862068965517\n",
      "Acc using last 5 columns: 0.7931034482758621\n"
     ]
    }
   ],
   "source": [
    "for k, accuracy in enumerate(accuracies):\n",
    "    print('Acc using last {} columns: {}'.format(k + 1, accuracy))"
   ]
  },
  {
   "cell_type": "markdown",
   "metadata": {},
   "source": [
    "Looks like averaging the last 4 answers was the best on this data with an accuracy of 0.8276."
   ]
  },
  {
   "cell_type": "markdown",
   "metadata": {
    "collapsed": true
   },
   "source": [
    "## Using BKT\n",
    "\n",
    "We used the C++ MKT implementation to make predictions on the same dataset:"
   ]
  },
  {
   "cell_type": "code",
   "execution_count": 20,
   "metadata": {},
   "outputs": [
    {
     "data": {
      "text/html": [
       "<div>\n",
       "<style>\n",
       "    .dataframe thead tr:only-child th {\n",
       "        text-align: right;\n",
       "    }\n",
       "\n",
       "    .dataframe thead th {\n",
       "        text-align: left;\n",
       "    }\n",
       "\n",
       "    .dataframe tbody tr th {\n",
       "        vertical-align: top;\n",
       "    }\n",
       "</style>\n",
       "<table border=\"1\" class=\"dataframe\">\n",
       "  <thead>\n",
       "    <tr style=\"text-align: right;\">\n",
       "      <th></th>\n",
       "      <th>correct</th>\n",
       "      <th>incorrect</th>\n",
       "    </tr>\n",
       "  </thead>\n",
       "  <tbody>\n",
       "    <tr>\n",
       "      <th>0</th>\n",
       "      <td>0.501260</td>\n",
       "      <td>0.498740</td>\n",
       "    </tr>\n",
       "    <tr>\n",
       "      <th>1</th>\n",
       "      <td>0.728502</td>\n",
       "      <td>0.271498</td>\n",
       "    </tr>\n",
       "    <tr>\n",
       "      <th>2</th>\n",
       "      <td>0.788275</td>\n",
       "      <td>0.211725</td>\n",
       "    </tr>\n",
       "    <tr>\n",
       "      <th>3</th>\n",
       "      <td>0.773382</td>\n",
       "      <td>0.226618</td>\n",
       "    </tr>\n",
       "    <tr>\n",
       "      <th>4</th>\n",
       "      <td>0.795927</td>\n",
       "      <td>0.204073</td>\n",
       "    </tr>\n",
       "  </tbody>\n",
       "</table>\n",
       "</div>"
      ],
      "text/plain": [
       "    correct  incorrect\n",
       "0  0.501260   0.498740\n",
       "1  0.728502   0.271498\n",
       "2  0.788275   0.211725\n",
       "3  0.773382   0.226618\n",
       "4  0.795927   0.204073"
      ]
     },
     "execution_count": 20,
     "metadata": {},
     "output_type": "execute_result"
    }
   ],
   "source": [
    "pred = pd.read_csv('pred.hmm', delimiter='\\t', header=None, names=['correct', 'incorrect'])\n",
    "pred.head()"
   ]
  },
  {
   "cell_type": "code",
   "execution_count": 29,
   "metadata": {},
   "outputs": [
    {
     "data": {
      "text/plain": [
       "0     1.0\n",
       "5     1.0\n",
       "10    1.0\n",
       "15    1.0\n",
       "20    1.0\n",
       "Name: correct, dtype: float64"
      ]
     },
     "execution_count": 29,
     "metadata": {},
     "output_type": "execute_result"
    }
   ],
   "source": [
    "bkt_predictions = np.round(pred['correct'][::5])\n",
    "bkt_predictions.head()"
   ]
  },
  {
   "cell_type": "code",
   "execution_count": 30,
   "metadata": {},
   "outputs": [
    {
     "data": {
      "text/plain": [
       "29"
      ]
     },
     "execution_count": 30,
     "metadata": {},
     "output_type": "execute_result"
    }
   ],
   "source": [
    "len(bkt_predictions)"
   ]
  },
  {
   "cell_type": "code",
   "execution_count": 32,
   "metadata": {},
   "outputs": [
    {
     "name": "stdout",
     "output_type": "stream",
     "text": [
      "BKT Accuracy: 0.8275862068965517\n"
     ]
    }
   ],
   "source": [
    "bkt_acc = np.count_nonzero(bkt_predictions == data[:, 5]) / n\n",
    "print('BKT Accuracy:', bkt_acc)"
   ]
  },
  {
   "cell_type": "markdown",
   "metadata": {},
   "source": [
    "So BKT did as well as averaging the last 4 predictions."
   ]
  }
 ],
 "metadata": {
  "kernelspec": {
   "display_name": "Python [default]",
   "language": "python",
   "name": "python3"
  },
  "language_info": {
   "codemirror_mode": {
    "name": "ipython",
    "version": 3
   },
   "file_extension": ".py",
   "mimetype": "text/x-python",
   "name": "python",
   "nbconvert_exporter": "python",
   "pygments_lexer": "ipython3",
   "version": "3.5.2"
  }
 },
 "nbformat": 4,
 "nbformat_minor": 2
}
